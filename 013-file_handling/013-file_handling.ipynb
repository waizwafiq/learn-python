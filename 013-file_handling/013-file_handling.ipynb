{
 "cells": [
  {
   "cell_type": "code",
   "execution_count": null,
   "metadata": {},
   "outputs": [],
   "source": [
    "with open('./samples/demofile.txt', 'r') as file:\n",
    "    for line in file:\n",
    "        print(type(line))"
   ]
  },
  {
   "cell_type": "markdown",
   "metadata": {},
   "source": [
    "## Question 1\n",
    "\n",
    "Write a Python program that reads data from a text file named `input.txt` and calculates the total number of words in the file. Then, write this count to a new text file named `word_count.txt`. Make sure to handle exceptions such as file not found errors and ensure proper file closure.\""
   ]
  },
  {
   "cell_type": "code",
   "execution_count": null,
   "metadata": {},
   "outputs": [],
   "source": []
  },
  {
   "cell_type": "markdown",
   "metadata": {},
   "source": [
    "## Question 2\n",
    "\n",
    "You have been given a text file named `data.txt` that contains a list of numbers, one per line. Your task is to write a Python program to read this file, calculate the sum of all the numbers in the file, and then save the result to another file named `result.txt`."
   ]
  },
  {
   "cell_type": "code",
   "execution_count": null,
   "metadata": {},
   "outputs": [],
   "source": []
  },
  {
   "cell_type": "markdown",
   "metadata": {},
   "source": [
    "## Question 3\n",
    "You are tasked with creating a Python program for a simple bank account management system that uses file handling to keep track of user account balances and generate monthly account statements. Your program should have the following functionalities:\n",
    "\n",
    "1. **Deposit funds:** Allow users to deposit funds into their existing accounts. Update the account balance in the \"bank_account.txt\" file accordingly. The changes of balance should be logged into the account statement.\n",
    "\n",
    "2. **Withdraw funds:** Allow users to withdraw funds from their existing accounts. Update the account balance in the \"bank_account.txt\" file accordingly. The changes of balance should be logged into the account statement.\n",
    "\n",
    "3. **Generate a monthly account statement:** Create a function that generates a monthly account statement for each account holder. The statement should include the following information:\n",
    "\n",
    "- Account Number\n",
    "- Account Holder's Name\n",
    "- Total Deposits made during the month\n",
    "- Total Withdrawals made during the month\n",
    "\n",
    "Save each account statement in a separate text file with a filename format like \"account_statement_<AccountNumber><Month><Year>.txt\"."
   ]
  },
  {
   "cell_type": "markdown",
   "metadata": {},
   "source": []
  },
  {
   "cell_type": "code",
   "execution_count": null,
   "metadata": {},
   "outputs": [],
   "source": []
  }
 ],
 "metadata": {
  "kernelspec": {
   "display_name": "python-tutorial",
   "language": "python",
   "name": "python3"
  },
  "language_info": {
   "codemirror_mode": {
    "name": "ipython",
    "version": 3
   },
   "file_extension": ".py",
   "mimetype": "text/x-python",
   "name": "python",
   "nbconvert_exporter": "python",
   "pygments_lexer": "ipython3",
   "version": "3.9.6"
  }
 },
 "nbformat": 4,
 "nbformat_minor": 2
}
