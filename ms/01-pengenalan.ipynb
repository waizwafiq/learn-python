{
 "cells": [
  {
   "cell_type": "code",
   "execution_count": null,
   "metadata": {},
   "outputs": [],
   "source": [
    "# Fungsi Cetak/Paparan/Output\n",
    "\n",
    "print(\"hello\")"
   ]
  },
  {
   "cell_type": "code",
   "execution_count": 4,
   "metadata": {},
   "outputs": [
    {
     "name": "stdout",
     "output_type": "stream",
     "text": [
      "WP Kuala Lumpur, Malaysia\n"
     ]
    }
   ],
   "source": [
    "# PEMBOLEHUBAH (Variable)\n",
    "\n",
    "x = 6\n",
    "y = 5.5972\n",
    "alamat = \"WP Kuala Lumpur, Malaysia\"\n",
    "\n",
    "print(alamat)"
   ]
  },
  {
   "cell_type": "code",
   "execution_count": null,
   "metadata": {},
   "outputs": [],
   "source": [
    "# PEMALAR (Constant)\n",
    "\n",
    "PI = 3.142"
   ]
  },
  {
   "cell_type": "code",
   "execution_count": null,
   "metadata": {},
   "outputs": [],
   "source": [
    "# JENIS DATA (Data Types)\n",
    "\n",
    "x = -5  # Integer (int)\n",
    "y = 1.22562  # Float (float)\n",
    "z = \"WP Kuala Lumpur, Malaysia\"  # String/Rentetan (str)\n",
    "a = False  # Boolean (bool)"
   ]
  },
  {
   "cell_type": "code",
   "execution_count": 9,
   "metadata": {},
   "outputs": [
    {
     "name": "stdout",
     "output_type": "stream",
     "text": [
      "Selamat Datang, Haziq!\n"
     ]
    }
   ],
   "source": [
    "# Fungsi Input\n",
    "\n",
    "nama = input(\"Masukkan nama anda\")\n",
    "\n",
    "# print(\"Selamat Datang,\", nama, \"!\")\n",
    "print(f\"Selamat Datang, {nama}!\")"
   ]
  },
  {
   "cell_type": "code",
   "execution_count": 12,
   "metadata": {},
   "outputs": [
    {
     "name": "stdout",
     "output_type": "stream",
     "text": [
      "Selamat Datang, Haziq! Umur anda selepas 5 tahun adalah 19 tahun!\n"
     ]
    }
   ],
   "source": [
    "# STRUKTUR KAWALAN LINEAR/JUJUKAN\n",
    "\n",
    "nama = input(\"Massukkan nama anda:\")\n",
    "umur = int(input(\"Masukkan umur anda:\"))\n",
    "\n",
    "print(f\"Selamat Datang, {nama}! Umur anda selepas 5 tahun adalah {umur + 5} tahun!\")\n",
    "# Selamat Datang, {Haziq}! Umur anda selepas 5 tahun adalah {19} tahun!"
   ]
  },
  {
   "cell_type": "code",
   "execution_count": 15,
   "metadata": {},
   "outputs": [
    {
     "name": "stdout",
     "output_type": "stream",
     "text": [
      "Anda boleh mengundi!\n"
     ]
    }
   ],
   "source": [
    "# STRUKTUR KAWALAN PILIHAN (DWIPILIHAN) (if-else)\n",
    "\n",
    "# Syarat untuk mengundi adalah 18 tahun dan ke atas.\n",
    "\n",
    "umur = int(input(\"Masukkan umur anda:\"))\n",
    "\n",
    "if umur >= 18:\n",
    "    print(\"Anda boleh mengundi!\")\n",
    "else:\n",
    "    print(\"Anda tidak boleh mengundi!\")"
   ]
  },
  {
   "cell_type": "code",
   "execution_count": 19,
   "metadata": {},
   "outputs": [
    {
     "name": "stdout",
     "output_type": "stream",
     "text": [
      "Gred: A\n"
     ]
    }
   ],
   "source": [
    "# STRUKTUR KAWALAN PILIHAN (PELBAGAI) (if-else-if)\n",
    "\n",
    "'''\n",
    "SENARAI GRED\n",
    "A: 85 - 100\n",
    "B: 70 - 84\n",
    "C: 60 - 69\n",
    "D: 50 - 59\n",
    "E: 40 - 49\n",
    "F: 0 - 39\n",
    "'''\n",
    "\n",
    "# Tentukan gred berdasarkan markah\n",
    "\n",
    "markah = int(input(\"Masukkan markah anda:\"))\n",
    "\n",
    "if markah >= 85:\n",
    "    print(\"Gred: A\")\n",
    "elif markah >= 70 and markah <= 84:\n",
    "    print(\"Gred: B\")\n",
    "elif markah >= 60 and markah <= 69:\n",
    "    print(\"Gred: C\")\n",
    "elif markah >= 50 and markah <= 59:\n",
    "    print(\"Gred: D\")\n",
    "elif markah >= 40 and markah <= 49:\n",
    "    print(\"Gred: E\")\n",
    "elif markah >= 0 and markah <= 39:\n",
    "    print(\"Gred: F\")"
   ]
  },
  {
   "cell_type": "code",
   "execution_count": 28,
   "metadata": {},
   "outputs": [
    {
     "name": "stdout",
     "output_type": "stream",
     "text": [
      "Gosok\n",
      "Gosok\n",
      "Gosok\n",
      "Gosok\n",
      "Gosok\n",
      "Gosok\n",
      "Gosok\n",
      "Gosok\n",
      "Gosok\n",
      "Gosok\n"
     ]
    }
   ],
   "source": [
    "# STRUKTUR KAWALAN ULANGAN (UNTUK)\n",
    "\n",
    "gosokan = 10\n",
    "\n",
    "for i in range(gosokan):\n",
    "    print(\"Gosok\")"
   ]
  },
  {
   "cell_type": "code",
   "execution_count": 32,
   "metadata": {},
   "outputs": [
    {
     "name": "stdout",
     "output_type": "stream",
     "text": [
      "0\n",
      "1\n",
      "3\n",
      "4\n",
      "5\n",
      "6\n",
      "7\n",
      "8\n",
      "9\n"
     ]
    }
   ],
   "source": [
    "# STRUKTUR KAWALAN ULANGAN (UNTUK)\n",
    "\n",
    "gosokan = 10\n",
    "\n",
    "for i in range(gosokan):\n",
    "    \n",
    "    if i == 2:\n",
    "        # continue --> skip ulangan (abaikan yang kat bawah)\n",
    "        continue\n",
    "\n",
    "    print(i)"
   ]
  },
  {
   "cell_type": "code",
   "execution_count": 34,
   "metadata": {},
   "outputs": [
    {
     "name": "stdout",
     "output_type": "stream",
     "text": [
      "0\n",
      "1\n"
     ]
    }
   ],
   "source": [
    "# STRUKTUR KAWALAN ULANGAN (UNTUK)\n",
    "\n",
    "gosokan = 10000000000000000\n",
    "\n",
    "for i in range(gosokan):\n",
    "    \n",
    "    if i == 2:\n",
    "        # break --> berhentikan ulangan\n",
    "        break\n",
    "\n",
    "    print(i)"
   ]
  },
  {
   "cell_type": "code",
   "execution_count": 46,
   "metadata": {},
   "outputs": [
    {
     "name": "stdout",
     "output_type": "stream",
     "text": [
      "Masih belum boleh undi.\n",
      "Setahun kemudian... Umur sekarang 15 tahun.\n",
      "--------------------------------------------------\n",
      "Masih belum boleh undi.\n",
      "Setahun kemudian... Umur sekarang 16 tahun.\n",
      "--------------------------------------------------\n",
      "Masih belum boleh undi.\n",
      "Setahun kemudian... Umur sekarang 17 tahun.\n",
      "--------------------------------------------------\n",
      "Masih belum boleh undi.\n",
      "Setahun kemudian... Umur sekarang 18 tahun.\n",
      "--------------------------------------------------\n",
      "yay! dah boleh undi!\n"
     ]
    }
   ],
   "source": [
    "# STRUKTUR KAWALAN PILIHAN (SELAGI)\n",
    "\n",
    "umur = 14\n",
    "\n",
    "while umur < 18:\n",
    "    print(\"Masih belum boleh undi.\")\n",
    "\n",
    "    umur += 1  # umur = umur + 1\n",
    "    print(f\"Setahun kemudian... Umur sekarang {umur} tahun.\")\n",
    "    print(50*\"-\")\n",
    "\n",
    "print(\"yay! dah boleh undi!\")"
   ]
  },
  {
   "cell_type": "code",
   "execution_count": 55,
   "metadata": {},
   "outputs": [
    {
     "name": "stdout",
     "output_type": "stream",
     "text": [
      "Selamat datang ke mesin ATM!\n",
      "--------------------------------------------------\n",
      "1. Deposit\n",
      "2. Keluarkan Duit\n",
      "3. Tanya Baki\n",
      "4. Exit\n",
      "Menu Keluarkan Duit\n",
      "Baki anda tidak mencukupi.\n",
      "--------------------------------------------------\n",
      "1. Deposit\n",
      "2. Keluarkan Duit\n",
      "3. Tanya Baki\n",
      "4. Exit\n",
      "Menu Keluarkan Duit\n",
      "Anda telah keluarkan RM150.00\n",
      "--------------------------------------------------\n",
      "1. Deposit\n",
      "2. Keluarkan Duit\n",
      "3. Tanya Baki\n",
      "4. Exit\n",
      "Baki dalam akaun: RM350.00\n",
      "--------------------------------------------------\n",
      "1. Deposit\n",
      "2. Keluarkan Duit\n",
      "3. Tanya Baki\n",
      "4. Exit\n",
      "Menu Keluarkan Duit\n",
      "Anda telah keluarkan RM350.00\n",
      "--------------------------------------------------\n",
      "1. Deposit\n",
      "2. Keluarkan Duit\n",
      "3. Tanya Baki\n",
      "4. Exit\n",
      "Baki dalam akaun: RM0.00\n",
      "--------------------------------------------------\n",
      "1. Deposit\n",
      "2. Keluarkan Duit\n",
      "3. Tanya Baki\n",
      "4. Exit\n",
      "Anda telah keluar daripada aplikasi.\n"
     ]
    }
   ],
   "source": [
    "# 1. MULA\n",
    "\n",
    "# 2. PAPARKAN \"Selamat datang ke mesin ATM!\"\n",
    "print(\"Selamat datang ke mesin ATM!\")\n",
    "\n",
    "# 3. SETKAN duit_dalam_akaun = 500\n",
    "duit_dalam_akaun = 500\n",
    "\n",
    "# 4. SELAGI Benar\n",
    "while True:\n",
    "\n",
    "    # PAPARKAN menu\n",
    "    print(50*\"-\")\n",
    "    print(\"1. Deposit\")\n",
    "    print(\"2. Keluarkan Duit\")\n",
    "    print(\"3. Tanya Baki\")\n",
    "    print(\"4. Exit\")\n",
    "\n",
    "    # MASUKKAN input_pengguna\n",
    "    input_pengguna = int(input(\"Kau nak buat apa?\"))\n",
    "\n",
    "    # JIKA input_pengguna == 1\n",
    "    if input_pengguna == 1:\n",
    "        \n",
    "        # PAPARKAN \"Menu Deposit\"\n",
    "        print(\"Menu Deposit\")\n",
    "\n",
    "        # MASUKKAN amaun duit yang ingin deposit\n",
    "        deposit = float(input(\"Nyatakan amaun duit yang anda ingin deposit:\"))\n",
    "\n",
    "        print(f\"Anda telah memasuki RM{deposit:.2f}\")\n",
    "\n",
    "        # PAPARKAN baki di dalam ATM + deposit\n",
    "        duit_dalam_akaun += deposit  # duit_dalam_akaun = duit_dalam_akaun + deposit\n",
    "\n",
    "    # JIKA input_pengguna == 2\n",
    "    elif input_pengguna == 2:\n",
    "\n",
    "        # PAPARKAN \"Menu Keluarkan Duit\"\n",
    "        print(\"Menu Keluarkan Duit\")\n",
    "\n",
    "        # MASUKKAN amaun duit yang ingin dikeluarkan\n",
    "        amaun_keluaran = float(input(\"Nyatakan amaun duit yang anda ingin keluarkan:\"))\n",
    "\n",
    "        # JIKA baki tidak mencukupi\n",
    "        if amaun_keluaran > duit_dalam_akaun:  \n",
    "            # PAPARKAN \"Baki anda tidak mencukupi\"\n",
    "            print(\"Baki anda tidak mencukupi.\")\n",
    "\n",
    "            # KEMBALI ke menu\n",
    "            continue\n",
    "        \n",
    "        # PAPARKAN baki di dalam akaun - amaun yang dikeluarkan\n",
    "        print(f\"Anda telah keluarkan RM{amaun_keluaran:.2f}\")\n",
    "        duit_dalam_akaun -= amaun_keluaran\n",
    "\n",
    "    # JIKA input_pengguna == 3\n",
    "    elif input_pengguna == 3:\n",
    "        # PAPARKAN baki dalam akaun\n",
    "        print(f\"Baki dalam akaun: RM{duit_dalam_akaun:.2f}\")\n",
    "\n",
    "    # JIKA input_pengguna == 4\n",
    "    elif input_pengguna == 4:\n",
    "        # PAPARKAN \"Anda telah keluar daripada aplikasi.\"\n",
    "        print(\"Anda telah keluar daripada aplikasi.\")\n",
    "        break\n",
    "\n",
    "    # TAMAT JIKA\n",
    "# 5. TAMAT SELAGI\n",
    "# 6. TAMAT\n"
   ]
  },
  {
   "cell_type": "code",
   "execution_count": null,
   "metadata": {},
   "outputs": [],
   "source": []
  }
 ],
 "metadata": {
  "kernelspec": {
   "display_name": "python-tutorial",
   "language": "python",
   "name": "python3"
  },
  "language_info": {
   "codemirror_mode": {
    "name": "ipython",
    "version": 3
   },
   "file_extension": ".py",
   "mimetype": "text/x-python",
   "name": "python",
   "nbconvert_exporter": "python",
   "pygments_lexer": "ipython3",
   "version": "3.9.6"
  },
  "orig_nbformat": 4
 },
 "nbformat": 4,
 "nbformat_minor": 2
}
