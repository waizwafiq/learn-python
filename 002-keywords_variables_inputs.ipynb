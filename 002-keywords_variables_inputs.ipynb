{
 "cells": [
  {
   "attachments": {},
   "cell_type": "markdown",
   "metadata": {},
   "source": [
    "**Chapter 2**\n",
    "# **Keywords, Variables, and Inputs**\n",
    "\n",
    "`by Codekelas.com`"
   ]
  },
  {
   "attachments": {},
   "cell_type": "markdown",
   "metadata": {},
   "source": [
    "## **Keywords**\n",
    "\n",
    "We cannot use a keyword as a **[variable](https://github.com/milaan9/01_Python_Introduction/blob/main/009_Python_Data_Types.ipynb)** name, function name (upcoming!) or any other identifier. They are used to define the syntax and structure of the Python language.\n",
    "\n",
    "In Python, keywords are **case sensitive** and **cannot** be used as variable names.\n",
    "\n",
    "There are **36** keywords as of Python 3.9. This number can vary slightly over the course of time with new versions of Python.\n",
    "\n",
    "All the keywords except **`True`**, **`False`** and **`None`** are in lowercase and they must be written as they are. The **[list of all the keywords](https://github.com/milaan9/01_Python_Introduction/blob/main/Python_Keywords_List.ipynb)** is given below."
   ]
  },
  {
   "attachments": {},
   "cell_type": "markdown",
   "metadata": {},
   "source": [
    "**Keywords in Python**\n",
    "\n",
    "|     |     |     |     |\n",
    "|:----|:----|:----|:----|\n",
    "| **`False`** | **`break`** | **`for`** | **`not`** |\n",
    "| **`None`**  | **`class`** | **`from`** | **`or`** |\n",
    "| **`True`**  | **`continue`** | **`global`** | **`pass`** |\n",
    "| **`__peg_parser__`** |**`def`** | **`if`** | **`raise`** |\n",
    "| **`and`** | **`del`** | **`import`** | **`return`** |\n",
    "| **`as`** | **`elif`** | **`in`** | **`try`** |\n",
    "| **`assert`** | **`else`** | **`is`** | **`while`** |\n",
    "| **`async`** | **`except`** | **`lambda`** | **`with`** |\n",
    "| **`await`** | **`finally`** | **`nonlocal`** |  **`yield`**  |"
   ]
  },
  {
   "attachments": {},
   "cell_type": "markdown",
   "metadata": {},
   "source": [
    "## **Variables and Identifiers**\n",
    "In Python, the words \"variables\" and \"identifiers\" are interchangable. It is like a container to store and hold **values** that can be changed later in the program.\n",
    "\n",
    "To assign a value to a variable, we'll use this format: *`variable`* `=` *`value`*\n",
    "\n",
    "The equal sign `=` is known as the **assign operator**."
   ]
  },
  {
   "cell_type": "code",
   "execution_count": 4,
   "metadata": {},
   "outputs": [
    {
     "name": "stdout",
     "output_type": "stream",
     "text": [
      "Value of yippie: 90\n"
     ]
    }
   ],
   "source": [
    "yippie = 90\n",
    "print('Value of yippie:', yippie)"
   ]
  },
  {
   "attachments": {},
   "cell_type": "markdown",
   "metadata": {},
   "source": [
    "We have created a variable called `yippie`, and we assigned the value `90` to that variable. So, `yippie` now holds the value `90`.\n",
    "\n",
    "However, we can change the value stored in that variable by doing as below."
   ]
  },
  {
   "cell_type": "code",
   "execution_count": 3,
   "metadata": {},
   "outputs": [
    {
     "name": "stdout",
     "output_type": "stream",
     "text": [
      "Value of yippie: 100\n"
     ]
    }
   ],
   "source": [
    "yippie = 90\n",
    "yippie = 100\n",
    "print('Value of yippie:', yippie)"
   ]
  },
  {
   "attachments": {},
   "cell_type": "markdown",
   "metadata": {},
   "source": [
    "Initially, `yippie` holds the value `90`. But now, it holds the value `100`.\n",
    "\n",
    "> **FYI:** In Python, we don't actually assign values to the variables. Instead, Python gives the reference of the object (value) to the variable."
   ]
  },
  {
   "attachments": {},
   "cell_type": "markdown",
   "metadata": {},
   "source": [
    "We can use other names to create a variable as long as it follows the rules below:\n",
    "\n",
    "**Python Variable Name Rules**\n",
    "- A variable name must start with a **letter A-z** or the **underscore _** character.\n",
    "- A variable name **cannot** start with a number 0-9.\n",
    "- A variable name **cannot** be a reserved keyword.\n",
    "- A variable name can **only contain alpha-numeric characters** and underscores (`A-z`, `0-9`, and `_` ).\n",
    "- Variable names are **case-sensitive** (`firstname`, `Firstname`, `FirstName` and `FIRSTNAME` are different variables). It is recommended to use lowercase letters for variable name.\n",
    "\n",
    "Additionally, it is best to **practice using variable names that make sense**. For example, `age = 40` would make much more sense than `a = 40`."
   ]
  },
  {
   "attachments": {},
   "cell_type": "markdown",
   "metadata": {},
   "source": [
    "The variable names below are **VALID**:\n",
    "- `firstname`\n",
    "- `lastname`\n",
    "- `age`\n",
    "- `country`\n",
    "- `city`\n",
    "- `first_name`\n",
    "- `last_name`\n",
    "- `capital_city`\n",
    "- `_if          `\n",
    "- `year_2021`\n",
    "- `year2021`\n",
    "- `current_year_2021`\n",
    "- `birth_year`\n",
    "- `num1`\n",
    "- `num2`\n",
    "\n",
    "While these variables names are **INVALID**:\n",
    "- `first-name` (due to `-`)\n",
    "- `first@name` (due to `@`)\n",
    "- `first$name` (due to `$`)\n",
    "- `num-1` (due to `-`)\n",
    "- `1num` (due to starting with a number `1`)\n",
    "\n",
    "Below are the naming conventions by most developers:\n",
    "- `snake_case`\n",
    "- `MACRO_CASE` (usually used to represent constants)\n",
    "- `camelCase`\n",
    "- `CapWords`"
   ]
  },
  {
   "attachments": {},
   "cell_type": "markdown",
   "metadata": {},
   "source": [
    "### **Example 1**\n",
    "Assigning multiple values to multiple variables respectively."
   ]
  },
  {
   "cell_type": "code",
   "execution_count": 5,
   "metadata": {},
   "outputs": [
    {
     "name": "stdout",
     "output_type": "stream",
     "text": [
      "Value of var1: 56\n",
      "Value of var2: 12.43\n",
      "Value of var3: test\n",
      "Value of var4: True\n"
     ]
    }
   ],
   "source": [
    "var1 = 56\n",
    "var2 = 12.43\n",
    "var3 = 'test'\n",
    "var4 = True\n",
    "print(\"Value of var1:\", var1)\n",
    "print(\"Value of var2:\", var2)\n",
    "print(\"Value of var3:\", var3)\n",
    "print(\"Value of var4:\", var4)"
   ]
  },
  {
   "attachments": {},
   "cell_type": "markdown",
   "metadata": {},
   "source": [
    "### **Example 2**\n",
    "Assigning multiple values to multiple variables respectively **using a single line**.\n",
    "\n",
    "This is an alternative way to *Example 1*. It is **efficient**, but you don't have to do it every time as it can make your code **less readable** for others."
   ]
  },
  {
   "attachments": {},
   "cell_type": "markdown",
   "metadata": {},
   "source": [
    "Using commas `,`"
   ]
  },
  {
   "cell_type": "code",
   "execution_count": 6,
   "metadata": {},
   "outputs": [
    {
     "name": "stdout",
     "output_type": "stream",
     "text": [
      "Value of var1: 56\n",
      "Value of var2: 12.43\n",
      "Value of var3: test\n",
      "Value of var4: True\n"
     ]
    }
   ],
   "source": [
    "var1, var2, var3, var4 = 56, 12.43, 'test', True\n",
    "print(\"Value of var1:\", var1)\n",
    "print(\"Value of var2:\", var2)\n",
    "print(\"Value of var3:\", var3)\n",
    "print(\"Value of var4:\", var4)"
   ]
  },
  {
   "attachments": {},
   "cell_type": "markdown",
   "metadata": {},
   "source": [
    "OR by using semicolons `;`"
   ]
  },
  {
   "cell_type": "code",
   "execution_count": 7,
   "metadata": {},
   "outputs": [
    {
     "name": "stdout",
     "output_type": "stream",
     "text": [
      "Value of var1: 56\n",
      "Value of var2: 12.43\n",
      "Value of var3: test\n",
      "Value of var4: True\n"
     ]
    }
   ],
   "source": [
    "var1 = 56; var2 = 12.43; var3 = 'test'; var4 = True\n",
    "print(\"Value of var1:\", var1)\n",
    "print(\"Value of var2:\", var2)\n",
    "print(\"Value of var3:\", var3)\n",
    "print(\"Value of var4:\", var4)"
   ]
  },
  {
   "attachments": {},
   "cell_type": "markdown",
   "metadata": {},
   "source": [
    "### **Example 3**\n",
    "\n",
    "Assigning the same value to multiple/chained variables at once."
   ]
  },
  {
   "cell_type": "code",
   "execution_count": 9,
   "metadata": {},
   "outputs": [
    {
     "name": "stdout",
     "output_type": "stream",
     "text": [
      "Value of var1: waaahoooo\n",
      "Value of var2: waaahoooo\n",
      "Value of var3: waaahoooo\n"
     ]
    }
   ],
   "source": [
    "var1 = var2 = var3 = \"waaahoooo\"\n",
    "print(\"Value of var1:\", var1)\n",
    "print(\"Value of var2:\", var2)\n",
    "print(\"Value of var3:\", var3)"
   ]
  },
  {
   "attachments": {},
   "cell_type": "markdown",
   "metadata": {},
   "source": [
    "### **Example 4**\n",
    "\n",
    "Assigning a variable with the value stored in another variable."
   ]
  },
  {
   "cell_type": "code",
   "execution_count": 12,
   "metadata": {},
   "outputs": [
    {
     "name": "stdout",
     "output_type": "stream",
     "text": [
      "Value of var1: 34\n",
      "Value of var2: 50.24\n"
     ]
    }
   ],
   "source": [
    "var1 = 50.24\n",
    "var2 = var1  # Assigning the value 50.24 (which var1 holds) into var2\n",
    "\n",
    "var1 = 34 # Changing the value stored in var1 to 34\n",
    "\n",
    "print(\"Value of var1:\", var1)\n",
    "print(\"Value of var2:\", var2)"
   ]
  },
  {
   "cell_type": "markdown",
   "metadata": {},
   "source": [
    "### **Example 5**\n",
    "\n",
    "An alternative of using `print()` with a variable is by using \"String Formatting\"."
   ]
  },
  {
   "cell_type": "code",
   "execution_count": null,
   "metadata": {},
   "outputs": [],
   "source": [
    "# Formatting Method 1 (easiest and the most common)\n",
    "name = \"Waiz\"\n",
    "age = 84\n",
    "\n",
    "print(f\"My name is {name}! I am {age} years old!\")"
   ]
  },
  {
   "cell_type": "code",
   "execution_count": 3,
   "metadata": {},
   "outputs": [
    {
     "name": "stdout",
     "output_type": "stream",
     "text": [
      "My name is Waiz! I am 84 years old!\n",
      "My name is Waiz! I am 84 years old!\n"
     ]
    }
   ],
   "source": [
    "# Formatting Methods 2 (hardest and less common)\n",
    "name = \"Waiz\"\n",
    "age = 84\n",
    "\n",
    "print(\"My name is {}! I am {} years old!\".format(name, age))\n",
    "print(\"My name is {a}! I am {b} years old!\".format(a=name, b=age))"
   ]
  },
  {
   "cell_type": "markdown",
   "metadata": {},
   "source": [
    "## **Inputs and User Prompting**\n",
    "`input(prompt)` prompts for and returns input as a string. Hence, if the user inputs a integer, the code should convert the string to an integer and then proceed."
   ]
  },
  {
   "cell_type": "code",
   "execution_count": null,
   "metadata": {},
   "outputs": [],
   "source": [
    "name = input(\"Enter Student Name: \")  # Stores the inputted value into that variable\n",
    "major = input(\"Enter Major: \")\n",
    "university = input(\"Enter University: \")\n",
    "\n",
    "print(\"\\n\")\n",
    "print(\"Printing Student Details\")\n",
    "print(\"Name\", \"Major\", \"University\")\n",
    "print(name, major, university)"
   ]
  },
  {
   "cell_type": "markdown",
   "metadata": {},
   "source": [
    "## **Data Types**"
   ]
  },
  {
   "cell_type": "markdown",
   "metadata": {},
   "source": [
    "### **1. Integers (`int`)**\n",
    "\n",
    "An integer is a whole number without any fractional part (decimals). It can be positive, negative, or zero. In Python, integers are represented using the `int` data type."
   ]
  },
  {
   "cell_type": "markdown",
   "metadata": {},
   "source": [
    "In Python, we can determine the data type of a variable by using the `type()` function (built-in)."
   ]
  },
  {
   "cell_type": "code",
   "execution_count": null,
   "metadata": {},
   "outputs": [
    {
     "name": "stdout",
     "output_type": "stream",
     "text": [
      "<class 'int'>\n"
     ]
    }
   ],
   "source": [
    "a = 3\n",
    "print(type(a))"
   ]
  },
  {
   "cell_type": "markdown",
   "metadata": {},
   "source": [
    "`<class 'int'>` means that the variable `a` is holding a class/object (aka data type) called 'int'."
   ]
  },
  {
   "cell_type": "code",
   "execution_count": null,
   "metadata": {},
   "outputs": [
    {
     "name": "stdout",
     "output_type": "stream",
     "text": [
      "<class 'int'>\n"
     ]
    }
   ],
   "source": [
    "a = 3\n",
    "print(type(a))"
   ]
  },
  {
   "cell_type": "markdown",
   "metadata": {},
   "source": [
    "### **2. Floating Numbers (`float`)**\n",
    "\n",
    "A float is a number that includes a fractional part, also known as decimals. It represents real numbers and is useful for handling values with decimal places. In Python, floats are represented using the `float` data type."
   ]
  },
  {
   "cell_type": "code",
   "execution_count": null,
   "metadata": {},
   "outputs": [
    {
     "name": "stdout",
     "output_type": "stream",
     "text": [
      "<class 'float'>\n"
     ]
    }
   ],
   "source": [
    "a = 3.5\n",
    "print(type(a))"
   ]
  },
  {
   "cell_type": "markdown",
   "metadata": {},
   "source": [
    "The code below shows the way to print a decimal value rounded up to 3 decimal places."
   ]
  },
  {
   "cell_type": "code",
   "execution_count": null,
   "metadata": {},
   "outputs": [
    {
     "name": "stdout",
     "output_type": "stream",
     "text": [
      "The value of a =  53.513\n"
     ]
    }
   ],
   "source": [
    "a = 53.5128\n",
    "\n",
    "print(f\"The value of a = {a: .3f}\")  # f means float here"
   ]
  },
  {
   "cell_type": "markdown",
   "metadata": {},
   "source": [
    "### **3. Strings/Text (`str`)**\n",
    "A string is a sequence of characters enclosed within single quotes (`'`) or double quotes (`\"`). It is commonly used to represent text in Python. Strings are represented using the `str` data type."
   ]
  },
  {
   "cell_type": "code",
   "execution_count": null,
   "metadata": {},
   "outputs": [
    {
     "name": "stdout",
     "output_type": "stream",
     "text": [
      "<class 'str'>\n"
     ]
    }
   ],
   "source": [
    "a = 'yippie yahoo'\n",
    "print(type(a))"
   ]
  },
  {
   "cell_type": "markdown",
   "metadata": {},
   "source": [
    "### **4. Boolean (`bool`)**\n",
    "\n",
    "A boolean data type represents one of two possible values: `True` or `False`. Booleans are often used for conditional expressions and logical operations. In Python, boolean values are represented using the `bool` data type.\n",
    "\n",
    "Booleans are usually fetched from conditional operators (comparison, logical, etc.) which we'll cover in *Chapter 4: Operators*."
   ]
  },
  {
   "cell_type": "code",
   "execution_count": null,
   "metadata": {},
   "outputs": [
    {
     "name": "stdout",
     "output_type": "stream",
     "text": [
      "<class 'bool'>\n"
     ]
    }
   ],
   "source": [
    "a = True\n",
    "print(type(a))"
   ]
  },
  {
   "cell_type": "markdown",
   "metadata": {},
   "source": [
    "### **5. None Types (`NoneType`)**\n",
    "The `None` type represents the absence of a value or the lack of a specific data type. It is commonly used to indicate the absence of a meaningful value or when a variable has not been assigned a value yet. In Python, `None` is represented using the `NoneType` data type."
   ]
  },
  {
   "cell_type": "code",
   "execution_count": null,
   "metadata": {},
   "outputs": [
    {
     "name": "stdout",
     "output_type": "stream",
     "text": [
      "<class 'NoneType'>\n"
     ]
    }
   ],
   "source": [
    "a = None\n",
    "print(type(a))"
   ]
  },
  {
   "cell_type": "markdown",
   "metadata": {},
   "source": [
    "## **Typecasting in Python**\n",
    "\n",
    "Type casting, also known as **type conversion**, refers to the process of changing the data type of a value from one type to another. Python provides built-in functions that allow you to perform type casting operations. This guide will cover the following type casting operations in Python:"
   ]
  },
  {
   "cell_type": "markdown",
   "metadata": {},
   "source": [
    "### **1. Implicit Typecasting**\n",
    "\n",
    "Python automatically performs implicit type conversions in certain situations to accommodate operations involving different data types. For example, when performing arithmetic operations between integers and floats, Python will implicitly convert the integer to a float to preserve the decimal part of the result. "
   ]
  },
  {
   "cell_type": "code",
   "execution_count": null,
   "metadata": {},
   "outputs": [
    {
     "data": {
      "text/plain": [
       "5.5"
      ]
     },
     "metadata": {},
     "output_type": "display_data"
    }
   ],
   "source": [
    "a = 3      # integer\n",
    "b = 2.5    # float\n",
    "\n",
    "result = a + b   # Implicitly converts 'a' to float: 3.0 + 2.5 = 5.5\n",
    "result"
   ]
  },
  {
   "cell_type": "code",
   "execution_count": null,
   "metadata": {},
   "outputs": [
    {
     "data": {
      "text/plain": [
       "1.5"
      ]
     },
     "metadata": {},
     "output_type": "display_data"
    }
   ],
   "source": [
    "a = 3    # integer\n",
    "b = 2    # integer\n",
    "\n",
    "result = a / b   # Implicitly converts 'a' and 'b' to float: 3.0 / 2.0 = 1.5\n",
    "result"
   ]
  },
  {
   "cell_type": "markdown",
   "metadata": {},
   "source": [
    "### **2. Explicit Typecasting**\n",
    "\n",
    "Explicit type conversion is performed using built-in functions that specifically convert a value from one data type to another. Here are the commonly used explicit type casting functions in Python:"
   ]
  },
  {
   "cell_type": "code",
   "execution_count": null,
   "metadata": {},
   "outputs": [
    {
     "data": {
      "text/plain": [
       "3"
      ]
     },
     "metadata": {},
     "output_type": "display_data"
    }
   ],
   "source": [
    "a = 3.7\n",
    "b = int(a)   # Explicitly converts 'a' to an integer: 3\n",
    "b"
   ]
  },
  {
   "cell_type": "code",
   "execution_count": null,
   "metadata": {},
   "outputs": [
    {
     "data": {
      "text/plain": [
       "5.0"
      ]
     },
     "metadata": {},
     "output_type": "display_data"
    }
   ],
   "source": [
    "a = 5\n",
    "b = float(a)   # Explicitly converts 'a' to a float: 5.0\n",
    "b"
   ]
  },
  {
   "cell_type": "code",
   "execution_count": null,
   "metadata": {},
   "outputs": [
    {
     "data": {
      "text/plain": [
       "'42'"
      ]
     },
     "metadata": {},
     "output_type": "display_data"
    }
   ],
   "source": [
    "a = 42\n",
    "b = str(a)   # Explicitly converts 'a' to a string: \"42\"\n",
    "b"
   ]
  },
  {
   "cell_type": "code",
   "execution_count": null,
   "metadata": {},
   "outputs": [
    {
     "data": {
      "text/plain": [
       "False"
      ]
     },
     "metadata": {},
     "output_type": "display_data"
    }
   ],
   "source": [
    "a = 0\n",
    "b = bool(a)   # Explicitly converts 'a' to a boolean: False\n",
    "b"
   ]
  },
  {
   "cell_type": "code",
   "execution_count": null,
   "metadata": {},
   "outputs": [
    {
     "data": {
      "text/plain": [
       "(2+3j)"
      ]
     },
     "metadata": {},
     "output_type": "display_data"
    }
   ],
   "source": [
    "a = 2\n",
    "b = 3\n",
    "c = complex(a, b)   # Creates a complex number: 2 + 3j\n",
    "c"
   ]
  },
  {
   "attachments": {},
   "cell_type": "markdown",
   "metadata": {},
   "source": [
    "# **PRACTICE TIME!**"
   ]
  },
  {
   "attachments": {},
   "cell_type": "markdown",
   "metadata": {},
   "source": [
    "**(a)** Write a Python program that prompts the user to enter their name and age. Store the name in a variable called name and the age in a variable called age. Finally, print a message that says `\"Hello, [name]! You are [age] years old.\"`"
   ]
  },
  {
   "cell_type": "code",
   "execution_count": null,
   "metadata": {},
   "outputs": [],
   "source": []
  },
  {
   "attachments": {},
   "cell_type": "markdown",
   "metadata": {},
   "source": [
    "**(b)** Write a Python program to swap the values of two variables. Prompt the user to enter two values and store them in variables `a` and `b`. Swap the values between `a` and `b` without using a temporary variable. Finally, print the updated values of `a` and `b`."
   ]
  },
  {
   "cell_type": "code",
   "execution_count": null,
   "metadata": {},
   "outputs": [],
   "source": []
  }
 ],
 "metadata": {
  "kernelspec": {
   "display_name": "python-tutorial",
   "language": "python",
   "name": "python3"
  },
  "language_info": {
   "codemirror_mode": {
    "name": "ipython",
    "version": 3
   },
   "file_extension": ".py",
   "mimetype": "text/x-python",
   "name": "python",
   "nbconvert_exporter": "python",
   "pygments_lexer": "ipython3",
   "version": "3.9.6"
  },
  "orig_nbformat": 4
 },
 "nbformat": 4,
 "nbformat_minor": 2
}
