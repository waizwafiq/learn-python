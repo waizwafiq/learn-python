{
 "cells": [
  {
   "cell_type": "code",
   "execution_count": 15,
   "metadata": {},
   "outputs": [],
   "source": [
    "# QUESTION 1\n",
    "\n",
    "file = open('Cities.txt', 'r')\n",
    "\n",
    "capital_cities = file.readlines()\n",
    "\n",
    "count = 1\n",
    "output = ''\n",
    "for i in capital_cities:\n",
    "    output += f\"{count} {i}\"\n",
    "    count += 1\n",
    "    \n",
    "file.close()\n",
    "\n",
    "\n",
    "file = open('Numbered.txt', 'w')\n",
    "file.write(output)\n",
    "file.close()"
   ]
  },
  {
   "cell_type": "code",
   "execution_count": null,
   "metadata": {},
   "outputs": [],
   "source": [
    "# Question 2\n",
    "\n"
   ]
  },
  {
   "cell_type": "code",
   "execution_count": 53,
   "metadata": {},
   "outputs": [
    {
     "name": "stdout",
     "output_type": "stream",
     "text": [
      "--------------------------------------------------\n",
      "Number of attempts left: 6\n",
      "You have guessed: snake\n",
      "Correct letters: {'a'}\n",
      "Incorrect letters: {'s', 'e', 'n', 'k'}\n",
      "--------------------------------------------------\n",
      "Number of attempts left: 5\n",
      "You have guessed: caracal\n",
      "Correct letters: {'a', 'c'}\n",
      "Incorrect letters: {'s', 'k', 'l', 'r', 'n', 'e'}\n",
      "--------------------------------------------------\n",
      "Number of attempts left: 4\n",
      "You have guessed: bear\n",
      "Correct letters: {'a', 'c'}\n",
      "Incorrect letters: {'s', 'k', 'l', 'r', 'b', 'n', 'e'}\n",
      "--------------------------------------------------\n",
      "Number of attempts left: 3\n",
      "You have guessed: cat\n",
      "You have successfully guess the secret word!\n"
     ]
    }
   ],
   "source": [
    "# Question 4\n",
    "import random\n",
    "\n",
    "animals = ['cat', 'dog', 'tiger', 'bear', 'caracal', 'fish', 'snake']\n",
    "\n",
    "secret_word = random.choice(animals)\n",
    "number_of_attempts = len(secret_word) + 3\n",
    "\n",
    "correct_letters = set([])\n",
    "incorrect_letters = set([])\n",
    "for attempts in range(number_of_attempts):\n",
    "    print(50*'-')\n",
    "    print(f\"Number of attempts left: {number_of_attempts - attempts}\")\n",
    "\n",
    "    # User makes a guess\n",
    "    guess = input('Take a guess: ')\n",
    "    for i in guess:\n",
    "        if i in secret_word:\n",
    "            correct_letters.add(i)\n",
    "        else:\n",
    "            incorrect_letters.add(i)\n",
    "            \n",
    "            \n",
    "    print(f\"You have guessed: {guess}\")\n",
    "    if guess == secret_word:\n",
    "        print(\"You have successfully guess the secret word!\")\n",
    "        break\n",
    "    \n",
    "    print(f'Correct letters: {correct_letters}')\n",
    "    print(f'Incorrect letters: {incorrect_letters}')\n",
    "    "
   ]
  }
 ],
 "metadata": {
  "kernelspec": {
   "display_name": "learn-python-env",
   "language": "python",
   "name": "python3"
  },
  "language_info": {
   "codemirror_mode": {
    "name": "ipython",
    "version": 3
   },
   "file_extension": ".py",
   "mimetype": "text/x-python",
   "name": "python",
   "nbconvert_exporter": "python",
   "pygments_lexer": "ipython3",
   "version": "3.10.10"
  }
 },
 "nbformat": 4,
 "nbformat_minor": 2
}
