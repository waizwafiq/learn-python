{
 "cells": [
  {
   "attachments": {},
   "cell_type": "markdown",
   "metadata": {},
   "source": [
    "**Chapter 2**\n",
    "# **Keywords, Variables and Identifiers**\n",
    "\n",
    "`by Tutor Waiz (Afterkelas.com)`"
   ]
  },
  {
   "attachments": {},
   "cell_type": "markdown",
   "metadata": {},
   "source": [
    "## **Keywords**\n",
    "\n",
    "We cannot use a keyword as a **[variable](https://github.com/milaan9/01_Python_Introduction/blob/main/009_Python_Data_Types.ipynb)** name, function name (upcoming!) or any other identifier. They are used to define the syntax and structure of the Python language.\n",
    "\n",
    "In Python, keywords are **case sensitive** and **cannot** be used as variable names.\n",
    "\n",
    "There are **36** keywords as of Python 3.9. This number can vary slightly over the course of time with new versions of Python.\n",
    "\n",
    "All the keywords except **`True`**, **`False`** and **`None`** are in lowercase and they must be written as they are. The **[list of all the keywords](https://github.com/milaan9/01_Python_Introduction/blob/main/Python_Keywords_List.ipynb)** is given below."
   ]
  },
  {
   "attachments": {},
   "cell_type": "markdown",
   "metadata": {},
   "source": [
    "**Keywords in Python**\n",
    "\n",
    "|     |     |     |     |\n",
    "|:----|:----|:----|:----|\n",
    "| **`False`** | **`break`** | **`for`** | **`not`** |\n",
    "| **`None`**  | **`class`** | **`from`** | **`or`** |\n",
    "| **`True`**  | **`continue`** | **`global`** | **`pass`** |\n",
    "| **`__peg_parser__`** |**`def`** | **`if`** | **`raise`** |\n",
    "| **`and`** | **`del`** | **`import`** | **`return`** |\n",
    "| **`as`** | **`elif`** | **`in`** | **`try`** |\n",
    "| **`assert`** | **`else`** | **`is`** | **`while`** |\n",
    "| **`async`** | **`except`** | **`lambda`** | **`with`** |\n",
    "| **`await`** | **`finally`** | **`nonlocal`** |  **`yield`**  |"
   ]
  },
  {
   "attachments": {},
   "cell_type": "markdown",
   "metadata": {},
   "source": [
    "## **Variables and Identifies**\n",
    "In Python, the words \"variables\" and \"identifiers\" are interchangable. It is like a container to store and hold **values** that can be changed later in the program.\n",
    "\n",
    "To assign a value to a variable, we'll use this format: *`variable`* `=` *`value`*\n",
    "\n",
    "The equal sign `=` is known as the **assign operator**."
   ]
  },
  {
   "cell_type": "code",
   "execution_count": 4,
   "metadata": {},
   "outputs": [
    {
     "name": "stdout",
     "output_type": "stream",
     "text": [
      "Value of yippie: 90\n"
     ]
    }
   ],
   "source": [
    "yippie = 90\n",
    "print('Value of yippie:', yippie)"
   ]
  },
  {
   "attachments": {},
   "cell_type": "markdown",
   "metadata": {},
   "source": [
    "We have created a variable called `yippie`, and we assigned the value `90` to that variable. So, `yippie` now holds the value `90`.\n",
    "\n",
    "However, we can change the value stored in that variable by doing as below."
   ]
  },
  {
   "cell_type": "code",
   "execution_count": 3,
   "metadata": {},
   "outputs": [
    {
     "name": "stdout",
     "output_type": "stream",
     "text": [
      "Value of yippie: 100\n"
     ]
    }
   ],
   "source": [
    "yippie = 90\n",
    "yippie = 100\n",
    "print('Value of yippie:', yippie)"
   ]
  },
  {
   "attachments": {},
   "cell_type": "markdown",
   "metadata": {},
   "source": [
    "Initially, `yippie` holds the value `90`. But now, it holds the value `100`.\n",
    "\n",
    "> **FYI:** In Python, we don't actually assign values to the variables. Instead, Python gives the reference of the object (value) to the variable."
   ]
  },
  {
   "attachments": {},
   "cell_type": "markdown",
   "metadata": {},
   "source": [
    "We can use other names to create a variable as long as it follows the rules below:\n",
    "\n",
    "**Python Variable Name Rules**\n",
    "- A variable name must start with a **letter A-z** or the **underscore _** character.\n",
    "- A variable name **cannot** start with a number 0-9.\n",
    "- A variable name **cannot** be a reserved keyword.\n",
    "- A variable name can **only contain alpha-numeric characters** and underscores (`A-z`, `0-9`, and `_` ).\n",
    "- Variable names are **case-sensitive** (`firstname`, `Firstname`, `FirstName` and `FIRSTNAME` are different variables). It is recommended to use lowercase letters for variable name.\n",
    "\n",
    "Additionally, it is best to **practice using variable names that make sense**. For example, `age = 40` would make much more sense than `a = 40`."
   ]
  },
  {
   "attachments": {},
   "cell_type": "markdown",
   "metadata": {},
   "source": [
    "The variable names below are **VALID**:\n",
    "- `firstname`\n",
    "- `lastname`\n",
    "- `age`\n",
    "- `country`\n",
    "- `city`\n",
    "- `first_name`\n",
    "- `last_name`\n",
    "- `capital_city`\n",
    "- `_if          `\n",
    "- `year_2021`\n",
    "- `year2021`\n",
    "- `current_year_2021`\n",
    "- `birth_year`\n",
    "- `num1`\n",
    "- `num2`\n",
    "\n",
    "While these variables names are **INVALID**:\n",
    "- `first-name` (due to `-`)\n",
    "- `first@name` (due to `@`)\n",
    "- `first$name` (due to `$`)\n",
    "- `num-1` (due to `-`)\n",
    "- `1num` (due to starting with a number `1`)\n",
    "\n",
    "Below are the naming conventions by most developers:\n",
    "- `snake_case`\n",
    "- `MACRO_CASE` (usually used to represent constants)\n",
    "- `camelCase`\n",
    "- `CapWords`"
   ]
  },
  {
   "attachments": {},
   "cell_type": "markdown",
   "metadata": {},
   "source": [
    "## **Example 1**\n",
    "Assigning multiple values to multiple variables respectively."
   ]
  },
  {
   "cell_type": "code",
   "execution_count": 5,
   "metadata": {},
   "outputs": [
    {
     "name": "stdout",
     "output_type": "stream",
     "text": [
      "Value of var1: 56\n",
      "Value of var2: 12.43\n",
      "Value of var3: test\n",
      "Value of var4: True\n"
     ]
    }
   ],
   "source": [
    "var1 = 56\n",
    "var2 = 12.43\n",
    "var3 = 'test'\n",
    "var4 = True\n",
    "print(\"Value of var1:\", var1)\n",
    "print(\"Value of var2:\", var2)\n",
    "print(\"Value of var3:\", var3)\n",
    "print(\"Value of var4:\", var4)"
   ]
  },
  {
   "attachments": {},
   "cell_type": "markdown",
   "metadata": {},
   "source": [
    "## **Example 2**\n",
    "Assigning multiple values to multiple variables respectively **using a single line**.\n",
    "\n",
    "This is an alternative way to *Example 1*. It is **efficient**, but you don't have to do it every time as it can make your code **less readable** for others."
   ]
  },
  {
   "attachments": {},
   "cell_type": "markdown",
   "metadata": {},
   "source": [
    "Using commas `,`"
   ]
  },
  {
   "cell_type": "code",
   "execution_count": 6,
   "metadata": {},
   "outputs": [
    {
     "name": "stdout",
     "output_type": "stream",
     "text": [
      "Value of var1: 56\n",
      "Value of var2: 12.43\n",
      "Value of var3: test\n",
      "Value of var4: True\n"
     ]
    }
   ],
   "source": [
    "var1, var2, var3, var4 = 56, 12.43, 'test', True\n",
    "print(\"Value of var1:\", var1)\n",
    "print(\"Value of var2:\", var2)\n",
    "print(\"Value of var3:\", var3)\n",
    "print(\"Value of var4:\", var4)"
   ]
  },
  {
   "attachments": {},
   "cell_type": "markdown",
   "metadata": {},
   "source": [
    "OR by using semicolons `;`"
   ]
  },
  {
   "cell_type": "code",
   "execution_count": 7,
   "metadata": {},
   "outputs": [
    {
     "name": "stdout",
     "output_type": "stream",
     "text": [
      "Value of var1: 56\n",
      "Value of var2: 12.43\n",
      "Value of var3: test\n",
      "Value of var4: True\n"
     ]
    }
   ],
   "source": [
    "var1 = 56; var2 = 12.43; var3 = 'test'; var4 = True\n",
    "print(\"Value of var1:\", var1)\n",
    "print(\"Value of var2:\", var2)\n",
    "print(\"Value of var3:\", var3)\n",
    "print(\"Value of var4:\", var4)"
   ]
  },
  {
   "attachments": {},
   "cell_type": "markdown",
   "metadata": {},
   "source": [
    "## **Example 3**\n",
    "\n",
    "Assigning the same value to multiple/chained variables at once."
   ]
  },
  {
   "cell_type": "code",
   "execution_count": 9,
   "metadata": {},
   "outputs": [
    {
     "name": "stdout",
     "output_type": "stream",
     "text": [
      "Value of var1: waaahoooo\n",
      "Value of var2: waaahoooo\n",
      "Value of var3: waaahoooo\n"
     ]
    }
   ],
   "source": [
    "var1 = var2 = var3 = \"waaahoooo\"\n",
    "print(\"Value of var1:\", var1)\n",
    "print(\"Value of var2:\", var2)\n",
    "print(\"Value of var3:\", var3)"
   ]
  },
  {
   "attachments": {},
   "cell_type": "markdown",
   "metadata": {},
   "source": [
    "## **Example 4**\n",
    "\n",
    "Assigning a variable with the value stored in another variable."
   ]
  },
  {
   "cell_type": "code",
   "execution_count": 12,
   "metadata": {},
   "outputs": [
    {
     "name": "stdout",
     "output_type": "stream",
     "text": [
      "Value of var1: 34\n",
      "Value of var2: 50.24\n"
     ]
    }
   ],
   "source": [
    "var1 = 50.24\n",
    "var2 = var1  # Assigning the value 50.24 (which var1 holds) into var2\n",
    "\n",
    "var1 = 34 # Changing the value stored in var1 to 34\n",
    "\n",
    "print(\"Value of var1:\", var1)\n",
    "print(\"Value of var2:\", var2)"
   ]
  },
  {
   "attachments": {},
   "cell_type": "markdown",
   "metadata": {},
   "source": [
    "# **PRACTICE TIME!**"
   ]
  },
  {
   "attachments": {},
   "cell_type": "markdown",
   "metadata": {},
   "source": [
    "**(a)** Write a Python program that prompts the user to enter their name and age. Store the name in a variable called name and the age in a variable called age. Finally, print a message that says `\"Hello, [name]! You are [age] years old.\"`"
   ]
  },
  {
   "cell_type": "code",
   "execution_count": null,
   "metadata": {},
   "outputs": [],
   "source": []
  },
  {
   "attachments": {},
   "cell_type": "markdown",
   "metadata": {},
   "source": [
    "**(b)** Write a Python program to swap the values of two variables. Prompt the user to enter two values and store them in variables `a` and `b`. Swap the values between `a` and `b` without using a temporary variable. Finally, print the updated values of `a` and `b`."
   ]
  },
  {
   "cell_type": "code",
   "execution_count": null,
   "metadata": {},
   "outputs": [],
   "source": []
  },
  {
   "attachments": {},
   "cell_type": "markdown",
   "metadata": {},
   "source": [
    "**(c)** Write a Python program to calculate the total cost of purchasing multiple items. \n",
    "\n",
    "Ask the user to enter the price of three items and store them in variables `item1_price`, `item2_price`, and `item3_price`. Prompt the user to enter the quantity of each item and store the values in variables `item1_quantity`, `item2_quantity`, and `item3_quantity`. \n",
    "\n",
    "Calculate the total cost by multiplying the price and quantity for each item, and store it in a variable called total_cost. Finally, print the total cost as `\"The total cost is SGD[total_cost].\"`"
   ]
  },
  {
   "cell_type": "code",
   "execution_count": null,
   "metadata": {},
   "outputs": [],
   "source": []
  }
 ],
 "metadata": {
  "kernelspec": {
   "display_name": "python-tutorial",
   "language": "python",
   "name": "python3"
  },
  "language_info": {
   "codemirror_mode": {
    "name": "ipython",
    "version": 3
   },
   "file_extension": ".py",
   "mimetype": "text/x-python",
   "name": "python",
   "nbconvert_exporter": "python",
   "pygments_lexer": "ipython3",
   "version": "3.9.6"
  },
  "orig_nbformat": 4
 },
 "nbformat": 4,
 "nbformat_minor": 2
}
