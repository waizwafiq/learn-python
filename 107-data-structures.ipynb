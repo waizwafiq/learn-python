{
    "cells": [
        {
            "cell_type": "markdown",
            "metadata": {},
            "source": [
                "# Python Lists and Dictionaries\n",
                "\n",
                "## Introduction\n",
                "\n",
                "Welcome to our exploration of Python data structures! Today we're going to learn about two of the most important and useful data structures in Python: **Lists** and **Dictionaries**.\n",
                "\n",
                "Think of data structures as containers that store and organize data. They help you manage information in your programs efficiently. It's like the difference between having all your school supplies scattered across your room versus having them neatly organized in different drawers and boxes!"
            ]
        },
        {
            "cell_type": "markdown",
            "metadata": {},
            "source": [
                "## Class Roadmap\n",
                "\n",
                "Here's what we'll cover today:\n",
                "\n",
                "1. **Lists** - Ordered collections of items\n",
                "   - Creating lists\n",
                "   - Accessing and modifying list elements\n",
                "   - Common list operations\n",
                "   - Nested lists\n",
                "\n",
                "2. **Dictionaries** - Key-value pairs\n",
                "   - Creating dictionaries\n",
                "   - Accessing and modifying dictionary elements\n",
                "   - Common dictionary operations\n",
                "   - Nested dictionaries\n",
                "\n",
                "3. **Practice Problems** - Apply what you've learned\n",
                "\n",
                "4. **Conceptual Questions** - Deepen your understanding\n",
                "\n",
                "Let's get started!"
            ]
        },
        {
            "cell_type": "markdown",
            "metadata": {},
            "source": [
                "# Part 1: Lists\n",
                "\n",
                "## What is a List?\n",
                "\n",
                "A list in Python is an ordered collection of items. These items can be of any type - numbers, strings, even other lists!\n",
                "\n",
                "Think of a list like a train with multiple cars. Each car (item) is in a specific position, and you can add or remove cars as needed."
            ]
        },
        {
            "cell_type": "markdown",
            "metadata": {},
            "source": [
                "## Creating Lists\n",
                "\n",
                "You can create a list by enclosing items in square brackets `[ ]`, separated by commas."
            ]
        },
        {
            "cell_type": "code",
            "execution_count": null,
            "metadata": {},
            "outputs": [],
            "source": [
                "# An empty list\n",
                "empty_list = []\n",
                "print(\"Empty list:\", empty_list)\n",
                "\n",
                "# A list of numbers\n",
                "numbers = [1, 2, 3, 4, 5]\n",
                "print(\"List of numbers:\", numbers)\n",
                "\n",
                "# A list of strings\n",
                "fruits = [\"apple\", \"banana\", \"cherry\"]\n",
                "print(\"List of fruits:\", fruits)\n",
                "\n",
                "# A mixed list (different types of items)\n",
                "mixed = [1, \"hello\", 3.14, True]\n",
                "print(\"Mixed list:\", mixed)"
            ]
        },
        {
            "cell_type": "markdown",
            "metadata": {},
            "source": [
                "## Accessing List Elements\n",
                "\n",
                "You can access list elements using an index inside square brackets. Remember that Python uses **zero-based indexing**, which means the first element is at index 0, the second at index 1, and so on.\n",
                "\n",
                "You can also use negative indices to count from the end of the list. The last element is at index -1, the second-to-last at -2, etc."
            ]
        },
        {
            "cell_type": "code",
            "execution_count": null,
            "metadata": {},
            "outputs": [],
            "source": [
                "fruits = [\"apple\", \"banana\", \"cherry\", \"date\", \"elderberry\"]\n",
                "\n",
                "# Accessing elements by index\n",
                "print(\"First fruit:\", fruits[0])  # Index 0 is the first element\n",
                "print(\"Third fruit:\", fruits[2])  # Index 2 is the third element\n",
                "\n",
                "# Using negative indices\n",
                "print(\"Last fruit:\", fruits[-1])   # Index -1 is the last element\n",
                "print(\"Second-to-last fruit:\", fruits[-2])  # Index -2 is the second-to-last element\n",
                "\n",
                "# Getting the list length\n",
                "print(\"Number of fruits:\", len(fruits))"
            ]
        },
        {
            "cell_type": "markdown",
            "metadata": {},
            "source": [
                "## List Slicing\n",
                "\n",
                "You can extract a portion of a list using slicing. The syntax is `list[start:end]`, which includes elements from index `start` up to (but not including) index `end`."
            ]
        },
        {
            "cell_type": "code",
            "execution_count": null,
            "metadata": {},
            "outputs": [],
            "source": [
                "numbers = [0, 1, 2, 3, 4, 5, 6, 7, 8, 9]\n",
                "\n",
                "# Basic slicing\n",
                "print(\"First three numbers:\", numbers[0:3])  # Elements at indices 0, 1, 2\n",
                "print(\"Elements from index 4 to 7:\", numbers[4:8])  # Elements at indices 4, 5, 6, 7\n",
                "\n",
                "# Shorthand\n",
                "print(\"First four numbers:\", numbers[:4])  # From start to index 3\n",
                "print(\"Elements from index 6 to end:\", numbers[6:])  # From index 6 to end\n",
                "\n",
                "# With step\n",
                "print(\"Every second number:\", numbers[::2])  # Every 2nd element (0, 2, 4, 6, 8)\n",
                "print(\"Every third number starting from index 1:\", numbers[1::3])  # Every 3rd element starting at index 1 (1, 4, 7)\n",
                "\n",
                "# Negative indices in slicing\n",
                "print(\"Last three numbers:\", numbers[-3:])\n",
                "print(\"All elements except the last two:\", numbers[:-2])\n",
                "\n",
                "# Reversing a list\n",
                "print(\"Reversed list:\", numbers[::-1])"
            ]
        },
        {
            "cell_type": "markdown",
            "metadata": {},
            "source": [
                "## Modifying Lists\n",
                "\n",
                "Lists are **mutable**, which means you can change their content after creation. You can:\n",
                "- Change elements by assigning new values to specific indices\n",
                "- Add elements using methods like `append` and `insert`\n",
                "- Remove elements using methods like `remove` and `pop`"
            ]
        },
        {
            "cell_type": "code",
            "execution_count": null,
            "metadata": {},
            "outputs": [],
            "source": [
                "fruits = [\"apple\", \"banana\", \"cherry\"]\n",
                "print(\"Original list:\", fruits)\n",
                "\n",
                "# Changing an element\n",
                "fruits[1] = \"blueberry\"\n",
                "print(\"After changing element at index 1:\", fruits)\n",
                "\n",
                "# Adding elements\n",
                "fruits.append(\"date\")  # Adds to the end of the list\n",
                "print(\"After appending 'date':\", fruits)\n",
                "\n",
                "fruits.insert(2, \"grape\")  # Inserts at index 2, shifting other elements right\n",
                "print(\"After inserting 'grape' at index 2:\", fruits)\n",
                "\n",
                "# Removing elements\n",
                "fruits.remove(\"apple\")  # Removes the first occurrence of \"apple\"\n",
                "print(\"After removing 'apple':\", fruits)\n",
                "\n",
                "popped_fruit = fruits.pop()  # Removes and returns the last element\n",
                "print(\"Popped fruit:\", popped_fruit)\n",
                "print(\"After popping last element:\", fruits)\n",
                "\n",
                "popped_index = fruits.pop(0)  # Removes and returns the element at index 0\n",
                "print(\"Popped element at index 0:\", popped_index)\n",
                "print(\"After popping element at index 0:\", fruits)"
            ]
        },
        {
            "cell_type": "markdown",
            "metadata": {},
            "source": [
                "## Common List Operations\n",
                "\n",
                "Python provides many useful operations for working with lists."
            ]
        },
        {
            "cell_type": "code",
            "execution_count": null,
            "metadata": {},
            "outputs": [],
            "source": [
                "# Concatenating lists\n",
                "list1 = [1, 2, 3]\n",
                "list2 = [4, 5, 6]\n",
                "combined = list1 + list2\n",
                "print(\"Combined list:\", combined)\n",
                "\n",
                "# Repeating lists\n",
                "repeated = list1 * 3\n",
                "print(\"List repeated 3 times:\", repeated)\n",
                "\n",
                "# Checking if an element is in a list\n",
                "print(\"Is 3 in list1?\", 3 in list1)\n",
                "print(\"Is 7 in list1?\", 7 in list1)\n",
                "\n",
                "# Finding the index of an element\n",
                "fruits = [\"apple\", \"banana\", \"cherry\", \"banana\", \"elderberry\"]\n",
                "print(\"Index of 'cherry':\", fruits.index(\"cherry\"))\n",
                "print(\"Index of first 'banana':\", fruits.index(\"banana\"))  # Returns first occurrence\n",
                "\n",
                "# Counting occurrences\n",
                "print(\"Number of 'banana' in the list:\", fruits.count(\"banana\"))\n",
                "\n",
                "# Sorting lists\n",
                "numbers = [5, 2, 8, 1, 9, 3]\n",
                "numbers.sort()  # Sorts in-place (modifies the original list)\n",
                "print(\"Sorted numbers:\", numbers)\n",
                "\n",
                "fruits.sort()  # Sorts alphabetically for strings\n",
                "print(\"Sorted fruits:\", fruits)\n",
                "\n",
                "# Reversing lists\n",
                "numbers.reverse()  # Reverses in-place\n",
                "print(\"Reversed numbers:\", numbers)"
            ]
        },
        {
            "cell_type": "markdown",
            "metadata": {},
            "source": [
                "## Nested Lists\n",
                "\n",
                "Lists can contain other lists as elements, creating nested or multi-dimensional lists. These are useful for representing tables of data, game boards, or any grid-like structure."
            ]
        },
        {
            "cell_type": "code",
            "execution_count": null,
            "metadata": {},
            "outputs": [],
            "source": [
                "# A simple nested list\n",
                "nested = [[1, 2, 3], [4, 5, 6], [7, 8, 9]]\n",
                "print(\"Nested list:\", nested)\n",
                "\n",
                "# Accessing elements in a nested list\n",
                "print(\"Element at row 0, column 1:\", nested[0][1])  # Gets 2\n",
                "print(\"Element at row 2, column 0:\", nested[2][0])  # Gets 7\n",
                "\n",
                "# Modifying elements in a nested list\n",
                "nested[1][2] = 99\n",
                "print(\"After modifying element at row 1, column 2:\", nested)\n",
                "\n",
                "# A more readable way to create a nested list\n",
                "tic_tac_toe = [\n",
                "    ['X', 'O', 'X'],\n",
                "    ['O', 'X', 'O'],\n",
                "    ['O', 'X', 'X']\n",
                "]\n",
                "\n",
                "print(\"\\nTic-tac-toe board:\")\n",
                "for row in tic_tac_toe:\n",
                "    print(row)"
            ]
        },
        {
            "cell_type": "markdown",
            "metadata": {},
            "source": [
                "## ✅ Checkpoint 1: Lists\n",
                "\n",
                "Let's check your understanding of lists with a few exercises. Try to solve these before checking the answers."
            ]
        },
        {
            "cell_type": "markdown",
            "metadata": {},
            "source": [
                "### Exercise 1: Create a list of your favorite colors, then add a new color and remove the first color."
            ]
        },
        {
            "cell_type": "code",
            "execution_count": null,
            "metadata": {},
            "outputs": [],
            "source": [
                "# Your code here"
            ]
        },
        {
            "cell_type": "markdown",
            "metadata": {},
            "source": [
                "### Solution:"
            ]
        },
        {
            "cell_type": "code",
            "execution_count": null,
            "metadata": {},
            "outputs": [],
            "source": [
                "# Create a list of favorite colors\n",
                "favorite_colors = [\"blue\", \"green\", \"purple\", \"red\"]\n",
                "print(\"My favorite colors:\", favorite_colors)\n",
                "\n",
                "# Add a new color\n",
                "favorite_colors.append(\"yellow\")\n",
                "print(\"After adding 'yellow':\", favorite_colors)\n",
                "\n",
                "# Remove the first color\n",
                "first_color = favorite_colors.pop(0)\n",
                "print(f\"Removed '{first_color}' from the list\")\n",
                "print(\"Updated favorite colors:\", favorite_colors)"
            ]
        },
        {
            "cell_type": "markdown",
            "metadata": {},
            "source": [
                "### Exercise 2: Create a nested list representing a 3x3 grid of numbers from 1 to 9, then access the middle number."
            ]
        },
        {
            "cell_type": "code",
            "execution_count": null,
            "metadata": {},
            "outputs": [],
            "source": [
                "# Your code here"
            ]
        },
        {
            "cell_type": "markdown",
            "metadata": {},
            "source": [
                "### Solution:"
            ]
        },
        {
            "cell_type": "code",
            "execution_count": null,
            "metadata": {},
            "outputs": [],
            "source": [
                "# Create a 3x3 grid\n",
                "grid = [\n",
                "    [1, 2, 3],\n",
                "    [4, 5, 6],\n",
                "    [7, 8, 9]\n",
                "]\n",
                "\n",
                "print(\"3x3 grid:\")\n",
                "for row in grid:\n",
                "    print(row)\n",
                "\n",
                "# Access the middle number (row 1, column 1)\n",
                "middle_number = grid[1][1]\n",
                "print(\"\\nThe middle number is:\", middle_number)"
            ]
        },
        {
            "cell_type": "markdown",
            "metadata": {},
            "source": [
                "# Part 2: Dictionaries\n",
                "\n",
                "## What is a Dictionary?\n",
                "\n",
                "A dictionary in Python is an unordered collection of key-value pairs. Each key is unique and associated with a value, which can be of any data type.\n",
                "\n",
                "Think of a dictionary like a real-world dictionary, where you look up a word (the key) to find its definition (the value). Or like a contact list, where names (keys) are associated with phone numbers (values)."
            ]
        },
        {
            "cell_type": "markdown",
            "metadata": {},
            "source": [
                "## Creating Dictionaries\n",
                "\n",
                "You can create a dictionary by enclosing key-value pairs in curly braces `{ }`, separated by commas. Each key is separated from its value by a colon `:`."
            ]
        },
        {
            "cell_type": "code",
            "execution_count": null,
            "metadata": {},
            "outputs": [],
            "source": [
                "# An empty dictionary\n",
                "empty_dict = {}\n",
                "print(\"Empty dictionary:\", empty_dict)\n",
                "\n",
                "# A simple dictionary\n",
                "person = {\"name\": \"Alice\", \"age\": 25, \"city\": \"New York\"}\n",
                "print(\"Person dictionary:\", person)\n",
                "\n",
                "# A dictionary with different types of values\n",
                "mixed_values = {\"string\": \"hello\", \"number\": 42, \"list\": [1, 2, 3], \"bool\": True}\n",
                "print(\"Dictionary with mixed values:\", mixed_values)\n",
                "\n",
                "# A dictionary with numeric keys\n",
                "numeric_keys = {1: \"one\", 2: \"two\", 3: \"three\"}\n",
                "print(\"Dictionary with numeric keys:\", numeric_keys)"
            ]
        },
        {
            "cell_type": "markdown",
            "metadata": {},
            "source": [
                "## Accessing Dictionary Elements\n",
                "\n",
                "You can access values in a dictionary using their keys inside square brackets `[ ]`."
            ]
        },
        {
            "cell_type": "code",
            "execution_count": null,
            "metadata": {},
            "outputs": [],
            "source": [
                "person = {\"name\": \"Alice\", \"age\": 25, \"city\": \"New York\"}\n",
                "\n",
                "# Accessing values by their keys\n",
                "print(\"Name:\", person[\"name\"])\n",
                "print(\"Age:\", person[\"age\"])\n",
                "print(\"City:\", person[\"city\"])\n",
                "\n",
                "# Using the get() method (safer if key might not exist)\n",
                "print(\"\\nUsing get() method:\")\n",
                "print(\"Name:\", person.get(\"name\"))\n",
                "print(\"Job:\", person.get(\"job\"))  # Key doesn't exist, returns None\n",
                "print(\"Job:\", person.get(\"job\", \"Unknown\"))  # With default value if key doesn't exist\n",
                "\n",
                "# Checking if a key exists\n",
                "print(\"\\nDoes 'name' exist in the dictionary?\", \"name\" in person)\n",
                "print(\"Does 'job' exist in the dictionary?\", \"job\" in person)"
            ]
        },
        {
            "cell_type": "markdown",
            "metadata": {},
            "source": [
                "## Modifying Dictionaries\n",
                "\n",
                "Dictionaries are **mutable**, meaning you can change their content after creation. You can:\n",
                "- Add new key-value pairs\n",
                "- Change the value associated with a key\n",
                "- Remove key-value pairs"
            ]
        },
        {
            "cell_type": "code",
            "execution_count": null,
            "metadata": {},
            "outputs": [],
            "source": [
                "person = {\"name\": \"Alice\", \"age\": 25, \"city\": \"New York\"}\n",
                "print(\"Original dictionary:\", person)\n",
                "\n",
                "# Adding a new key-value pair\n",
                "person[\"job\"] = \"Engineer\"\n",
                "print(\"After adding 'job':\", person)\n",
                "\n",
                "# Changing a value\n",
                "person[\"age\"] = 26\n",
                "print(\"After changing 'age':\", person)\n",
                "\n",
                "# Removing a key-value pair\n",
                "del person[\"city\"]  # Using del statement\n",
                "print(\"After deleting 'city':\", person)\n",
                "\n",
                "# Using pop() to remove and return a value\n",
                "job = person.pop(\"job\")\n",
                "print(\"Popped 'job':\", job)\n",
                "print(\"After popping 'job':\", person)\n",
                "\n",
                "# Using popitem() to remove and return the last inserted key-value pair\n",
                "last_item = person.popitem()\n",
                "print(\"Popped last item:\", last_item)\n",
                "print(\"After popping last item:\", person)\n",
                "\n",
                "# Clearing all items\n",
                "person.clear()\n",
                "print(\"After clearing:\", person)"
            ]
        },
        {
            "cell_type": "markdown",
            "metadata": {},
            "source": [
                "## Common Dictionary Operations\n",
                "\n",
                "Python provides many useful operations for working with dictionaries."
            ]
        },
        {
            "cell_type": "code",
            "execution_count": null,
            "metadata": {},
            "outputs": [],
            "source": [
                "# Create a new dictionary\n",
                "person = {\"name\": \"Bob\", \"age\": 30, \"city\": \"Boston\"}\n",
                "print(\"Person dictionary:\", person)\n",
                "\n",
                "# Getting all keys\n",
                "keys = person.keys()\n",
                "print(\"All keys:\", keys)  # Returns a special dict_keys object\n",
                "print(\"Keys as a list:\", list(keys))  # Convert to a list if needed\n",
                "\n",
                "# Getting all values\n",
                "values = person.values()\n",
                "print(\"All values:\", values)  # Returns a special dict_values object\n",
                "print(\"Values as a list:\", list(values))  # Convert to a list if needed\n",
                "\n",
                "# Getting all key-value pairs as tuples\n",
                "items = person.items()\n",
                "print(\"All items:\", items)  # Returns a special dict_items object\n",
                "print(\"Items as a list:\", list(items))  # Convert to a list if needed\n",
                "\n",
                "# Updating a dictionary with another dictionary\n",
                "updates = {\"age\": 31, \"job\": \"Developer\", \"language\": \"Python\"}\n",
                "person.update(updates)\n",
                "print(\"After update:\", person)\n",
                "\n",
                "# Get length of a dictionary (number of key-value pairs)\n",
                "print(\"Number of key-value pairs:\", len(person))"
            ]
        },
        {
            "cell_type": "markdown",
            "metadata": {},
            "source": [
                "## Looping Through Dictionaries\n",
                "\n",
                "You can loop through dictionaries in different ways depending on what you need."
            ]
        },
        {
            "cell_type": "code",
            "execution_count": null,
            "metadata": {},
            "outputs": [],
            "source": [
                "student = {\n",
                "    \"name\": \"Charlie\",\n",
                "    \"age\": 20,\n",
                "    \"major\": \"Computer Science\",\n",
                "    \"gpa\": 3.8\n",
                "}\n",
                "\n",
                "# Looping through keys\n",
                "print(\"Looping through keys:\")\n",
                "for key in student:\n",
                "    print(key)\n",
                "\n",
                "# Looping through keys and accessing values\n",
                "print(\"\\nLooping through keys and accessing values:\")\n",
                "for key in student:\n",
                "    print(f\"{key}: {student[key]}\")\n",
                "\n",
                "# Looping through key-value pairs using items()\n",
                "print(\"\\nLooping through key-value pairs:\")\n",
                "for key, value in student.items():\n",
                "    print(f\"{key}: {value}\")\n",
                "\n",
                "# Looping through just values\n",
                "print(\"\\nLooping through values:\")\n",
                "for value in student.values():\n",
                "    print(value)"
            ]
        },
        {
            "cell_type": "markdown",
            "metadata": {},
            "source": [
                "## Nested Dictionaries\n",
                "\n",
                "Just like lists, dictionaries can be nested, allowing you to create more complex data structures."
            ]
        },
        {
            "cell_type": "code",
            "execution_count": null,
            "metadata": {},
            "outputs": [],
            "source": [
                "# A nested dictionary\n",
                "users = {\n",
                "    \"alice\": {\n",
                "        \"name\": \"Alice Smith\",\n",
                "        \"age\": 25,\n",
                "        \"email\": \"alice@example.com\"\n",
                "    },\n",
                "    \"bob\": {\n",
                "        \"name\": \"Bob Johnson\",\n",
                "        \"age\": 30,\n",
                "        \"email\": \"bob@example.com\"\n",
                "    },\n",
                "    \"charlie\": {\n",
                "        \"name\": \"Charlie Brown\",\n",
                "        \"age\": 20,\n",
                "        \"email\": \"charlie@example.com\"\n",
                "    }\n",
                "}\n",
                "\n",
                "# Accessing nested values\n",
                "print(\"Bob's email:\", users[\"bob\"][\"email\"])\n",
                "print(\"Alice's age:\", users[\"alice\"][\"age\"])\n",
                "\n",
                "# Modifying nested values\n",
                "users[\"charlie\"][\"age\"] = 21\n",
                "print(\"Charlie's updated age:\", users[\"charlie\"][\"age\"])\n",
                "\n",
                "# Adding a new field to a nested dictionary\n",
                "users[\"alice\"][\"phone\"] = \"555-1234\"\n",
                "print(\"Alice's updated info:\", users[\"alice\"])\n",
                "\n",
                "# Looping through a nested dictionary\n",
                "print(\"\\nAll users:\")\n",
                "for username, user_info in users.items():\n",
                "    print(f\"Username: {username}\")\n",
                "    for key, value in user_info.items():\n",
                "        print(f\"  {key}: {value}\")\n",
                "    print()  # Empty line for readability"
            ]
        },
        {
            "cell_type": "markdown",
            "metadata": {},
            "source": [
                "## ✅ Checkpoint 2: Dictionaries\n",
                "\n",
                "Let's check your understanding of dictionaries with a few exercises. Try to solve these before checking the answers."
            ]
        },
        {
            "cell_type": "markdown",
            "metadata": {},
            "source": [
                "### Exercise 1: Create a dictionary of your favorite foods by category (breakfast, lunch, dinner), then add a new category \"snack\" and change your lunch preference."
            ]
        },
        {
            "cell_type": "code",
            "execution_count": null,
            "metadata": {},
            "outputs": [],
            "source": [
                "# Your code here"
            ]
        },
        {
            "cell_type": "markdown",
            "metadata": {},
            "source": [
                "### Solution:"
            ]
        },
        {
            "cell_type": "code",
            "execution_count": null,
            "metadata": {},
            "outputs": [],
            "source": [
                "# Create the dictionary\n",
                "favorite_foods = {\n",
                "    \"breakfast\": \"pancakes\",\n",
                "    \"lunch\": \"sandwich\",\n",
                "    \"dinner\": \"pizza\"\n",
                "}\n",
                "print(\"My favorite foods:\", favorite_foods)\n",
                "\n",
                "# Add a new category\n",
                "favorite_foods[\"snack\"] = \"cookies\"\n",
                "print(\"After adding snack:\", favorite_foods)\n",
                "\n",
                "# Change lunch preference\n",
                "favorite_foods[\"lunch\"] = \"salad\"\n",
                "print(\"After changing lunch preference:\", favorite_foods)"
            ]
        },
        {
            "cell_type": "markdown",
            "metadata": {},
            "source": [
                "### Exercise 2: Create a dictionary of 3 friends, where each value is a dictionary containing their age and city. Then print out each friend's name and city."
            ]
        },
        {
            "cell_type": "code",
            "execution_count": null,
            "metadata": {},
            "outputs": [],
            "source": [
                "# Your code here"
            ]
        },
        {
            "cell_type": "markdown",
            "metadata": {},
            "source": [
                "### Solution:"
            ]
        },
        {
            "cell_type": "code",
            "execution_count": null,
            "metadata": {},
            "outputs": [],
            "source": [
                "# Create the nested dictionary\n",
                "friends = {\n",
                "    \"Alex\": {\n",
                "        \"age\": 25,\n",
                "        \"city\": \"New York\"\n",
                "    },\n",
                "    \"Beth\": {\n",
                "        \"age\": 28,\n",
                "        \"city\": \"Chicago\"\n",
                "    },\n",
                "    \"Carlos\": {\n",
                "        \"age\": 23,\n",
                "        \"city\": \"Miami\"\n",
                "    }\n",
                "}\n",
                "\n",
                "# Print each friend's name and city\n",
                "print(\"My friends' locations:\")\n",
                "for name, info in friends.items():\n",
                "    print(f\"{name} lives in {info['city']}\")"
            ]
        },
        {
            "cell_type": "markdown",
            "metadata": {},
            "source": [
                "# Part A: Lists vs Dictionaries\n",
                "\n",
                "Now that we've learned about both lists and dictionaries, let's compare them to understand when to use each one."
            ]
        },
        {
            "cell_type": "markdown",
            "metadata": {},
            "source": [
                "## Comparing Lists and Dictionaries\n",
                "\n",
                "| Feature | Lists | Dictionaries |\n",
                "|---------|-------|-------------|\n",
                "| Order | Ordered collection | Unordered collection |\n",
                "| Access | By index (position) | By key |\n",
                "| Typical use | Sequence of similar items | Key-value pairs, lookup tables |\n",
                "| Syntax | `[item1, item2, ...]` | `{key1: value1, key2: value2, ...}` |\n",
                "| Searching | Have to iterate through (unless sorted) | Direct lookup by key (very fast) |\n",
                "| Duplicate values | Allowed | Values can be duplicated, but keys must be unique |\n",
                "\n",
                "## When to Use Lists:\n",
                "- When you have a collection of similar items\n",
                "- When the order of items matters\n",
                "- When you need to access items by their position\n",
                "- When you want to store duplicate values\n",
                "\n",
                "## When to Use Dictionaries:\n",
                "- When you need key-value pairs\n",
                "- When you need fast lookups by a unique identifier\n",
                "- When order doesn't matter\n",
                "- When you need a logical association between keys and values"
            ]
        },
        {
            "cell_type": "markdown",
            "metadata": {},
            "source": [
                "## Converting Between Lists and Dictionaries\n",
                "\n",
                "Sometimes you might need to convert between these two data structures. Here are some common conversion patterns:"
            ]
        },
        {
            "cell_type": "code",
            "execution_count": null,
            "metadata": {},
            "outputs": [],
            "source": [
                "# Converting dictionary keys to a list\n",
                "person = {\"name\": \"Alice\", \"age\": 25, \"city\": \"New York\"}\n",
                "keys_list = list(person.keys())\n",
                "print(\"Keys as list:\", keys_list)\n",
                "\n",
                "# Converting dictionary values to a list\n",
                "values_list = list(person.values())\n",
                "print(\"Values as list:\", values_list)\n",
                "\n",
                "# Converting dictionary items to a list of tuples\n",
                "items_list = list(person.items())\n",
                "print(\"Items as list of tuples:\", items_list)\n",
                "\n",
                "# Creating a dictionary from two lists\n",
                "keys = [\"a\", \"b\", \"c\"]\n",
                "values = [1, 2, 3]\n",
                "\n",
                "# Method 1: Using a loop\n",
                "new_dict1 = {}\n",
                "for i in range(len(keys)):\n",
                "    new_dict1[keys[i]] = values[i]\n",
                "print(\"Dictionary from lists (using loop):\", new_dict1)\n",
                "\n",
                "# Method 2: Using zip\n",
                "new_dict2 = {}\n",
                "for key, value in zip(keys, values):  # zip pairs elements from both lists\n",
                "    new_dict2[key] = value\n",
                "print(\"Dictionary from lists (using zip):\", new_dict2)"
            ]
        },
        {
            "cell_type": "markdown",
            "metadata": {},
            "source": [
                "## ✅ Checkpoint 3: Lists vs Dictionaries\n",
                "\n",
                "For each of the following scenarios, decide whether a list or a dictionary would be more appropriate, and explain why."
            ]
        },
        {
            "cell_type": "markdown",
            "metadata": {},
            "source": [
                "1. Storing the names of the months of the year\n",
                "2. Storing student names and their corresponding test scores\n",
                "3. Keeping track of the order of finishers in a race\n",
                "4. Storing country names and their capitals\n",
                "5. Creating a to-do list"
            ]
        },
        {
            "cell_type": "markdown",
            "metadata": {},
            "source": [
                "### Answers:\n",
                "\n",
                "1. **List** - Months of the year are in a specific order, and we typically refer to them by their position or iterate through them in order.\n",
                "\n",
                "2. **Dictionary** - We need to associate each student (key) with their score (value). We want to quickly look up a score given a student name.\n",
                "\n",
                "3. **List** - The order of finishers is important, and we might refer to them as \"first place\", \"second place\", etc., which corresponds to indices in a list.\n",
                "\n",
                "4. **Dictionary** - We need to associate each country (key) with its capital (value). We want to quickly look up the capital given a country name.\n",
                "\n",
                "5. **List** - A to-do list is a sequence of tasks, often with a specific order to complete them. We might add or remove tasks, which is well-suited to list operations."
            ]
        },
        {
            "cell_type": "markdown",
            "metadata": {},
            "source": [
                "# Part 4: Real-World Examples and Practice\n",
                "\n",
                "Let's examine some real-world examples of how lists and dictionaries are used, and then practice with some problems."
            ]
        },
        {
            "cell_type": "markdown",
            "metadata": {},
            "source": [
                "## Example 1: Student Grades Tracker\n",
                "\n",
                "Let's create a simple grade tracker that uses both lists and dictionaries."
            ]
        },
        {
            "cell_type": "code",
            "execution_count": null,
            "metadata": {},
            "outputs": [],
            "source": [
                "# Create a dictionary where each key is a student name and each value is a list of grades\n",
                "student_grades = {\n",
                "    \"Alice\": [85, 90, 92, 88],\n",
                "    \"Bob\": [75, 80, 85, 82],\n",
                "    \"Charlie\": [95, 92, 98, 97],\n",
                "    \"Diana\": [70, 75, 68, 72]\n",
                "}\n",
                "\n",
                "# Print all students and their grades\n",
                "print(\"Student Grades:\")\n",
                "for student, grades in student_grades.items():\n",
                "    print(f\"{student}: {grades}\")\n",
                "\n",
                "# Calculate and print the average grade for each student\n",
                "print(\"\\nStudent Averages:\")\n",
                "for student, grades in student_grades.items():\n",
                "    average = sum(grades) / len(grades)\n",
                "    print(f\"{student}: {average:.2f}\")\n",
                "\n",
                "# Find the student with the highest average\n",
                "highest_average = 0\n",
                "top_student = \"\"\n",
                "\n",
                "for student, grades in student_grades.items():\n",
                "    average = sum(grades) / len(grades)\n",
                "    if average > highest_average:\n",
                "        highest_average = average\n",
                "        top_student = student\n",
                "\n",
                "print(f\"\\nTop student: {top_student} with an average of {highest_average:.2f}\")\n",
                "\n",
                "# Add a new test grade for each student\n",
                "new_grades = {\"Alice\": 95, \"Bob\": 88, \"Charlie\": 96, \"Diana\": 74}\n",
                "\n",
                "for student, grade in new_grades.items():\n",
                "    student_grades[student].append(grade)\n",
                "\n",
                "print(\"\\nUpdated Grades:\")\n",
                "for student, grades in student_grades.items():\n",
                "    print(f\"{student}: {grades}\")"
            ]
        },
        {
            "cell_type": "markdown",
            "metadata": {},
            "source": [
                "## Example 2: Word Frequency Counter\n",
                "\n",
                "Let's create a program that counts the frequency of words in a text using a dictionary."
            ]
        },
        {
            "cell_type": "code",
            "execution_count": null,
            "metadata": {},
            "outputs": [],
            "source": [
                "# Sample text\n",
                "text = \"\"\"Python is an amazing programming language. Python is easy to learn and fun to use. \n",
                "Programming in Python allows you to focus on solving problems, not syntax. \n",
                "Many beginners start with Python as their first programming language.\"\"\"\n",
                "\n",
                "# Convert to lowercase and split into words\n",
                "words = text.lower().split()\n",
                "\n",
                "# Clean up punctuation (a simple approach)\n",
                "clean_words = []\n",
                "for word in words:\n",
                "    # Remove punctuation at the end of words\n",
                "    if word.endswith(\".\") or word.endswith(\",\"):\n",
                "        word = word[:-1]\n",
                "    clean_words.append(word)\n",
                "\n",
                "# Count word frequencies\n",
                "word_counts = {}\n",
                "\n",
                "for word in clean_words:\n",
                "    if word in word_counts:\n",
                "        word_counts[word] += 1\n",
                "    else:\n",
                "        word_counts[word] = 1\n",
                "\n",
                "# Print the word counts\n",
                "print(\"Word Frequencies:\")\n",
                "for word, count in word_counts.items():\n",
                "    print(f\"{word}: {count}\")\n",
                "\n",
                "# Find the most common word\n",
                "most_common_word = \"\"\n",
                "highest_count = 0\n",
                "\n",
                "for word, count in word_counts.items():\n",
                "    if count > highest_count:\n",
                "        highest_count = count\n",
                "        most_common_word = word\n",
                "\n",
                "print(f\"\\nMost common word: '{most_common_word}' (appears {highest_count} times)\")"
            ]
        },
        {
            "cell_type": "markdown",
            "metadata": {},
            "source": [
                "## Example 3: Shopping Cart\n",
                "\n",
                "Let's create a simple shopping cart using lists and dictionaries."
            ]
        },
        {
            "cell_type": "code",
            "execution_count": null,
            "metadata": {},
            "outputs": [],
            "source": [
                "# Store product information in a dictionary\n",
                "products = {\n",
                "    \"apple\": {\"price\": 0.5, \"unit\": \"each\"},\n",
                "    \"banana\": {\"price\": 0.3, \"unit\": \"each\"},\n",
                "    \"bread\": {\"price\": 2.5, \"unit\": \"loaf\"},\n",
                "    \"milk\": {\"price\": 1.8, \"unit\": \"carton\"},\n",
                "    \"eggs\": {\"price\": 2.75, \"unit\": \"dozen\"}\n",
                "}\n",
                "\n",
                "# Initialize an empty shopping cart\n",
                "cart = []\n",
                "\n",
                "# Add items to the cart (list of dictionaries)\n",
                "cart.append({\"product\": \"apple\", \"quantity\": 5})\n",
                "cart.append({\"product\": \"banana\", \"quantity\": 3})\n",
                "cart.append({\"product\": \"bread\", \"quantity\": 2})\n",
                "cart.append({\"product\": \"milk\", \"quantity\": 1})\n",
                "\n",
                "# Display the cart\n",
                "print(\"Shopping Cart:\")\n",
                "print(\"-\" * 50)\n",
                "print(f\"{'Product':<15} {'Quantity':<10} {'Unit':<10} {'Price':<10} {'Total':<10}\")\n",
                "print(\"-\" * 50)\n",
                "\n",
                "cart_total = 0\n",
                "\n",
                "for item in cart:\n",
                "    product_name = item[\"product\"]\n",
                "    quantity = item[\"quantity\"]\n",
                "    \n",
                "    # Get product details from the products dictionary\n",
                "    product_details = products[product_name]\n",
                "    price = product_details[\"price\"]\n",
                "    unit = product_details[\"unit\"]\n",
                "    \n",
                "    # Calculate the total for this item\n",
                "    item_total = price * quantity\n",
                "    cart_total += item_total\n",
                "    \n",
                "    # Display the item details\n",
                "    print(f\"{product_name:<15} {quantity:<10} {unit:<10} ${price:<9.2f} ${item_total:<9.2f}\")\n",
                "\n",
                "print(\"-\" * 50)\n",
                "print(f\"{'Total':<46} ${cart_total:.2f}\")\n",
                "\n",
                "# Add another item to the cart\n",
                "cart.append({\"product\": \"eggs\", \"quantity\": 1})\n",
                "\n",
                "# Calculate new total\n",
                "new_total = 0\n",
                "for item in cart:\n",
                "    product_details = products[item[\"product\"]]\n",
                "    new_total += product_details[\"price\"] * item[\"quantity\"]\n",
                "\n",
                "print(f\"\\nNew total after adding eggs: ${new_total:.2f}\")"
            ]
        },
        {
            "cell_type": "markdown",
            "metadata": {},
            "source": [
                "## Practice Problems\n",
                "\n",
                "Let's put your knowledge to the test with some practice problems."
            ]
        },
        {
            "cell_type": "markdown",
            "metadata": {},
            "source": [
                "### Problem 1: List Operations\n",
                "\n",
                "Create a program that takes a list of numbers, then:\n",
                "1. Prints all even numbers\n",
                "2. Calculates the sum and average\n",
                "3. Finds the maximum and minimum values\n",
                "4. Creates a new list with each number squared"
            ]
        },
        {
            "cell_type": "code",
            "execution_count": null,
            "metadata": {},
            "outputs": [],
            "source": [
                "# Your code here\n",
                "numbers = [5, 12, 8, 3, 19, 7, 14, 10, 2, 16]\n"
            ]
        },
        {
            "cell_type": "markdown",
            "metadata": {},
            "source": [
                "### Solution:"
            ]
        },
        {
            "cell_type": "code",
            "execution_count": null,
            "metadata": {},
            "outputs": [],
            "source": [
                "numbers = [5, 12, 8, 3, 19, 7, 14, 10, 2, 16]\n",
                "print(\"Original list:\", numbers)\n",
                "\n",
                "# 1. Print all even numbers\n",
                "even_numbers = []\n",
                "for num in numbers:\n",
                "    if num % 2 == 0:  # Check if the number is even\n",
                "        even_numbers.append(num)\n",
                "print(\"Even numbers:\", even_numbers)\n",
                "\n",
                "# 2. Calculate sum and average\n",
                "total = 0\n",
                "for num in numbers:\n",
                "    total += num\n",
                "average = total / len(numbers)\n",
                "print(f\"Sum: {total}\")\n",
                "print(f\"Average: {average:.2f}\")\n",
                "\n",
                "# 3. Find maximum and minimum values\n",
                "maximum = numbers[0]  # Start with the first number\n",
                "minimum = numbers[0]  # Start with the first number\n",
                "\n",
                "for num in numbers:\n",
                "    if num > maximum:\n",
                "        maximum = num\n",
                "    if num < minimum:\n",
                "        minimum = num\n",
                "\n",
                "print(f\"Maximum: {maximum}\")\n",
                "print(f\"Minimum: {minimum}\")\n",
                "\n",
                "# 4. Create a new list with each number squared\n",
                "squared_numbers = []\n",
                "for num in numbers:\n",
                "    squared_numbers.append(num ** 2)\n",
                "print(\"Squared numbers:\", squared_numbers)"
            ]
        },
        {
            "cell_type": "markdown",
            "metadata": {},
            "source": [
                "### Problem 2: Dictionary Operations\n",
                "\n",
                "Create a program that simulates a simple contact book. It should:\n",
                "\n",
                "1. Start with some initial contacts\n",
                "2. Allow adding a new contact\n",
                "3. Allow removing a contact\n",
                "4. Search for a contact by name\n",
                "5. Display all contacts"
            ]
        },
        {
            "cell_type": "code",
            "execution_count": null,
            "metadata": {},
            "outputs": [],
            "source": [
                "# Your code here\n",
                "contacts = {\n",
                "    \"Alice\": \"555-1234\",\n",
                "    \"Bob\": \"555-5678\",\n",
                "    \"Charlie\": \"555-9012\"\n",
                "}\n"
            ]
        },
        {
            "cell_type": "markdown",
            "metadata": {},
            "source": [
                "### Solution:"
            ]
        },
        {
            "cell_type": "code",
            "execution_count": null,
            "metadata": {},
            "outputs": [],
            "source": [
                "# 1. Initial contacts\n",
                "contacts = {\n",
                "    \"Alice\": \"555-1234\",\n",
                "    \"Bob\": \"555-5678\",\n",
                "    \"Charlie\": \"555-9012\"\n",
                "}\n",
                "\n",
                "print(\"Initial Contacts:\")\n",
                "for name, phone in contacts.items():\n",
                "    print(f\"{name}: {phone}\")\n",
                "\n",
                "# 2. Add a new contact\n",
                "print(\"\\nAdding Diana to contacts...\")\n",
                "contacts[\"Diana\"] = \"555-3456\"\n",
                "\n",
                "print(\"Updated Contacts:\")\n",
                "for name, phone in contacts.items():\n",
                "    print(f\"{name}: {phone}\")\n",
                "\n",
                "# 3. Remove a contact\n",
                "print(\"\\nRemoving Bob from contacts...\")\n",
                "if \"Bob\" in contacts:\n",
                "    del contacts[\"Bob\"]\n",
                "else:\n",
                "    print(\"Contact not found!\")\n",
                "\n",
                "print(\"Updated Contacts:\")\n",
                "for name, phone in contacts.items():\n",
                "    print(f\"{name}: {phone}\")\n",
                "\n",
                "# 4. Search for a contact\n",
                "print(\"\\nSearching for contacts...\")\n",
                "search_name = \"Alice\"\n",
                "if search_name in contacts:\n",
                "    print(f\"Found {search_name}: {contacts[search_name]}\")\n",
                "else:\n",
                "    print(f\"{search_name} not found in contacts!\")\n",
                "\n",
                "search_name = \"Bob\"\n",
                "if search_name in contacts:\n",
                "    print(f\"Found {search_name}: {contacts[search_name]}\")\n",
                "else:\n",
                "    print(f\"{search_name} not found in contacts!\")\n",
                "\n",
                "# 5. Display all contacts\n",
                "print(\"\\nAll Contacts:\")\n",
                "for name, phone in contacts.items():\n",
                "    print(f\"{name}: {phone}\")"
            ]
        },
        {
            "cell_type": "markdown",
            "metadata": {},
            "source": [
                "### Problem 3: Combined Data Structures\n",
                "\n",
                "Create a program to track inventory for a small store. Each item should have a name, price, and quantity in stock."
            ]
        },
        {
            "cell_type": "code",
            "execution_count": null,
            "metadata": {},
            "outputs": [],
            "source": [
                "# Your code here\n",
                "inventory = {\n",
                "    \"shirt\": {\"price\": 20.00, \"quantity\": 50},\n",
                "    \"pants\": {\"price\": 30.00, \"quantity\": 35},\n",
                "    \"shoes\": {\"price\": 50.00, \"quantity\": 20},\n",
                "    \"hat\": {\"price\": 15.00, \"quantity\": 40}\n",
                "}\n"
            ]
        },
        {
            "cell_type": "markdown",
            "metadata": {},
            "source": [
                "### Solution:"
            ]
        },
        {
            "cell_type": "code",
            "execution_count": null,
            "metadata": {},
            "outputs": [],
            "source": [
                "# Initialize inventory\n",
                "inventory = {\n",
                "    \"shirt\": {\"price\": 20.00, \"quantity\": 50},\n",
                "    \"pants\": {\"price\": 30.00, \"quantity\": 35},\n",
                "    \"shoes\": {\"price\": 50.00, \"quantity\": 20},\n",
                "    \"hat\": {\"price\": 15.00, \"quantity\": 40}\n",
                "}\n",
                "\n",
                "# Display initial inventory\n",
                "print(\"Current Inventory:\")\n",
                "print(\"-\" * 50)\n",
                "print(f\"{'Item':<10} {'Price':<10} {'Quantity':<10} {'Value':<10}\")\n",
                "print(\"-\" * 50)\n",
                "\n",
                "total_inventory_value = 0\n",
                "\n",
                "for item, details in inventory.items():\n",
                "    price = details[\"price\"]\n",
                "    quantity = details[\"quantity\"]\n",
                "    value = price * quantity\n",
                "    total_inventory_value += value\n",
                "    \n",
                "    print(f\"{item:<10} ${price:<9.2f} {quantity:<10} ${value:<9.2f}\")\n",
                "\n",
                "print(\"-\" * 50)\n",
                "print(f\"{'Total Inventory Value:':<31} ${total_inventory_value:.2f}\")\n",
                "\n",
                "# Simulate a sale: sell 5 shirts\n",
                "print(\"\\nSelling 5 shirts...\")\n",
                "item_to_sell = \"shirt\"\n",
                "sell_quantity = 5\n",
                "\n",
                "if item_to_sell in inventory:\n",
                "    if inventory[item_to_sell][\"quantity\"] >= sell_quantity:\n",
                "        # Update inventory\n",
                "        inventory[item_to_sell][\"quantity\"] -= sell_quantity\n",
                "        sale_value = inventory[item_to_sell][\"price\"] * sell_quantity\n",
                "        print(f\"Sold {sell_quantity} {item_to_sell}s for ${sale_value:.2f}\")\n",
                "    else:\n",
                "        print(f\"Not enough {item_to_sell}s in stock!\")\n",
                "else:\n",
                "    print(f\"{item_to_sell} not found in inventory!\")\n",
                "\n",
                "# Add a new product to inventory\n",
                "print(\"\\nAdding a new product to inventory...\")\n",
                "new_item = \"socks\"\n",
                "inventory[new_item] = {\"price\": 8.00, \"quantity\": 100}\n",
                "\n",
                "# Display updated inventory\n",
                "print(\"\\nUpdated Inventory:\")\n",
                "print(\"-\" * 50)\n",
                "print(f\"{'Item':<10} {'Price':<10} {'Quantity':<10} {'Value':<10}\")\n",
                "print(\"-\" * 50)\n",
                "\n",
                "total_inventory_value = 0\n",
                "\n",
                "for item, details in inventory.items():\n",
                "    price = details[\"price\"]\n",
                "    quantity = details[\"quantity\"]\n",
                "    value = price * quantity\n",
                "    total_inventory_value += value\n",
                "    \n",
                "    print(f\"{item:<10} ${price:<9.2f} {quantity:<10} ${value:<9.2f}\")\n",
                "\n",
                "print(\"-\" * 50)\n",
                "print(f\"{'Total Inventory Value:':<31} ${total_inventory_value:.2f}\")\n",
                "\n",
                "# Find items with low inventory (less than 30 in stock)\n",
                "print(\"\\nLow Inventory Items (less than 30 in stock):\")\n",
                "low_stock_items = []\n",
                "\n",
                "for item, details in inventory.items():\n",
                "    if details[\"quantity\"] < 30:\n",
                "        low_stock_items.append(item)\n",
                "\n",
                "if low_stock_items:\n",
                "    for item in low_stock_items:\n",
                "        print(f\"- {item}: {inventory[item]['quantity']} remaining\")\n",
                "else:\n",
                "    print(\"No items are running low!\")"
            ]
        },
        {
            "cell_type": "markdown",
            "metadata": {},
            "source": [
                "## Conceptual Questions\n",
                "\n",
                "Take some time to think about these questions before checking the answers:"
            ]
        },
        {
            "cell_type": "markdown",
            "metadata": {},
            "source": [
                "1. What are the key differences between lists and dictionaries in Python?\n",
                "\n",
                "2. When you modify a dictionary, what happens to its order? What about when you modify a list?\n",
                "\n",
                "3. How would you check if a specific value exists in a list? How about checking if a specific key exists in a dictionary?\n",
                "\n",
                "4. What happens if you try to access a key that doesn't exist in a dictionary? How can you avoid errors in this situation?\n",
                "\n",
                "5. Name three real-world situations where you would use a list and three where you would use a dictionary."
            ]
        },
        {
            "cell_type": "markdown",
            "metadata": {},
            "source": [
                "### Answers to Conceptual Questions:\n",
                "\n",
                "1. **Key differences between lists and dictionaries:**\n",
                "   - Lists are ordered collections accessed by index (position), while dictionaries are unordered collections accessed by key.\n",
                "   - Lists use square brackets `[ ]` with comma-separated values, while dictionaries use curly braces `{ }` with key-value pairs separated by colons.\n",
                "   - Lists are better for sequential data, while dictionaries are better for data that has a natural key-value relationship.\n",
                "   - In lists, the indices are automatically assigned (0, 1, 2, ...), while in dictionaries, you choose the keys yourself.\n",
                "\n",
                "2. **Order when modifying:**\n",
                "   - When you modify a list (add, remove, or change elements), the order of the other elements remains the same. Lists maintain their order throughout modifications.\n",
                "   - Technically, in modern Python (3.7+), dictionaries do maintain insertion order. However, it's best not to rely on dictionary order for important operations, as this was not always the case in earlier versions of Python.\n",
                "\n",
                "3. **Checking for existence:**\n",
                "   - To check if a value exists in a list: `if value in my_list:`\n",
                "   - To check if a key exists in a dictionary: `if key in my_dict:`\n",
                "   - Note: Checking for a value in a list may require scanning the entire list, which can be slow for large lists. Checking for a key in a dictionary is very fast regardless of size.\n",
                "\n",
                "4. **Accessing non-existent keys:**\n",
                "   - If you try to access a key that doesn't exist in a dictionary using square bracket notation (`my_dict[\"nonexistent\"]`), Python will raise a `KeyError`.\n",
                "   - To avoid this error, you can:\n",
                "     - Use the `get()` method: `my_dict.get(\"nonexistent\")` returns `None` if the key doesn't exist\n",
                "     - Provide a default value: `my_dict.get(\"nonexistent\", \"default_value\")`\n",
                "     - Check if the key exists first: `if \"nonexistent\" in my_dict:`\n",
                "\n",
                "5. **Real-world uses:**\n",
                "   - **Lists:**\n",
                "     - A to-do list where tasks have a specific order\n",
                "     - The playlist of songs on a music app\n",
                "     - A chronological list of events or history\n",
                "   - **Dictionaries:**\n",
                "     - A phone book where names map to phone numbers\n",
                "     - A product catalog where product IDs map to details\n",
                "     - User profiles where usernames map to user information"
            ]
        },
        {
            "cell_type": "markdown",
            "metadata": {},
            "source": [
                "## Conclusion\n",
                "\n",
                "Congratulations! You've learned about two of Python's most important data structures: lists and dictionaries. Let's summarize what we've covered:\n",
                "\n",
                "### Lists:\n",
                "- Ordered collections of items accessed by index\n",
                "- Created using square brackets `[ ]`\n",
                "- Great for sequences of related items where order matters\n",
                "- Common operations: indexing, slicing, appending, removing, sorting\n",
                "\n",
                "### Dictionaries:\n",
                "- Collections of key-value pairs accessed by key\n",
                "- Created using curly braces `{ }`\n",
                "- Perfect for mapping relationships and lookup tables\n",
                "- Common operations: key lookup, adding/removing pairs, getting keys/values\n",
                "\n",
                "### When to Use Each:\n",
                "- Use lists when order matters and you need sequential access\n",
                "- Use dictionaries when you need to access items by a unique key or label\n",
                "\n",
                "Both lists and dictionaries are fundamental tools in Python programming. They can be used separately or combined to create more complex data structures. As you continue your Python journey, you'll find yourself using these data structures frequently to solve all kinds of programming problems."
            ]
        }
    ],
    "metadata": {
        "kernelspec": {
            "display_name": "Python 3",
            "language": "python",
            "name": "python3"
        },
        "language_info": {
            "codemirror_mode": {
                "name": "ipython",
                "version": 3
            },
            "file_extension": ".py",
            "mimetype": "text/x-python",
            "name": "python",
            "nbconvert_exporter": "python",
            "pygments_lexer": "ipython3",
            "version": "3.8.8"
        }
    },
    "nbformat": 4,
    "nbformat_minor": 4
}