{
 "cells": [
  {
   "cell_type": "code",
   "execution_count": 19,
   "metadata": {},
   "outputs": [
    {
     "name": "stdout",
     "output_type": "stream",
     "text": [
      "The average of the students' marks is: 75.64\n"
     ]
    }
   ],
   "source": [
    "# Calculate and display the average of the marks in the Computer Science subject.\n",
    "\n",
    "# Opening the marks.txt file\n",
    "file = open('marks.txt', 'r')\n",
    "\n",
    "# Convert the content of the text file into a list\n",
    "data = file.readlines()\n",
    "\n",
    "sum_of_marks = 0\n",
    "# Go through each row (record) in the list\n",
    "for i in range(1, len(data)):\n",
    "    \n",
    "    # Removing \"\\n\" and splitting the string by commas ','\n",
    "    # Then, separate them into three variables which hold each of the three columns\n",
    "    studentID, name, mark = data[i].replace('\\n', '').split(',')\n",
    "\n",
    "    # To get the sum of all students' marks (then convert it from string to integer)\n",
    "    sum_of_marks = sum_of_marks + int(mark)\n",
    "    \n",
    "# To calculate the average. But -1 because exclude header\n",
    "average = sum_of_marks/(len(data) - 1)\n",
    "\n",
    "# Display the average\n",
    "print(f\"The average of the students' marks is: {average:.2f}\") \n",
    "\n",
    "file.close()"
   ]
  },
  {
   "cell_type": "code",
   "execution_count": 30,
   "metadata": {},
   "outputs": [],
   "source": [
    "# Those who scored 95 or above will be awarded. Create a new file named awarded.txt that \n",
    "# contains the awarded students’ information.\n",
    "\n",
    "# Opening the marks.txt file\n",
    "file = open('marks.txt', 'r')\n",
    "\n",
    "# Convert the content of the text file into a list\n",
    "data = file.readlines()\n",
    "\n",
    "awarded_students = ''\n",
    "\n",
    "# Go through each row (record) in the list\n",
    "for i in range(1, len(data)):\n",
    "    \n",
    "    # Removing \"\\n\" and splitting the string by commas ','\n",
    "    # Then, separate them into three variables which hold each of the three columns\n",
    "    studentID, name, mark = data[i].replace('\\n', '').split(',')\n",
    "\n",
    "    # To check whether the student scores 95 or above\n",
    "    if int(mark) >= 95:\n",
    "        # += means \"increment operator\"\n",
    "        # Store the students' information into the 'awarded_students' variable\n",
    "        awarded_students += f\"{studentID},{name},{mark}\\n\"\n",
    "        \n",
    "file.close()\n",
    "\n",
    "# Create a new file named 'awarded.txt' and save the info\n",
    "file = open('awarded.txt', 'w')\n",
    "file.write(awarded_students)\n",
    "file.close()"
   ]
  }
 ],
 "metadata": {
  "kernelspec": {
   "display_name": "myvenv",
   "language": "python",
   "name": "python3"
  },
  "language_info": {
   "codemirror_mode": {
    "name": "ipython",
    "version": 3
   },
   "file_extension": ".py",
   "mimetype": "text/x-python",
   "name": "python",
   "nbconvert_exporter": "python",
   "pygments_lexer": "ipython3",
   "version": "3.10.10"
  }
 },
 "nbformat": 4,
 "nbformat_minor": 2
}
