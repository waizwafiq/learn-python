{
 "cells": [
  {
   "cell_type": "markdown",
   "metadata": {},
   "source": [
    "**Chapter 6**\n",
    "# **Python Conditionals**\n",
    "\n",
    "`by Tutor Waiz (Afterkelas.com)`"
   ]
  },
  {
   "cell_type": "markdown",
   "metadata": {},
   "source": [
    "From the previous tutorials in this series, you now have quite a bit of Python code under your belt. Everything you have seen so far has consisted of sequential execution, in which statements are always performed one after the next, in exactly the order specified.\n",
    "\n",
    "But the world is often more complicated than that. Frequently, a program needs to skip over some statements, execute a series of statements repetitively, or choose between alternate sets of statements to execute.\n",
    "\n",
    "That is where **control structures** come in. A control structure directs the order of execution of the statements in a program (referred to as the program’s **control flow** and also known as the **conditionals**).\n",
    "\n",
    "<hr>\n",
    "\n",
    "**Here’s what you’ll learn in this tutorial:** You’ll encounter your first Python control structure, the `if` statement.\n",
    "\n",
    "In the real world, we commonly must evaluate information around us and then choose one course of action or another based on what we observe:\n",
    "\n",
    "> *If the weather is nice, then I’ll mow the lawn. (It’s implied that if the weather isn’t nice, then I won’t mow the lawn.)*\n",
    "\n",
    "In a Python program, the if statement is how you perform this sort of decision-making. It allows for conditional execution of a statement or group of statements based on the value of an expression."
   ]
  },
  {
   "cell_type": "markdown",
   "metadata": {},
   "source": [
    "## **1. The \"IF\" Statement**\n",
    "\n",
    "We’ll start by looking at the most basic type of if statement. In its simplest form, it looks like this:\n",
    "\n",
    "```py\n",
    "if <expr>:\n",
    "    <statement>\n",
    "```\n",
    "\n",
    "- `<expr>` is an expression evaluated in a Boolean context, as discussed in the section on Logical Operators in the Operators and Expressions in Python tutorial.\n",
    "- `<statement>` is a valid Python statement, which must be indented. (You will see why very soon.)"
   ]
  },
  {
   "cell_type": "code",
   "execution_count": null,
   "metadata": {},
   "outputs": [],
   "source": [
    "x = 5\n",
    "y = 2\n",
    "\n",
    "# INDENT\n",
    "if x > y:  # x > y is True\n",
    "    print(\"x is greater than y\")\n",
    "\n",
    "if x < y:  # x < y is False\n",
    "    print(\"x is smaller than y\")\n",
    "    print(\"yippie\")\n",
    "    print(\"yippie\")\n",
    "    print(\"yippie\")\n",
    "    print(\"yippie\")\n",
    "    print(\"yippie\")\n",
    "\n",
    "print('hello')"
   ]
  },
  {
   "cell_type": "markdown",
   "metadata": {},
   "source": [
    "Recall that from the first chapter, indentation is used to define compound statements or blocks. In a Python program, contiguous statements that are indented to the same level are considered to be part of the same block.\n",
    "\n",
    "Thus, a compound if statement in Python looks like this:\n",
    "```py\n",
    "if <expr>:\n",
    "    <statement>\n",
    "    <statement>\n",
    "    ...\n",
    "    <statement>\n",
    "<following_statement>\n",
    "```\n",
    "\n",
    "![image.png](https://files.realpython.com/media/t.78f3bacaa261.png)"
   ]
  },
  {
   "cell_type": "code",
   "execution_count": 4,
   "metadata": {},
   "outputs": [
    {
     "name": "stdout",
     "output_type": "stream",
     "text": [
      "After conditional\n"
     ]
    }
   ],
   "source": [
    "x = 10\n",
    "y = 4\n",
    "\n",
    "if x < y:\n",
    "    print('Expression was true')\n",
    "    print('Executing statement in suite')\n",
    "    print('...')\n",
    "    print('Done.')\n",
    "print('After conditional')"
   ]
  },
  {
   "cell_type": "markdown",
   "metadata": {},
   "source": [
    "## **2. The \"IF-ELSE\" Statement**\n",
    "Now you know how to use an if statement to conditionally execute a single statement or a block of several statements. It’s time to find out what else you can do.\n",
    "\n",
    "Sometimes, you want to evaluate a condition and take one path if it is true but specify an alternative path if it is not. This is accomplished with an else clause:\n",
    "\n",
    "```py\n",
    "if <expr>:\n",
    "    <statement(s)>\n",
    "else:\n",
    "    <statement(s)>\n",
    "```\n",
    "\n",
    "If `<expr>` is True, the first suite is executed, and the second is skipped. If `<expr>` is False, the first suite is skipped and the second is executed. Either way, execution then resumes after the second suite. Both suites are defined by indentation, as described above."
   ]
  },
  {
   "cell_type": "code",
   "execution_count": 7,
   "metadata": {},
   "outputs": [
    {
     "name": "stdout",
     "output_type": "stream",
     "text": [
      "x is greater than or equal to y\n"
     ]
    }
   ],
   "source": [
    "x = 40\n",
    "y = 35\n",
    "\n",
    "if x >= y:  # If this expression is True\n",
    "    # Run this statement\n",
    "    print(\"x is greater than or equal to y\")\n",
    "else:  # Else, it's False\n",
    "    # Then, run this statement\n",
    "    print(\"x is smaller than y\")"
   ]
  },
  {
   "cell_type": "markdown",
   "metadata": {},
   "source": [
    "What's the difference?"
   ]
  },
  {
   "cell_type": "code",
   "execution_count": 8,
   "metadata": {},
   "outputs": [
    {
     "name": "stdout",
     "output_type": "stream",
     "text": [
      "x is greater than or equal to y\n",
      "x is smaller than y\n"
     ]
    }
   ],
   "source": [
    "x = 40\n",
    "y = 35\n",
    "\n",
    "if x >= y:  # If this expression is True\n",
    "    # Run this statement\n",
    "    print(\"x is greater than or equal to y\")\n",
    "\n",
    "# Whether x >= y is True or False doesn't matter; the code below will still run.\n",
    "print(\"x is smaller than y\")"
   ]
  },
  {
   "cell_type": "markdown",
   "metadata": {},
   "source": [
    "## **3. The \"IF-ELSE-IF\" Statement**\n",
    "\n",
    "There is also syntax for branching execution based on several alternatives. For this, use one or more elif (short for else if) clauses. Python evaluates each `<expr>` in turn and executes the suite corresponding to the first that is true. If none of the expressions are true, and an else clause is specified, then its suite is executed:\n",
    "\n",
    "```py\n",
    "if <expr>:\n",
    "    <statement(s)>\n",
    "elif <expr>:\n",
    "    <statement(s)>\n",
    "elif <expr>:\n",
    "    <statement(s)>\n",
    "    ...\n",
    "else:\n",
    "    <statement(s)>\n",
    "```\n"
   ]
  },
  {
   "cell_type": "code",
   "execution_count": null,
   "metadata": {},
   "outputs": [],
   "source": [
    "name = \"Waiz\"\n",
    "\n",
    "if name == \"Alif\":\n",
    "    print(\"Hello, {name}!\")\n",
    "elif name == \"Suriaya\":\n",
    "    print(\"Welcome back, {name}!\")\n",
    "else:\n",
    "    print(\"I don't know who you are!\")\n"
   ]
  },
  {
   "cell_type": "code",
   "execution_count": 11,
   "metadata": {},
   "outputs": [
    {
     "name": "stdout",
     "output_type": "stream",
     "text": [
      "hi\n",
      "yippie\n"
     ]
    }
   ],
   "source": [
    "x = 3\n",
    "\n",
    "if x == 3:\n",
    "    print(\"hi\")\n",
    "\n",
    "if x == 4:\n",
    "    print(\"hello\")\n",
    "else:\n",
    "    print(\"yippie\")\n"
   ]
  },
  {
   "cell_type": "code",
   "execution_count": null,
   "metadata": {},
   "outputs": [],
   "source": [
    "'''\n",
    "Prompt the user to enter an integer. \n",
    "If the integer is between 1 to 5, print \"YOU WIN!\"\n",
    "If the integer is between 6 to 9, print \"BYEEE\"\n",
    "But, if the integer is greater than 10, print \"OVERSHOT\"\n",
    "'''\n",
    "\n"
   ]
  },
  {
   "cell_type": "markdown",
   "metadata": {},
   "source": [
    "# **PRACTICE TIME!**"
   ]
  },
  {
   "cell_type": "markdown",
   "metadata": {},
   "source": [
    "(a) Write a Python code snippet that takes an integer input and prints whether it's an odd or even number."
   ]
  },
  {
   "cell_type": "code",
   "execution_count": null,
   "metadata": {},
   "outputs": [],
   "source": []
  },
  {
   "cell_type": "markdown",
   "metadata": {},
   "source": [
    "(b) You are creating a program to check whether a given year is a leap year or not. Write a Python code snippet that takes a year as input and prints whether it's a leap year or not based on the following conditions:\n",
    "\n",
    "If the year is divisible by 4 but not by 100, or if it's divisible by 400, it's a leap year.\n",
    "Otherwise, it's not a leap year."
   ]
  },
  {
   "cell_type": "code",
   "execution_count": null,
   "metadata": {},
   "outputs": [],
   "source": []
  },
  {
   "cell_type": "markdown",
   "metadata": {},
   "source": [
    "(c) Write a Python code snippet that takes a person's age as input and prints their age group based on the following conditions:\n",
    "\n",
    "- If the age is less than 13, print \"Child\"\n",
    "- If the age is 13 to 19, print \"Teenager\"\n",
    "- If the age is 20 to 64, print \"Adult\"\n",
    "- If the age is 65 or above, print \"Senior\""
   ]
  },
  {
   "cell_type": "code",
   "execution_count": null,
   "metadata": {},
   "outputs": [],
   "source": []
  },
  {
   "cell_type": "markdown",
   "metadata": {},
   "source": [
    "(d) You are creating a program to classify students' grades. Write a Python code that takes a student's numerical grade as input and then prints their corresponding letter grade according to the following criteria:\n",
    "\n",
    "- 90-100: A\n",
    "- 80-89: B\n",
    "- 70-79: C\n",
    "- 60-69: D\n",
    "- Below 60: F"
   ]
  },
  {
   "cell_type": "code",
   "execution_count": null,
   "metadata": {},
   "outputs": [],
   "source": []
  },
  {
   "cell_type": "markdown",
   "metadata": {},
   "source": [
    "(e) You're building a password strength checker program. Write a Python code snippet that takes a password as input. If the password length is less than 8 characters, print \"Weak.\" If the length is between 8 and 12 characters, print \"Medium.\" Otherwise, print \"Strong.\""
   ]
  },
  {
   "cell_type": "code",
   "execution_count": null,
   "metadata": {},
   "outputs": [],
   "source": []
  },
  {
   "cell_type": "markdown",
   "metadata": {},
   "source": [
    "(f) Write a Python code snippet that takes a name as input. If the name is longer than 10 characters, print it in all uppercase letters. Otherwise, print it in title case."
   ]
  },
  {
   "cell_type": "code",
   "execution_count": null,
   "metadata": {},
   "outputs": [],
   "source": []
  },
  {
   "cell_type": "markdown",
   "metadata": {},
   "source": [
    "(g) You are developing a text-based adventure game. Write a Python program that presents the player with a scenario: \"You are in a dark room. There are two doors in front of you, one marked 'Left' and the other marked 'Right'. Choose a door to proceed.\" The player's response will be stored in the choice variable. If they choose 'Left', print \"You entered the left room.\" If they choose 'Right', print \"You entered the right room.\" If they enter any other input, print \"Invalid choice.\""
   ]
  },
  {
   "cell_type": "code",
   "execution_count": null,
   "metadata": {},
   "outputs": [],
   "source": []
  },
  {
   "cell_type": "markdown",
   "metadata": {},
   "source": [
    "(f) You are tasked with creating a program to calculate electricity bills for residential users based on a tiered tariff system. \n",
    "\n",
    "The tariff rates are as follows:\n",
    "\n",
    "- **For the first 200 units:** $0.10 per unit\n",
    "- **For the next 100 units:** $0.15 per unit\n",
    "- **For units above 300:** $0.20 per unit\n",
    "\n",
    "Write a Python code snippet that takes the user's total electricity consumption in units as input and calculates the corresponding bill amount according to the tiered tariff system. Print the calculated bill amount with two decimal places.\n",
    "\n",
    "Additionally, provide the user with a breakdown of the charges for each tier, showcasing the calculation for better transparency.\n",
    "\n",
    "Example:\n",
    "``` m\n",
    "Welcome to the HappyLand Electricity Bill Calculator!\n",
    "Please enter the total units consumed: 275\n",
    "\n",
    "Electricity Consumption Breakdown:\n",
    "First 200 units: 100 units * $0.10/unit = $20.00\n",
    "Next 100 units: 75 units * $0.15/unit = $11.25\n",
    "Units above 300: 0 units * $0.20/unit = $0.00\n",
    "\n",
    "Total Bill Amount: $31.25\n",
    "```"
   ]
  },
  {
   "cell_type": "code",
   "execution_count": null,
   "metadata": {},
   "outputs": [],
   "source": []
  }
 ],
 "metadata": {
  "kernelspec": {
   "display_name": "python-tutorial",
   "language": "python",
   "name": "python3"
  },
  "language_info": {
   "codemirror_mode": {
    "name": "ipython",
    "version": 3
   },
   "file_extension": ".py",
   "mimetype": "text/x-python",
   "name": "python",
   "nbconvert_exporter": "python",
   "pygments_lexer": "ipython3",
   "version": "3.9.6"
  },
  "orig_nbformat": 4
 },
 "nbformat": 4,
 "nbformat_minor": 2
}
