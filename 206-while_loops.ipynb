{
    "cells": [
        {
            "cell_type": "markdown",
            "metadata": {},
            "source": [
                "**Chapter 6**\n",
                "# **Python `while` Loops**\n",
                "\n",
                "`by Codekelas.com`\n",
                "\n",
                "## Introduction\n",
                "\n",
                "Welcome to our exploration of `while` loops! Today we're going to learn about one of the most useful tools in programming. By the end of this class, you'll understand how while loops work and be able to use them to solve interesting problems.\n",
                "\n",
                "Think of a while loop like telling someone \"Keep doing this task until I tell you to stop.\" It's a way to repeat actions based on a condition."
            ]
        },
        {
            "cell_type": "markdown",
            "metadata": {},
            "source": [
                "## Class Roadmap\n",
                "\n",
                "Here's what we'll cover today:\n",
                "\n",
                "1. What is a while loop and how does it work?\n",
                "2. How while loops compare to for loops\n",
                "3. Basic while loop patterns and examples\n",
                "4. Controlling while loops (break, continue, else)\n",
                "5. Fun applications and projects\n",
                "6. Practice exercises\n",
                "\n",
                "Let's get started!"
            ]
        },
        {
            "cell_type": "markdown",
            "metadata": {},
            "source": [
                "## 1. What is a While Loop?\n",
                "\n",
                "A `while` loop is a way to repeat code as long as a condition is `True`. \n",
                "\n",
                "### Basic Syntax:\n",
                "\n",
                "```python\n",
                "while condition:\n",
                "    # code to execute while condition is True\n",
                "```\n",
                "\n",
                "### How it works (step by step):\n",
                "\n",
                "1. Check if the condition is `True`\n",
                "2. If `True`, execute the code inside the loop\n",
                "3. Go back to step 1 and check the condition again\n",
                "4. If the condition is `False`, exit the loop and continue with the rest of the program\n",
                "\n",
                "Let's visualize this:"
            ]
        },
        {
            "cell_type": "markdown",
            "metadata": {},
            "source": [
                "```\n",
                "                    ┌─────────────┐\n",
                "                    │   START     │\n",
                "                    └──────┬──────┘\n",
                "                           ▼\n",
                "                    ┌─────────────┐\n",
                "                 ┌─>│  Condition  │\n",
                "                 │  │   True?     │\n",
                "                 │  └──────┬──────┘\n",
                "                 │         │\n",
                "                 │         ▼\n",
                "                 │   ┌───────────┐     No     ┌─────────────┐\n",
                "                 │   │  True     ├────────────>│    EXIT     │\n",
                "                 │   └─────┬─────┘             └─────────────┘\n",
                "                 │         │ Yes\n",
                "                 │         ▼\n",
                "                 │   ┌───────────┐\n",
                "                 │   │  Execute  │\n",
                "                 │   │   Code    │\n",
                "                 │   └─────┬─────┘\n",
                "                 │         │\n",
                "                 └─────────┘\n",
                "```"
            ]
        },
        {
            "cell_type": "markdown",
            "metadata": {},
            "source": [
                "## 2. Your First While Loop\n",
                "\n",
                "Let's start with a simple example: counting from 1 to 5 using a while loop."
            ]
        },
        {
            "cell_type": "code",
            "execution_count": null,
            "metadata": {},
            "outputs": [],
            "source": [
                "# Initialize a counter\n",
                "counter = 1\n",
                "\n",
                "# Set up the while loop\n",
                "while counter <= 5:  # This is our condition: keep going as long as counter is 5 or less\n",
                "    print(counter)   # Print the current value\n",
                "    counter += 1     # Add 1 to the counter (very important!)\n",
                "\n",
                "print(\"Loop finished!\")"
            ]
        },
        {
            "cell_type": "markdown",
            "metadata": {},
            "source": [
                "### Let's break this down step by step:\n",
                "\n",
                "1. We start with `counter = 1`\n",
                "2. We check if `counter <= 5` (1 is less than 5, so condition is `True`)\n",
                "3. We print the current value: `1`\n",
                "4. We increase counter by 1, so now `counter = 2`\n",
                "5. We go back to the condition and check if `counter <= 5` (2 is less than 5, so condition is `True`)\n",
                "6. We print the current value: `2`\n",
                "7. ... (this continues)\n",
                "8. Eventually, `counter = 6`\n",
                "9. We check if `counter <= 5` (6 is NOT less than or equal to 5, so condition is `False`)\n",
                "10. We exit the loop and print \"Loop finished!\""
            ]
        },
        {
            "cell_type": "markdown",
            "metadata": {},
            "source": [
                "### 🤔 Think About It:\n",
                "1. What would happen if we didn't include the `counter += 1` line?\n",
                "2. What's the value of `counter` after the loop finishes?\n",
                "3. How could we modify this loop to count down from 5 to 1?"
            ]
        },
        {
            "cell_type": "markdown",
            "metadata": {},
            "source": [
                "### Answers:\n",
                "1. The loop would run forever (infinite loop) because `counter` would always be 1, and 1 is always less than or equal to 5.\n",
                "2. After the loop, `counter` is 6. It became 6, and then the condition became False, so we exited the loop.\n",
                "3. To count down from 5 to 1:"
            ]
        },
        {
            "cell_type": "code",
            "execution_count": null,
            "metadata": {},
            "outputs": [],
            "source": [
                "# Counting down from 5 to 1\n",
                "counter = 5\n",
                "\n",
                "while counter >= 1:  # Keep going as long as counter is 1 or more\n",
                "    print(counter)   # Print the current value\n",
                "    counter -= 1     # Subtract 1 from the counter\n",
                "\n",
                "print(\"Blast off!\")"
            ]
        },
        {
            "cell_type": "markdown",
            "metadata": {},
            "source": [
                "## 3. For Loops vs While Loops\n",
                "\n",
                "You already know about `for` loops from your previous class. Let's compare them with `while` loops:\n",
                "\n",
                "| For Loops | While Loops |\n",
                "|-----------|-------------|\n",
                "| Used when you know how many times to repeat | Used when you don't know how many times to repeat |\n",
                "| Works with sequences (lists, strings, etc.) | Works with any condition |\n",
                "| Usually simpler for counting tasks | More flexible for complex conditions |\n",
                "| Always stops when it reaches the end of the sequence | Continues until the condition becomes False |\n",
                "\n",
                "### Examples where while loops are better:\n",
                "\n",
                "1. **User input validation** - Keep asking until the user enters valid input\n",
                "2. **Games** - Continue until the player wins or loses\n",
                "3. **Processing data** - Continue until you find what you're looking for"
            ]
        },
        {
            "cell_type": "markdown",
            "metadata": {},
            "source": [
                "## 4. A While Loop for Input Validation\n",
                "\n",
                "One common use of while loops is to validate user input. Let's create a program that asks the user for a positive number and keeps asking until it gets one."
            ]
        },
        {
            "cell_type": "code",
            "execution_count": null,
            "metadata": {},
            "outputs": [],
            "source": [
                "# Input validation using a while loop\n",
                "valid_input = False  # We start with assuming the input is not valid\n",
                "\n",
                "while not valid_input:  # Keep looping as long as we don't have valid input\n",
                "    user_input = input(\"Enter a positive number: \")\n",
                "    \n",
                "    # Try to convert to a number and check if positive\n",
                "    try:\n",
                "        number = float(user_input)  # Convert the input to a number\n",
                "        if number > 0:  # Check if it's positive\n",
                "            valid_input = True  # If it is positive, we're done!\n",
                "        else:\n",
                "            print(\"That's not positive! Try again.\")\n",
                "    except ValueError:  # This happens if the input can't be converted to a number\n",
                "        print(\"That's not a number! Try again.\")\n",
                "\n",
                "print(f\"Thank you! You entered the positive number: {number}\")"
            ]
        },
        {
            "cell_type": "markdown",
            "metadata": {},
            "source": [
                "### Let's try a fun example: A number guessing game!"
            ]
        },
        {
            "cell_type": "code",
            "execution_count": null,
            "metadata": {},
            "outputs": [],
            "source": [
                "# A simple number guessing game\n",
                "import random\n",
                "\n",
                "# Generate a random number between 1 and 10\n",
                "secret_number = random.randint(1, 10)\n",
                "attempts = 0\n",
                "max_attempts = 3\n",
                "\n",
                "print(\"Welcome to the Number Guessing Game!\")\n",
                "print(f\"I'm thinking of a number between 1 and 10. You have {max_attempts} attempts.\")\n",
                "\n",
                "# Game loop\n",
                "while attempts < max_attempts:\n",
                "    try:\n",
                "        # Get the user's guess\n",
                "        guess = int(input(\"Enter your guess: \"))\n",
                "        attempts += 1\n",
                "        \n",
                "        # Check the guess\n",
                "        if guess < secret_number:\n",
                "            print(f\"Too low! Attempts left: {max_attempts - attempts}\")\n",
                "        elif guess > secret_number:\n",
                "            print(f\"Too high! Attempts left: {max_attempts - attempts}\")\n",
                "        else:\n",
                "            print(f\"Congratulations! You guessed the number in {attempts} attempts!\")\n",
                "            break  # Exit the loop if the guess is correct\n",
                "            \n",
                "    except ValueError:\n",
                "        print(\"Please enter a valid number.\")\n",
                "        # Don't count invalid inputs as attempts\n",
                "        attempts -= 1\n",
                "\n",
                "# If we get here and still haven't guessed, game over\n",
                "if guess != secret_number:\n",
                "    print(f\"Game over! You've used all {max_attempts} attempts.\")\n",
                "    print(f\"The secret number was: {secret_number}\")"
            ]
        },
        {
            "cell_type": "markdown",
            "metadata": {},
            "source": [
                "## 5. While Loop with a Flag\n",
                "\n",
                "Sometimes, we use a boolean variable (True/False) to control a while loop. This is called a \"flag-controlled loop\"."
            ]
        },
        {
            "cell_type": "code",
            "execution_count": null,
            "metadata": {},
            "outputs": [],
            "source": [
                "# Flag-controlled loop for a simple menu system\n",
                "running = True  # This is our flag\n",
                "\n",
                "while running:  # Keep looping as long as running is True\n",
                "    print(\"\\nMenu:\")\n",
                "    print(\"1. Say hello\")\n",
                "    print(\"2. Tell me a fun fact\")\n",
                "    print(\"3. Exit\")\n",
                "    \n",
                "    choice = input(\"Enter your choice (1-3): \")\n",
                "    \n",
                "    if choice == '1':\n",
                "        print(\"Hello there! How are you today?\")\n",
                "    elif choice == '2':\n",
                "        print(\"Fun fact: Honey never spoils! Archaeologists have found pots of honey in ancient Egyptian tombs that are over 3,000 years old and still perfectly good to eat.\")\n",
                "    elif choice == '3':\n",
                "        print(\"Goodbye!\")\n",
                "        running = False  # Change the flag to exit the loop\n",
                "    else:\n",
                "        print(\"Invalid choice. Please try again.\")"
            ]
        },
        {
            "cell_type": "markdown",
            "metadata": {},
            "source": [
                "## ✅ Checkpoint 1\n",
                "\n",
                "Let's make sure we understand the basics before moving on. Try to solve this simple problem:\n",
                "\n",
                "**Write a while loop that prints all even numbers from 2 to 10:**"
            ]
        },
        {
            "cell_type": "code",
            "execution_count": null,
            "metadata": {},
            "outputs": [],
            "source": [
                "# Your code here\n",
                "number = 2\n",
                "\n",
                "# Add your while loop here\n"
            ]
        },
        {
            "cell_type": "markdown",
            "metadata": {},
            "source": [
                "### Solution:"
            ]
        },
        {
            "cell_type": "code",
            "execution_count": null,
            "metadata": {},
            "outputs": [],
            "source": [
                "number = 2\n",
                "\n",
                "while number <= 10:\n",
                "    print(number)\n",
                "    number += 2  # Increase by 2 to get the next even number\n",
                "    \n",
                "print(\"Done!\")"
            ]
        },
        {
            "cell_type": "markdown",
            "metadata": {},
            "source": [
                "## 6. Loop Control Statements\n",
                "\n",
                "Python gives us special commands to control our loops:\n",
                "\n",
                "- `break`: Exit the loop immediately\n",
                "- `continue`: Skip the rest of the current iteration and go back to the condition\n",
                "- `else`: Run code after the loop finishes normally (not if we used `break`)\n",
                "\n",
                "Let's see examples of each one."
            ]
        },
        {
            "cell_type": "markdown",
            "metadata": {},
            "source": [
                "### 6.1 Using `break`\n",
                "\n",
                "The `break` statement immediately exits the loop, no matter what."
            ]
        },
        {
            "cell_type": "code",
            "execution_count": null,
            "metadata": {},
            "outputs": [],
            "source": [
                "# Using break to exit a loop early\n",
                "count = 1\n",
                "\n",
                "while True:  # This condition is always True, so this would run forever without a break\n",
                "    print(f\"Count: {count}\")\n",
                "    count += 1\n",
                "    \n",
                "    if count > 5:  # When count exceeds 5, exit the loop\n",
                "        print(\"Breaking out of the loop!\")\n",
                "        break  # This exits the loop immediately\n",
                "\n",
                "print(\"Loop has ended.\")"
            ]
        },
        {
            "cell_type": "markdown",
            "metadata": {},
            "source": [
                "### 6.2 Using `continue`\n",
                "\n",
                "The `continue` statement skips the rest of the current iteration and jumps back to the condition check."
            ]
        },
        {
            "cell_type": "code",
            "execution_count": null,
            "metadata": {},
            "outputs": [],
            "source": [
                "# Using continue to skip iterations\n",
                "count = 0\n",
                "\n",
                "while count < 10:\n",
                "    count += 1\n",
                "    \n",
                "    # Skip even numbers\n",
                "    if count % 2 == 0:  # If count is even (remainder when divided by 2 is 0)\n",
                "        print(f\"Skipping {count} because it's even\")\n",
                "        continue  # Skip the rest of this iteration\n",
                "        \n",
                "    print(f\"Processing odd number: {count}\")\n",
                "\n",
                "print(\"Loop complete.\")"
            ]
        },
        {
            "cell_type": "markdown",
            "metadata": {},
            "source": [
                "### 6.3 Using `else` with a While Loop\n",
                "\n",
                "The `else` block executes after the while loop completes normally (when the condition becomes False)."
            ]
        },
        {
            "cell_type": "code",
            "execution_count": null,
            "metadata": {},
            "outputs": [],
            "source": [
                "# Using else with a while loop\n",
                "count = 1\n",
                "\n",
                "while count <= 5:\n",
                "    print(f\"Count: {count}\")\n",
                "    count += 1\n",
                "else:\n",
                "    # This runs when the condition becomes False\n",
                "    print(\"The loop completed normally!\")\n",
                "    \n",
                "print(\"After the loop.\")"
            ]
        },
        {
            "cell_type": "code",
            "execution_count": null,
            "metadata": {},
            "outputs": [],
            "source": [
                "# Compare with a loop that uses break\n",
                "count = 1\n",
                "\n",
                "while count <= 5:\n",
                "    print(f\"Count: {count}\")\n",
                "    \n",
                "    if count == 3:\n",
                "        print(\"Breaking at 3!\")\n",
                "        break  # This stops the loop early\n",
                "        \n",
                "    count += 1\n",
                "else:\n",
                "    # This will NOT run because we used break\n",
                "    print(\"This will NOT print because we used break\")\n",
                "    \n",
                "print(\"After the loop.\")"
            ]
        },
        {
            "cell_type": "markdown",
            "metadata": {},
            "source": [
                "## 7. The Dreaded Infinite Loop\n",
                "\n",
                "An infinite loop is a loop that never ends. This usually happens when we make a mistake.\n",
                "\n",
                "### Common Causes of Infinite Loops:\n",
                "1. Forgetting to update the variable used in the condition\n",
                "2. Condition logic errors\n",
                "3. Accidentally resetting the counter variable inside the loop\n",
                "\n",
                "### Example of an Infinite Loop (DON'T RUN THIS):\n",
                "```python\n",
                "# This will run forever!\n",
                "counter = 1\n",
                "while counter <= 5:\n",
                "    print(counter)\n",
                "    # Oops! We forgot to increment counter\n",
                "```\n",
                "\n",
                "### How to Avoid Infinite Loops:\n",
                "- Always make sure the condition will eventually become False\n",
                "- Use a safety counter or timeout\n",
                "- Double-check your logic\n",
                "\n",
                "If you do get stuck in an infinite loop in Jupyter, you can interrupt it by clicking the \"Stop\" button (■) in the toolbar."
            ]
        },
        {
            "cell_type": "markdown",
            "metadata": {},
            "source": [
                "## ✅ Checkpoint 2\n",
                "\n",
                "Let's practice what we've learned so far. Try to solve this problem:\n",
                "\n",
                "**Write a program that keeps asking the user for a password until they enter \"python123\" or have tried 3 times:**"
            ]
        },
        {
            "cell_type": "code",
            "execution_count": null,
            "metadata": {},
            "outputs": [],
            "source": [
                "# Your code here\n",
                "correct_password = \"python123\"\n",
                "\n",
                "# Add your while loop here\n"
            ]
        },
        {
            "cell_type": "markdown",
            "metadata": {},
            "source": [
                "### Solution:"
            ]
        },
        {
            "cell_type": "code",
            "execution_count": null,
            "metadata": {},
            "outputs": [],
            "source": [
                "correct_password = \"python123\"\n",
                "attempts = 0\n",
                "max_attempts = 3\n",
                "\n",
                "while attempts < max_attempts:\n",
                "    password = input(\"Enter the password: \")\n",
                "    attempts += 1\n",
                "    \n",
                "    if password == correct_password:\n",
                "        print(\"Access granted!\")\n",
                "        break\n",
                "    else:\n",
                "        remaining = max_attempts - attempts\n",
                "        if remaining > 0:\n",
                "            print(f\"Incorrect password. You have {remaining} attempts left.\")\n",
                "        else:\n",
                "            print(\"No attempts left. Access denied.\")"
            ]
        },
        {
            "cell_type": "markdown",
            "metadata": {},
            "source": [
                "## 8. Patterns with While Loops\n",
                "\n",
                "Let's explore some useful patterns for while loops."
            ]
        },
        {
            "cell_type": "markdown",
            "metadata": {},
            "source": [
                "### 8.1 Sentinel-Controlled Loops\n",
                "\n",
                "A sentinel is a special value that signals the end of input or processing."
            ]
        },
        {
            "cell_type": "code",
            "execution_count": null,
            "metadata": {},
            "outputs": [],
            "source": [
                "# Sentinel-controlled loop to collect numbers until a specific value is entered\n",
                "numbers = []  # An empty list to store our numbers\n",
                "sentinel = -1  # Our special value that signals the end\n",
                "\n",
                "print(f\"Enter numbers to add to the list. Enter {sentinel} to stop.\")\n",
                "\n",
                "while True:  # Loop indefinitely\n",
                "    try:\n",
                "        user_input = int(input(\"Enter a number: \"))\n",
                "        \n",
                "        if user_input == sentinel:  # Check for the sentinel value\n",
                "            print(\"Sentinel value detected. Stopping.\")\n",
                "            break  # Exit the loop\n",
                "            \n",
                "        numbers.append(user_input)  # Add the number to our list\n",
                "    except ValueError:\n",
                "        print(\"Please enter a valid number.\")\n",
                "\n",
                "print(f\"You entered these numbers: {numbers}\")\n",
                "if numbers:  # Only calculate if the list is not empty\n",
                "    print(f\"Sum: {sum(numbers)}\")\n",
                "    print(f\"Average: {sum(numbers) / len(numbers)}\")\n",
                "else:\n",
                "    print(\"No numbers were entered.\")"
            ]
        },
        {
            "cell_type": "markdown",
            "metadata": {},
            "source": [
                "### 8.2 Counter-Controlled Loops\n",
                "\n",
                "A counter-controlled loop is similar to a for loop but gives you more flexibility."
            ]
        },
        {
            "cell_type": "code",
            "execution_count": null,
            "metadata": {},
            "outputs": [],
            "source": [
                "# Counter-controlled loop with dynamic step size\n",
                "counter = 0\n",
                "target = 20\n",
                "step_size = 2\n",
                "\n",
                "print(f\"Counting from 0 to {target} with dynamic step size:\")\n",
                "\n",
                "while counter < target:\n",
                "    print(f\"Current value: {counter}\")\n",
                "    \n",
                "    # Dynamically change the step size based on the current value\n",
                "    if counter >= 10:  # If we're halfway there\n",
                "        step_size = 4  # Take bigger steps\n",
                "        print(\"(Speeding up!)\")\n",
                "        \n",
                "    counter += step_size  # Add the step size to the counter\n",
                "\n",
                "print(f\"Final value: {counter}\")"
            ]
        },
        {
            "cell_type": "markdown",
            "metadata": {},
            "source": [
                "## 9. Nested While Loops\n",
                "\n",
                "Just like with for loops, you can put one while loop inside another."
            ]
        },
        {
            "cell_type": "code",
            "execution_count": null,
            "metadata": {},
            "outputs": [],
            "source": [
                "# Nested while loops to create a simple pattern\n",
                "row = 1\n",
                "\n",
                "while row <= 5:  # Loop for each row\n",
                "    # Print the row number first\n",
                "    print(f\"Row {row}: \", end=\"\")\n",
                "    \n",
                "    # Inner loop for each star in the row\n",
                "    stars = 1\n",
                "    while stars <= row:\n",
                "        print(\"*\", end=\"\")\n",
                "        stars += 1\n",
                "        \n",
                "    # Start a new line for the next row\n",
                "    print()  \n",
                "    row += 1"
            ]
        },
        {
            "cell_type": "markdown",
            "metadata": {},
            "source": [
                "## ✅ Checkpoint 3\n",
                "\n",
                "Let's practice nested while loops. Try to solve this problem:\n",
                "\n",
                "**Create a simple multiplication table for the numbers 1 to 5:**"
            ]
        },
        {
            "cell_type": "code",
            "execution_count": null,
            "metadata": {},
            "outputs": [],
            "source": [
                "# Your code here\n"
            ]
        },
        {
            "cell_type": "markdown",
            "metadata": {},
            "source": [
                "### Solution:"
            ]
        },
        {
            "cell_type": "code",
            "execution_count": null,
            "metadata": {},
            "outputs": [],
            "source": [
                "# Nested while loops to create a multiplication table\n",
                "row = 1\n",
                "\n",
                "# Print header\n",
                "print(\"Multiplication Table (1-5):\")\n",
                "print(\"----------------------\")\n",
                "\n",
                "while row <= 5:\n",
                "    col = 1\n",
                "    while col <= 5:\n",
                "        # Use formatted string with width to align columns\n",
                "        # The :2d means \"format as a decimal integer with width 2\"\n",
                "        print(f\"{row * col:2d}\", end=\" \")\n",
                "        col += 1\n",
                "    # Start a new row\n",
                "    print()  \n",
                "    row += 1"
            ]
        },
        {
            "cell_type": "markdown",
            "metadata": {},
            "source": [
                "## 10. Simulating a Do-While Loop\n",
                "\n",
                "Python doesn't have a built-in do-while loop (which executes the body at least once before checking the condition). But we can simulate one!"
            ]
        },
        {
            "cell_type": "code",
            "execution_count": null,
            "metadata": {},
            "outputs": [],
            "source": [
                "# Simulating a do-while loop in Python\n",
                "print(\"This loop will run at least once, then check if we should continue.\")\n",
                "\n",
                "while True:\n",
                "    # This code will execute at least once\n",
                "    answer = input(\"Do you want to continue? (yes/no): \")\n",
                "    \n",
                "    # Then we check the condition\n",
                "    if answer.lower() != 'yes':\n",
                "        print(\"You chose not to continue.\")\n",
                "        break\n",
                "    \n",
                "    print(\"Continuing the loop...\")\n",
                "        \n",
                "print(\"Loop exited.\")"
            ]
        },
        {
            "cell_type": "markdown",
            "metadata": {},
            "source": [
                "## 11. Real-World Applications\n",
                "\n",
                "Let's explore some practical ways to use while loops."
            ]
        },
        {
            "cell_type": "markdown",
            "metadata": {},
            "source": [
                "### 11.1 Calculating Sum to a Target\n",
                "\n",
                "This program adds numbers until reaching a target."
            ]
        },
        {
            "cell_type": "code",
            "execution_count": null,
            "metadata": {},
            "outputs": [],
            "source": [
                "# Calculate the sum of numbers from user input until reaching a target\n",
                "target = 50  # Our target sum\n",
                "current_sum = 0  # Start with 0\n",
                "entries = []  # Keep track of what the user enters\n",
                "\n",
                "print(f\"Enter numbers to add. The goal is to reach a sum of {target}.\")\n",
                "\n",
                "while current_sum < target:  # Keep going until we reach or exceed the target\n",
                "    remaining = target - current_sum\n",
                "    print(f\"Current sum: {current_sum}. Need {remaining} more to reach {target}.\")\n",
                "    \n",
                "    try:\n",
                "        num = float(input(\"Enter a number: \"))\n",
                "        entries.append(num)  # Add the number to our list\n",
                "        current_sum += num  # Add it to the running sum\n",
                "    except ValueError:\n",
                "        print(\"Please enter a valid number.\")\n",
                "\n",
                "print(f\"\\nTarget reached! Final sum: {current_sum}\")\n",
                "print(f\"You entered these numbers: {entries}\")\n",
                "print(f\"It took {len(entries)} entries to reach the target.\")\n",
                "\n",
                "if current_sum > target:\n",
                "    print(f\"You exceeded the target by {current_sum - target}.\")\n",
                "else:\n",
                "    print(\"You hit the target exactly! Perfect!\")"
            ]
        },
        {
            "cell_type": "markdown",
            "metadata": {},
            "source": [
                "### 11.2 Rock, Paper, Scissors Game\n",
                "\n",
                "Let's create a simple Rock, Paper, Scissors game using a while loop."
            ]
        },
        {
            "cell_type": "code",
            "execution_count": null,
            "metadata": {},
            "outputs": [],
            "source": [
                "import random\n",
                "\n",
                "def rock_paper_scissors():\n",
                "    choices = [\"rock\", \"paper\", \"scissors\"]\n",
                "    user_score = 0\n",
                "    computer_score = 0\n",
                "    rounds_played = 0\n",
                "    \n",
                "    print(\"Welcome to Rock, Paper, Scissors!\")\n",
                "    print(\"--------------------------------\")\n",
                "    print(\"Enter 'rock', 'paper', or 'scissors' to play.\")\n",
                "    print(\"Enter 'quit' to exit the game.\")\n",
                "    \n",
                "    while True:  # Keep playing until the user quits\n",
                "        user_choice = input(\"\\nYour choice: \").lower()\n",
                "        \n",
                "        if user_choice == 'quit':  # Check if the user wants to quit\n",
                "            break\n",
                "            \n",
                "        if user_choice not in choices:  # Validate the user's choice\n",
                "            print(\"Invalid choice! Please enter 'rock', 'paper', or 'scissors'.\")\n",
                "            continue\n",
                "            \n",
                "        # Computer makes a random choice\n",
                "        computer_choice = random.choice(choices)\n",
                "        print(f\"Computer chose: {computer_choice}\")\n",
                "        \n",
                "        # Determine the winner\n",
                "        if user_choice == computer_choice:  # It's a tie\n",
                "            print(\"It's a tie!\")\n",
                "        elif (user_choice == \"rock\" and computer_choice == \"scissors\") or \\\n",
                "             (user_choice == \"paper\" and computer_choice == \"rock\") or \\\n",
                "             (user_choice == \"scissors\" and computer_choice == \"paper\"):\n",
                "            print(\"You win!\")\n",
                "            user_score += 1\n",
                "        else:  # Computer wins\n",
                "            print(\"Computer wins!\")\n",
                "            computer_score += 1\n",
                "            \n",
                "        rounds_played += 1\n",
                "        \n",
                "        # Display the current score\n",
                "        print(f\"\\nScore after {rounds_played} rounds:\")\n",
                "        print(f\"You: {user_score}, Computer: {computer_score}\")\n",
                "    \n",
                "    # Final results\n",
                "    print(\"\\nGame Over!\")\n",
                "    print(f\"Final Score - You: {user_score}, Computer: {computer_score}\")\n",
                "    \n",
                "    if user_score > computer_score:\n",
                "        print(\"Congratulations! You won the game!\")\n",
                "    elif computer_score > user_score:\n",
                "        print(\"The computer won this time. Better luck next game!\")\n",
                "    else:\n",
                "        print(\"The game ended in a tie!\")\n",
                "\n",
                "# Run the game\n",
                "rock_paper_scissors()"
            ]
        },
        {
            "cell_type": "markdown",
            "metadata": {},
            "source": [
                "## 12. Practice Problems\n",
                "\n",
                "Now let's practice with some hands-on problems! Try to solve these on your own before checking the solutions."
            ]
        },
        {
            "cell_type": "markdown",
            "metadata": {},
            "source": [
                "### Problem 1: Counting Vowels\n",
                "\n",
                "Write a function that counts the number of vowels in a string using a while loop."
            ]
        },
        {
            "cell_type": "code",
            "execution_count": null,
            "metadata": {},
            "outputs": [],
            "source": [
                "# Your code here\n",
                "def count_vowels(text):\n",
                "    # Write your solution\n",
                "    pass\n",
                "\n",
                "# Test with some examples\n",
                "test_strings = [\"hello\", \"Python is awesome\", \"rhythm\"]\n",
                "for string in test_strings:\n",
                "    print(f\"Vowels in '{string}': {count_vowels(string)}\")"
            ]
        },
        {
            "cell_type": "markdown",
            "metadata": {},
            "source": [
                "### Problem 1 Solution:"
            ]
        },
        {
            "cell_type": "code",
            "execution_count": null,
            "metadata": {},
            "outputs": [],
            "source": [
                "def count_vowels(text):\n",
                "    # Convert to lowercase to make it case-insensitive\n",
                "    text = text.lower()\n",
                "    vowels = \"aeiou\"  # The vowels we want to count\n",
                "    count = 0  # Start with 0 vowels\n",
                "    index = 0  # Start at the beginning of the text\n",
                "    \n",
                "    # Loop through each character in the text\n",
                "    while index < len(text):\n",
                "        if text[index] in vowels:  # If the character is a vowel\n",
                "            count += 1  # Increment the count\n",
                "        index += 1  # Move to the next character\n",
                "    \n",
                "    return count\n",
                "\n",
                "# Test with some examples\n",
                "test_strings = [\"hello\", \"Python is awesome\", \"rhythm\"]\n",
                "for string in test_strings:\n",
                "    vowel_count = count_vowels(string)\n",
                "    print(f\"Vowels in '{string}': {vowel_count}\")"
            ]
        },
        {
            "cell_type": "markdown",
            "metadata": {},
            "source": [
                "### Problem 2: FizzBuzz\n",
                "\n",
                "Write a function that prints numbers from 1 to n. For multiples of 3, print \"Fizz\" instead of the number. For multiples of 5, print \"Buzz\". For numbers that are multiples of both 3 and 5, print \"FizzBuzz\"."
            ]
        },
        {
            "cell_type": "code",
            "execution_count": null,
            "metadata": {},
            "outputs": [],
            "source": [
                "# Your code here\n",
                "def fizzbuzz(n):\n",
                "    # Write your solution\n",
                "    pass\n",
                "\n",
                "# Test with n = 20\n",
                "fizzbuzz(20)"
            ]
        },
        {
            "cell_type": "markdown",
            "metadata": {},
            "source": [
                "### Problem 2 Solution:"
            ]
        },
        {
            "cell_type": "code",
            "execution_count": null,
            "metadata": {},
            "outputs": [],
            "source": [
                "def fizzbuzz(n):\n",
                "    num = 1  # Start with 1\n",
                "    \n",
                "    while num <= n:  # Continue until we reach n\n",
                "        # Check for divisibility by both 3 and 5 first\n",
                "        if num % 3 == 0 and num % 5 == 0:\n",
                "            print(\"FizzBuzz\")\n",
                "        # Then check for divisibility by 3\n",
                "        elif num % 3 == 0:\n",
                "            print(\"Fizz\")\n",
                "        # Then check for divisibility by 5\n",
                "        elif num % 5 == 0:\n",
                "            print(\"Buzz\")\n",
                "        # If none of the above, just print the number\n",
                "        else:\n",
                "            print(num)\n",
                "            \n",
                "        num += 1  # Increment to the next number\n",
                "\n",
                "# Test with n = 20\n",
                "fizzbuzz(20)"
            ]
        },
        {
            "cell_type": "markdown",
            "metadata": {},
            "source": [
                "### Problem 3: Password Validator\n",
                "\n",
                "Write a program that checks if a password meets certain criteria: at least 8 characters long, contains at least one uppercase letter, one lowercase letter, and one digit."
            ]
        },
        {
            "cell_type": "code",
            "execution_count": null,
            "metadata": {},
            "outputs": [],
            "source": [
                "# Your code here\n",
                "def validate_password():\n",
                "    # Write your solution\n",
                "    pass\n",
                "\n",
                "# Run the validator\n",
                "validate_password()"
            ]
        },
        {
            "cell_type": "markdown",
            "metadata": {},
            "source": [
                "### Problem 3 Solution:"
            ]
        },
        {
            "cell_type": "code",
            "execution_count": null,
            "metadata": {},
            "outputs": [],
            "source": [
                "def validate_password():\n",
                "    print(\"Password Validator\")\n",
                "    print(\"==================\")\n",
                "    print(\"Your password must:\")\n",
                "    print(\"- Be at least 8 characters long\")\n",
                "    print(\"- Contain at least one uppercase letter\")\n",
                "    print(\"- Contain at least one lowercase letter\")\n",
                "    print(\"- Contain at least one digit\")\n",
                "    \n",
                "    valid_password = False  # Start with assuming the password is invalid\n",
                "    \n",
                "    while not valid_password:\n",
                "        password = input(\"\\nEnter a password: \")\n",
                "        \n",
                "        # Check each criterion\n",
                "        length_ok = len(password) >= 8\n",
                "        has_upper = False\n",
                "        has_lower = False\n",
                "        has_digit = False\n",
                "        \n",
                "        # Check each character in the password\n",
                "        index = 0\n",
                "        while index < len(password):\n",
                "            char = password[index]\n",
                "            if char.isupper():\n",
                "                has_upper = True\n",
                "            if char.islower():\n",
                "                has_lower = True\n",
                "            if char.isdigit():\n",
                "                has_digit = True\n",
                "            index += 1\n",
                "        \n",
                "        # Report results\n",
                "        print(\"\\nPassword check results:\")\n",
                "        print(f\"✓ Length >= 8: {'Yes' if length_ok else 'No'}\")\n",
                "        print(f\"✓ Has uppercase: {'Yes' if has_upper else 'No'}\")\n",
                "        print(f\"✓ Has lowercase: {'Yes' if has_lower else 'No'}\")\n",
                "        print(f\"✓ Has digit: {'Yes' if has_digit else 'No'}\")\n",
                "        \n",
                "        # Check if all criteria are met\n",
                "        if length_ok and has_upper and has_lower and has_digit:\n",
                "            valid_password = True\n",
                "            print(\"\\n✅ Password is valid! Good job!\")\n",
                "        else:\n",
                "            print(\"\\n❌ Password is not valid. Please try again.\")\n",
                "    \n",
                "# Run the validator\n",
                "validate_password()"
            ]
        },
        {
            "cell_type": "markdown",
            "metadata": {},
            "source": [
                "### Problem 4: Dice Rolling Simulator\n",
                "\n",
                "Create a dice rolling simulator that keeps rolling a six-sided die until the user decides to stop."
            ]
        },
        {
            "cell_type": "code",
            "execution_count": null,
            "metadata": {},
            "outputs": [],
            "source": [
                "# Your code here\n",
                "import random\n",
                "\n",
                "def roll_dice():\n",
                "    # Write your solution\n",
                "    pass\n",
                "\n",
                "# Run the simulator\n",
                "roll_dice()"
            ]
        },
        {
            "cell_type": "markdown",
            "metadata": {},
            "source": [
                "### Problem 4 Solution:"
            ]
        },
        {
            "cell_type": "code",
            "execution_count": null,
            "metadata": {},
            "outputs": [],
            "source": [
                "import random\n",
                "\n",
                "def roll_dice():\n",
                "    rolls = 0  # Keep track of how many times we've rolled\n",
                "    roll_history = []  # Keep track of all the results\n",
                "    \n",
                "    print(\"Welcome to the Dice Rolling Simulator!\")\n",
                "    print(\"----------------------------------\")\n",
                "    \n",
                "    keep_rolling = True\n",
                "    \n",
                "    while keep_rolling:\n",
                "        # Roll the die (generate a random number from 1 to 6)\n",
                "        roll = random.randint(1, 6)\n",
                "        rolls += 1\n",
                "        roll_history.append(roll)\n",
                "        \n",
                "        # Show the result\n",
                "        print(f\"\\nRoll {rolls}: {roll}\")\n",
                "        \n",
                "        # Ask if the user wants to roll again\n",
                "        choice = input(\"Roll again? (yes/no): \")\n",
                "        if choice.lower() != 'yes':\n",
                "            keep_rolling = False\n",
                "    \n",
                "    # Show summary at the end\n",
                "    print(f\"\\nYou rolled the die {rolls} times.\")\n",
                "    print(f\"Roll history: {roll_history}\")\n",
                "    \n",
                "    # Calculate and show statistics\n",
                "    if rolls > 0:\n",
                "        # Count how many times each number appeared\n",
                "        counts = {}\n",
                "        for i in range(1, 7):\n",
                "            counts[i] = roll_history.count(i)\n",
                "        \n",
                "        print(\"\\nDice statistics:\")\n",
                "        for num, count in counts.items():\n",
                "            percentage = (count / rolls) * 100\n",
                "            print(f\"  {num}: {count} times ({percentage:.1f}%)\")\n",
                "\n",
                "# Run the simulator\n",
                "roll_dice()"
            ]
        },
        {
            "cell_type": "markdown",
            "metadata": {},
            "source": [
                "## 13. Personal Project: Simple Interactive Calculator\n",
                "\n",
                "Let's build a simple calculator that keeps running until the user decides to quit. This will combine many of the concepts we've learned."
            ]
        },
        {
            "cell_type": "code",
            "execution_count": null,
            "metadata": {},
            "outputs": [],
            "source": [
                "def calculator():\n",
                "    print(\"Welcome to the Simple Calculator!\")\n",
                "    print(\"=================================\")\n",
                "    print(\"Operations:\")\n",
                "    print(\"  + : Addition\")\n",
                "    print(\"  - : Subtraction\")\n",
                "    print(\"  * : Multiplication\")\n",
                "    print(\"  / : Division\")\n",
                "    print(\"  q : Quit the calculator\")\n",
                "    \n",
                "    # Keep track of calculation history\n",
                "    history = []\n",
                "    \n",
                "    # Calculator main loop\n",
                "    while True:\n",
                "        print(\"\\n\" + \"-\" * 30)\n",
                "        \n",
                "        # Get first number\n",
                "        try:\n",
                "            num1 = float(input(\"Enter first number: \"))\n",
                "        except ValueError:\n",
                "            print(\"Invalid number. Please try again.\")\n",
                "            continue\n",
                "        \n",
                "        # Get operation\n",
                "        operation = input(\"Enter operation (+, -, *, /, or q to quit): \")\n",
                "        \n",
                "        # Check for quit\n",
                "        if operation.lower() == 'q':\n",
                "            break\n",
                "        \n",
                "        # Validate operation\n",
                "        if operation not in ['+', '-', '*', '/']:\n",
                "            print(\"Invalid operation. Please try again.\")\n",
                "            continue\n",
                "        \n",
                "        # Get second number\n",
                "        try:\n",
                "            num2 = float(input(\"Enter second number: \"))\n",
                "        except ValueError:\n",
                "            print(\"Invalid number. Please try again.\")\n",
                "            continue\n",
                "        \n",
                "        # Perform calculation\n",
                "        result = None\n",
                "        \n",
                "        try:\n",
                "            if operation == '+':\n",
                "                result = num1 + num2\n",
                "            elif operation == '-':\n",
                "                result = num1 - num2\n",
                "            elif operation == '*':\n",
                "                result = num1 * num2\n",
                "            elif operation == '/':\n",
                "                if num2 == 0:\n",
                "                    print(\"Error: Division by zero!\")\n",
                "                    continue\n",
                "                result = num1 / num2\n",
                "        except Exception as e:\n",
                "            print(f\"Calculation error: {e}\")\n",
                "            continue\n",
                "        \n",
                "        # Display result\n",
                "        print(f\"\\nResult: {num1} {operation} {num2} = {result}\")\n",
                "        \n",
                "        # Add to history\n",
                "        calculation = f\"{num1} {operation} {num2} = {result}\"\n",
                "        history.append(calculation)\n",
                "        \n",
                "        # Ask if user wants to see history\n",
                "        show_history = input(\"\\nDo you want to see calculation history? (yes/no): \")\n",
                "        if show_history.lower() == 'yes':\n",
                "            print(\"\\nCalculation History:\")\n",
                "            for i, calc in enumerate(history, 1):\n",
                "                print(f\"{i}. {calc}\")\n",
                "    \n",
                "    print(\"\\nThank you for using the Simple Calculator!\")\n",
                "\n",
                "# Run the calculator\n",
                "calculator()"
            ]
        },
        {
            "cell_type": "markdown",
            "metadata": {},
            "source": [
                "## 14. Bonus Challenge: Guess the Word Game\n",
                "\n",
                "Let's create a word guessing game similar to Hangman. This will tie together many of the concepts we've learned."
            ]
        },
        {
            "cell_type": "code",
            "execution_count": 1,
            "metadata": {},
            "outputs": [
                {
                    "name": "stdout",
                    "output_type": "stream",
                    "text": [
                        "Welcome to Guess the Word!\n",
                        "==========================\n",
                        "I'm thinking of a word. You have 6 incorrect guesses allowed.\n",
                        "The word has 8 letters.\n",
                        "\n",
                        "Word: _ _ _ _ _ _ _ _\n",
                        "Guessed letters: None\n",
                        "Attempts left: 6\n",
                        "Please enter a single letter.\n",
                        "\n",
                        "Word: _ _ _ _ _ _ _ _\n",
                        "Guessed letters: None\n",
                        "Attempts left: 6\n",
                        "Please enter a single letter.\n",
                        "\n",
                        "Word: _ _ _ _ _ _ _ _\n",
                        "Guessed letters: None\n",
                        "Attempts left: 6\n",
                        "Sorry, 'a' is not in the word.\n",
                        "\n",
                        "Word: _ _ _ _ _ _ _ _\n",
                        "Guessed letters: a\n",
                        "Attempts left: 5\n",
                        "You already guessed 'a'. Try a different letter.\n",
                        "\n",
                        "Word: _ _ _ _ _ _ _ _\n",
                        "Guessed letters: a\n",
                        "Attempts left: 5\n",
                        "You already guessed 'a'. Try a different letter.\n",
                        "\n",
                        "Word: _ _ _ _ _ _ _ _\n",
                        "Guessed letters: a\n",
                        "Attempts left: 5\n",
                        "Sorry, 'v' is not in the word.\n",
                        "\n",
                        "Word: _ _ _ _ _ _ _ _\n",
                        "Guessed letters: a, v\n",
                        "Attempts left: 4\n",
                        "You already guessed 'v'. Try a different letter.\n",
                        "\n",
                        "Word: _ _ _ _ _ _ _ _\n",
                        "Guessed letters: a, v\n",
                        "Attempts left: 4\n",
                        "Please enter a single letter.\n",
                        "\n",
                        "Word: _ _ _ _ _ _ _ _\n",
                        "Guessed letters: a, v\n",
                        "Attempts left: 4\n",
                        "Please enter a single letter.\n",
                        "\n",
                        "Word: _ _ _ _ _ _ _ _\n",
                        "Guessed letters: a, v\n",
                        "Attempts left: 4\n",
                        "Please enter a single letter.\n",
                        "\n",
                        "Word: _ _ _ _ _ _ _ _\n",
                        "Guessed letters: a, v\n",
                        "Attempts left: 4\n"
                    ]
                },
                {
                    "ename": "KeyboardInterrupt",
                    "evalue": "Interrupted by user",
                    "output_type": "error",
                    "traceback": [
                        "\u001b[1;31m---------------------------------------------------------------------------\u001b[0m",
                        "\u001b[1;31mKeyboardInterrupt\u001b[0m                         Traceback (most recent call last)",
                        "Cell \u001b[1;32mIn[1], line 68\u001b[0m\n\u001b[0;32m     65\u001b[0m         \u001b[38;5;28mprint\u001b[39m(\u001b[38;5;124mf\u001b[39m\u001b[38;5;124m\"\u001b[39m\u001b[38;5;130;01m\\n\u001b[39;00m\u001b[38;5;124mGame over! You ran out of attempts. The word was \u001b[39m\u001b[38;5;124m'\u001b[39m\u001b[38;5;132;01m{\u001b[39;00msecret_word\u001b[38;5;132;01m}\u001b[39;00m\u001b[38;5;124m'\u001b[39m\u001b[38;5;124m.\u001b[39m\u001b[38;5;124m\"\u001b[39m)\n\u001b[0;32m     67\u001b[0m \u001b[38;5;66;03m# Run the game\u001b[39;00m\n\u001b[1;32m---> 68\u001b[0m \u001b[43mguess_the_word\u001b[49m\u001b[43m(\u001b[49m\u001b[43m)\u001b[49m\n",
                        "Cell \u001b[1;32mIn[1], line 30\u001b[0m, in \u001b[0;36mguess_the_word\u001b[1;34m()\u001b[0m\n\u001b[0;32m     27\u001b[0m \u001b[38;5;28mprint\u001b[39m(\u001b[38;5;124mf\u001b[39m\u001b[38;5;124m\"\u001b[39m\u001b[38;5;124mAttempts left: \u001b[39m\u001b[38;5;132;01m{\u001b[39;00mmax_attempts\u001b[38;5;250m \u001b[39m\u001b[38;5;241m-\u001b[39m\u001b[38;5;250m \u001b[39mattempts\u001b[38;5;132;01m}\u001b[39;00m\u001b[38;5;124m\"\u001b[39m)\n\u001b[0;32m     29\u001b[0m \u001b[38;5;66;03m# Get the player's guess\u001b[39;00m\n\u001b[1;32m---> 30\u001b[0m guess \u001b[38;5;241m=\u001b[39m \u001b[38;5;28;43minput\u001b[39;49m\u001b[43m(\u001b[49m\u001b[38;5;124;43m\"\u001b[39;49m\u001b[38;5;130;43;01m\\n\u001b[39;49;00m\u001b[38;5;124;43mGuess a letter: \u001b[39;49m\u001b[38;5;124;43m\"\u001b[39;49m\u001b[43m)\u001b[49m\u001b[38;5;241m.\u001b[39mlower()\n\u001b[0;32m     32\u001b[0m \u001b[38;5;66;03m# Validate the input\u001b[39;00m\n\u001b[0;32m     33\u001b[0m \u001b[38;5;28;01mif\u001b[39;00m \u001b[38;5;28mlen\u001b[39m(guess) \u001b[38;5;241m!=\u001b[39m \u001b[38;5;241m1\u001b[39m \u001b[38;5;129;01mor\u001b[39;00m \u001b[38;5;129;01mnot\u001b[39;00m guess\u001b[38;5;241m.\u001b[39misalpha():\n",
                        "File \u001b[1;32md:\\CodeKelas\\learn-python\\.venv\\lib\\site-packages\\ipykernel\\kernelbase.py:1282\u001b[0m, in \u001b[0;36mKernel.raw_input\u001b[1;34m(self, prompt)\u001b[0m\n\u001b[0;32m   1280\u001b[0m     msg \u001b[38;5;241m=\u001b[39m \u001b[38;5;124m\"\u001b[39m\u001b[38;5;124mraw_input was called, but this frontend does not support input requests.\u001b[39m\u001b[38;5;124m\"\u001b[39m\n\u001b[0;32m   1281\u001b[0m     \u001b[38;5;28;01mraise\u001b[39;00m StdinNotImplementedError(msg)\n\u001b[1;32m-> 1282\u001b[0m \u001b[38;5;28;01mreturn\u001b[39;00m \u001b[38;5;28;43mself\u001b[39;49m\u001b[38;5;241;43m.\u001b[39;49m\u001b[43m_input_request\u001b[49m\u001b[43m(\u001b[49m\n\u001b[0;32m   1283\u001b[0m \u001b[43m    \u001b[49m\u001b[38;5;28;43mstr\u001b[39;49m\u001b[43m(\u001b[49m\u001b[43mprompt\u001b[49m\u001b[43m)\u001b[49m\u001b[43m,\u001b[49m\n\u001b[0;32m   1284\u001b[0m \u001b[43m    \u001b[49m\u001b[38;5;28;43mself\u001b[39;49m\u001b[38;5;241;43m.\u001b[39;49m\u001b[43m_parent_ident\u001b[49m\u001b[43m[\u001b[49m\u001b[38;5;124;43m\"\u001b[39;49m\u001b[38;5;124;43mshell\u001b[39;49m\u001b[38;5;124;43m\"\u001b[39;49m\u001b[43m]\u001b[49m\u001b[43m,\u001b[49m\n\u001b[0;32m   1285\u001b[0m \u001b[43m    \u001b[49m\u001b[38;5;28;43mself\u001b[39;49m\u001b[38;5;241;43m.\u001b[39;49m\u001b[43mget_parent\u001b[49m\u001b[43m(\u001b[49m\u001b[38;5;124;43m\"\u001b[39;49m\u001b[38;5;124;43mshell\u001b[39;49m\u001b[38;5;124;43m\"\u001b[39;49m\u001b[43m)\u001b[49m\u001b[43m,\u001b[49m\n\u001b[0;32m   1286\u001b[0m \u001b[43m    \u001b[49m\u001b[43mpassword\u001b[49m\u001b[38;5;241;43m=\u001b[39;49m\u001b[38;5;28;43;01mFalse\u001b[39;49;00m\u001b[43m,\u001b[49m\n\u001b[0;32m   1287\u001b[0m \u001b[43m\u001b[49m\u001b[43m)\u001b[49m\n",
                        "File \u001b[1;32md:\\CodeKelas\\learn-python\\.venv\\lib\\site-packages\\ipykernel\\kernelbase.py:1325\u001b[0m, in \u001b[0;36mKernel._input_request\u001b[1;34m(self, prompt, ident, parent, password)\u001b[0m\n\u001b[0;32m   1322\u001b[0m \u001b[38;5;28;01mexcept\u001b[39;00m \u001b[38;5;167;01mKeyboardInterrupt\u001b[39;00m:\n\u001b[0;32m   1323\u001b[0m     \u001b[38;5;66;03m# re-raise KeyboardInterrupt, to truncate traceback\u001b[39;00m\n\u001b[0;32m   1324\u001b[0m     msg \u001b[38;5;241m=\u001b[39m \u001b[38;5;124m\"\u001b[39m\u001b[38;5;124mInterrupted by user\u001b[39m\u001b[38;5;124m\"\u001b[39m\n\u001b[1;32m-> 1325\u001b[0m     \u001b[38;5;28;01mraise\u001b[39;00m \u001b[38;5;167;01mKeyboardInterrupt\u001b[39;00m(msg) \u001b[38;5;28;01mfrom\u001b[39;00m \u001b[38;5;28;01mNone\u001b[39;00m\n\u001b[0;32m   1326\u001b[0m \u001b[38;5;28;01mexcept\u001b[39;00m \u001b[38;5;167;01mException\u001b[39;00m:\n\u001b[0;32m   1327\u001b[0m     \u001b[38;5;28mself\u001b[39m\u001b[38;5;241m.\u001b[39mlog\u001b[38;5;241m.\u001b[39mwarning(\u001b[38;5;124m\"\u001b[39m\u001b[38;5;124mInvalid Message:\u001b[39m\u001b[38;5;124m\"\u001b[39m, exc_info\u001b[38;5;241m=\u001b[39m\u001b[38;5;28;01mTrue\u001b[39;00m)\n",
                        "\u001b[1;31mKeyboardInterrupt\u001b[0m: Interrupted by user"
                    ]
                }
            ],
            "source": [
                "def guess_the_word():\n",
                "    # List of words to choose from\n",
                "    words = [\"python\", \"programming\", \"computer\", \"code\", \"learning\", \"keyboard\", \"mouse\", \"screen\"]\n",
                "    \n",
                "    # Choose a random word\n",
                "    import random\n",
                "    secret_word = random.choice(words)\n",
                "    \n",
                "    # Create a list of underscores the same length as the word\n",
                "    display_word = [\"_\"] * len(secret_word)\n",
                "    \n",
                "    # Track guessed letters\n",
                "    guessed_letters = []\n",
                "    max_attempts = 6\n",
                "    attempts = 0\n",
                "    \n",
                "    print(\"Welcome to Guess the Word!\")\n",
                "    print(\"==========================\")\n",
                "    print(f\"I'm thinking of a word. You have {max_attempts} incorrect guesses allowed.\")\n",
                "    print(f\"The word has {len(secret_word)} letters.\")\n",
                "    \n",
                "    # Main game loop\n",
                "    while \"_\" in display_word and attempts < max_attempts:\n",
                "        # Show current state\n",
                "        print(f\"\\nWord: {' '.join(display_word)}\")\n",
                "        print(f\"Guessed letters: {', '.join(guessed_letters) if guessed_letters else 'None'}\")\n",
                "        print(f\"Attempts left: {max_attempts - attempts}\")\n",
                "        \n",
                "        # Get the player's guess\n",
                "        guess = input(\"\\nGuess a letter: \").lower()\n",
                "        \n",
                "        # Validate the input\n",
                "        if len(guess) != 1 or not guess.isalpha():\n",
                "            print(\"Please enter a single letter.\")\n",
                "            continue\n",
                "        \n",
                "        # Check if the letter has already been guessed\n",
                "        if guess in guessed_letters:\n",
                "            print(f\"You already guessed '{guess}'. Try a different letter.\")\n",
                "            continue\n",
                "        \n",
                "        # Add the letter to the guessed letters\n",
                "        guessed_letters.append(guess)\n",
                "        \n",
                "        # Check if the guess is in the word\n",
                "        if guess in secret_word:\n",
                "            print(f\"Good guess! '{guess}' is in the word.\")\n",
                "            \n",
                "            # Update the display word with the guessed letter\n",
                "            index = 0\n",
                "            while index < len(secret_word):\n",
                "                if secret_word[index] == guess:\n",
                "                    display_word[index] = guess\n",
                "                index += 1\n",
                "        else:\n",
                "            print(f\"Sorry, '{guess}' is not in the word.\")\n",
                "            attempts += 1\n",
                "    \n",
                "    # End of game\n",
                "    print(f\"\\nWord: {' '.join(display_word)}\")\n",
                "    \n",
                "    if \"_\" not in display_word:\n",
                "        print(\"\\nCongratulations! You guessed the word!\")\n",
                "    else:\n",
                "        print(f\"\\nGame over! You ran out of attempts. The word was '{secret_word}'.\")\n",
                "\n",
                "# Run thevv game\n",
                "guess_the_word()"
            ]
        },
        {
            "cell_type": "markdown",
            "metadata": {},
            "source": [
                "## 15. Conclusion\n",
                "\n",
                "Congratulations! You've learned about while loops in Python. Let's summarize what we've covered:\n",
                "\n",
                "1. **Basic Concepts:**\n",
                "   - A while loop repeats code as long as a condition is True\n",
                "   - The condition is checked before each iteration\n",
                "   - You need to make sure the condition eventually becomes False\n",
                "\n",
                "2. **Control Flow:**\n",
                "   - `break` exits the loop immediately\n",
                "   - `continue` skips to the next iteration\n",
                "   - `else` runs after the loop completes normally\n",
                "\n",
                "3. **Common Patterns:**\n",
                "   - Counter-controlled loops\n",
                "   - Sentinel-controlled loops\n",
                "   - Flag-controlled loops\n",
                "\n",
                "4. **Practical Applications:**\n",
                "   - Input validation\n",
                "   - Games\n",
                "   - Data processing\n",
                "   - User interfaces\n",
                "\n",
                "### Where to Go From Here:\n",
                "\n",
                "Now that you understand while loops, you can:\n",
                "\n",
                "- Use them in your own projects\n",
                "- Combine them with other Python features\n",
                "- Create more complex programs\n",
                "- Build interactive applications\n",
                "\n",
                "Keep practicing and experimenting with while loops - they're a powerful tool that will help you write more flexible and dynamic programs!"
            ]
        }
    ],
    "metadata": {
        "kernelspec": {
            "display_name": ".venv",
            "language": "python",
            "name": "python3"
        },
        "language_info": {
            "codemirror_mode": {
                "name": "ipython",
                "version": 3
            },
            "file_extension": ".py",
            "mimetype": "text/x-python",
            "name": "python",
            "nbconvert_exporter": "python",
            "pygments_lexer": "ipython3",
            "version": "3.10.10"
        }
    },
    "nbformat": 4,
    "nbformat_minor": 4
}
