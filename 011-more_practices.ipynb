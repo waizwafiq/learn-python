{
 "cells": [
  {
   "cell_type": "markdown",
   "metadata": {},
   "source": [
    "# **Question 1** \n",
    "\n",
    "In a chess tournament, the Elo rating system is commonly used to estimate the skill level of players. The expected score of a player can be calculated using the formula:\n",
    "\n",
    "$E = (1 + 10^\\frac{(Rb - Ra)}{400})^{-1}$\n",
    "\n",
    "where:\n",
    "\n",
    "- $E$ is the expected score of the player with rating $R_{a}$.\n",
    "- $R_{b}$ is the rating of the opponent.\n",
    "\n",
    "Write a Python program that takes the ratings of two players as inputs and calculates the expected score for the player with the first rating. Display the expected score rounded to two decimal places.\n",
    "\n",
    "Then, determine if the player has the upper hand by using the condition below:\n",
    "\n",
    "$\n",
    "\\text{Upper hand} =\n",
    "\\begin{cases}\n",
    "    \\text{True} & \\text{if } E_{a} \\geq 0.5 \\\\\n",
    "    \\text{False} & \\text{if } E_{a} < 0.5\n",
    "\\end{cases}\n",
    "$\n",
    "\n",
    "\n",
    "Example:\n",
    "Input:\n",
    "```\n",
    "Player 1 rating: 1500\n",
    "Player 2 rating: 1700\n",
    "```\n",
    "\n",
    "Output:\n",
    "```\n",
    "Expected score for Player 1: 0.36\n",
    "Player 1 does not have the upper hand!\n",
    "```\n",
    "\n",
    "Can you implement the program to solve this problem?"
   ]
  },
  {
   "cell_type": "code",
   "execution_count": null,
   "metadata": {},
   "outputs": [],
   "source": []
  },
  {
   "cell_type": "markdown",
   "metadata": {},
   "source": [
    "# **Question 2**\n",
    "You are given a list of numbers, and your task is to find and count the numbers that are divisible by 3 but not divisible by 5. Then, you should create a new list that contains the squares of these numbers. Finally, you need to calculate the sum of the squares and print it.\n",
    "\n",
    "Write a Python program to accomplish this task.\n",
    "\n",
    "Here are the steps your program should follow:\n",
    "\n",
    "1. Initialize a list of numbers: `numbers = [15, 9, 36, 27, 8, 14, 21, 10, 3, 17]`.\n",
    "2. Use a loop to iterate through the numbers in the list.\n",
    "3. For each number, check if it is divisible by 3 but not divisible by 5.\n",
    "4. If the condition is met, append the square of that number to a new list.\n",
    "5. After processing all numbers, calculate the sum of the squares in the new list.\n",
    "6. Print the sum of the squares."
   ]
  },
  {
   "cell_type": "code",
   "execution_count": null,
   "metadata": {},
   "outputs": [],
   "source": []
  },
  {
   "cell_type": "markdown",
   "metadata": {},
   "source": [
    "# **Question 3: \"The Treasure Hunt\"**\n",
    "\n",
    "You are an adventurer on a quest to find hidden treasure in a mysterious jungle. You'll encounter various obstacles and clues along the way. Here's a scenario:\n",
    "\n",
    "You come across a rickety bridge, and there's a sign that says, \"To cross the bridge, you must solve this riddle.\"\n",
    "\n",
    "The riddle is a string: \n",
    "> \"I am taken from a mine, and shut up in a wooden case, from which I am never released, and yet I am used by almost every person. What am I?\"\n",
    "\n",
    "To cross the bridge, you must write a Python program that does the following:\n",
    "\n",
    "Asks the user to enter their answer to the riddle.\n",
    "Checks if the user's answer matches the correct answer, which is \"pencil\".\n",
    "If the user's answer is correct, they can cross the bridge, and you print \"You solved the riddle and crossed the bridge!\" If it's incorrect, you print \"Sorry, your answer is incorrect. You can't cross the bridge.\"\n",
    "Additionally, the user only has three chances to answer the riddle correctly before being denied access to the treasure.\n",
    "\n",
    "To enhance the gamified aspect, you can keep track of the user's score. They start with a score of 0, and each time they correctly answer a riddle, their score increases by 10 points. If they fail three times, they don't get any points for that riddle."
   ]
  },
  {
   "cell_type": "code",
   "execution_count": null,
   "metadata": {},
   "outputs": [],
   "source": []
  },
  {
   "cell_type": "markdown",
   "metadata": {},
   "source": [
    "# **Question 4**\n",
    "\n",
    "Write a Python program that takes a list of strings as input. Your program should find and print the longest string in the list. If there are multiple strings with the same maximum length, your program should print all of them. However, if the input list is empty, your program should print \"The list is empty.\"\n",
    "\n",
    "Requirements:\n",
    "\n",
    "1. You must use a loop to iterate through the list of strings.\n",
    "2. You should use conditional statements to keep track of the longest strings.\n",
    "3. Operators and string-related functions should be used to determine the length of each string."
   ]
  }
 ],
 "metadata": {
  "language_info": {
   "name": "python"
  }
 },
 "nbformat": 4,
 "nbformat_minor": 2
}
