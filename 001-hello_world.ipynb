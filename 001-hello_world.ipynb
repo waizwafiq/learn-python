{
 "cells": [
  {
   "attachments": {},
   "cell_type": "markdown",
   "metadata": {},
   "source": [
    "**Chapter 1**\n",
    "# **\"Hello World\": Python Basics**\n",
    "\n",
    "`by Tutor Waiz (Afterkelas.com)`"
   ]
  },
  {
   "cell_type": "code",
   "execution_count": 16,
   "metadata": {},
   "outputs": [
    {
     "name": "stdout",
     "output_type": "stream",
     "text": [
      "2\n",
      "2\n",
      "2\n",
      "5\n"
     ]
    }
   ],
   "source": [
    "# Indentation Matters!\n",
    "for i in range(3):\n",
    "    print(2)\n",
    "    \n",
    "print(5)"
   ]
  },
  {
   "attachments": {},
   "cell_type": "markdown",
   "metadata": {},
   "source": [
    "## **Variables & Identifiers**\n",
    "\n",
    "In Python, the terms \"variables\" and \"identifiers\" are interchangable. It is like a container to store and hold **values** that can be changed later in the program.\n",
    "\n",
    "For example:"
   ]
  },
  {
   "cell_type": "code",
   "execution_count": 1,
   "metadata": {},
   "outputs": [],
   "source": [
    "yippie = 90"
   ]
  },
  {
   "attachments": {},
   "cell_type": "markdown",
   "metadata": {},
   "source": [
    "## **Keywords**\n",
    "\n",
    "We cannot use a keyword as a **[variable](https://github.com/milaan9/01_Python_Introduction/blob/main/009_Python_Data_Types.ipynb)** name, function name (upcoming!) or any other identifier. They are used to define the syntax and structure of the Python language.\n",
    "\n",
    "In Python, keywords are **case sensitive**.\n",
    "\n",
    "There are **36** keywords in Python 3.9. This number can vary slightly over the course of time.\n",
    "\n",
    "All the keywords except **`True`**, **`False`** and **`None`** are in lowercase and they must be written as they are. The **[list of all the keywords](https://github.com/milaan9/01_Python_Introduction/blob/main/Python_Keywords_List.ipynb)** is given below."
   ]
  },
  {
   "attachments": {},
   "cell_type": "markdown",
   "metadata": {},
   "source": [
    "**Keywords in Python**\n",
    "\n",
    "|     |     |     |     |\n",
    "|:----|:----|:----|:----|\n",
    "| **`False`** | **`break`** | **`for`** | **`not`** |\n",
    "| **`None`**  | **`class`** | **`from`** | **`or`** |\n",
    "| **`True`**  | **`continue`** | **`global`** | **`pass`** |\n",
    "| **`__peg_parser__`** |**`def`** | **`if`** | **`raise`** |\n",
    "| **`and`** | **`del`** | **`import`** | **`return`** |\n",
    "| **`as`** | **`elif`** | **`in`** | **`try`** |\n",
    "| **`assert`** | **`else`** | **`is`** | **`while`** |\n",
    "| **`async`** | **`except`** | **`lambda`** | **`with`** |\n",
    "| **`await`** | **`finally`** | **`nonlocal`** |  **`yield`**  |"
   ]
  },
  {
   "cell_type": "code",
   "execution_count": 23,
   "metadata": {},
   "outputs": [
    {
     "name": "stdout",
     "output_type": "stream",
     "text": [
      "test\n"
     ]
    }
   ],
   "source": [
    "# Variables\n",
    "# = : assign operator\n",
    "var1 = 56\n",
    "\n",
    "# you can assign into multiple variables like this\n",
    "var1, var2, var3, var4 = 56, 123, 'test', 'hello'\n",
    "\n",
    "print(var3)"
   ]
  },
  {
   "cell_type": "code",
   "execution_count": null,
   "metadata": {},
   "outputs": [],
   "source": [
    "# Data type: int, float, str\n",
    "a = 3 # integer (int), a number without decimals\n",
    "b = 3.5 # float (float), a number with decimals\n",
    "c = 'this is a string!' # string (str), a text\n",
    "d = '60123456789' # this is a string, but we cannot calculate with numbers in strings\n",
    "e = True # boolean value (True or False)"
   ]
  },
  {
   "cell_type": "code",
   "execution_count": 25,
   "metadata": {},
   "outputs": [
    {
     "name": "stdout",
     "output_type": "stream",
     "text": [
      "hello\n"
     ]
    }
   ],
   "source": [
    "# Single-line comment\n",
    "\n",
    "'''This is\n",
    "a multi-line\n",
    "comment'''\n",
    "\n",
    "# Notice that it does not execute whatever's above\n",
    "print('hello')"
   ]
  },
  {
   "cell_type": "code",
   "execution_count": 3,
   "metadata": {},
   "outputs": [
    {
     "name": "stdout",
     "output_type": "stream",
     "text": [
      "Addition: 6\n",
      "Subtraction: -2\n",
      "Multiplication: 15\n",
      "Division: 2.5\n",
      "Power: 9\n",
      "Floor function: 2\n",
      "Module (to get the remainder of the division): 6\n"
     ]
    }
   ],
   "source": [
    "# Arithmetic Operators (+, -, /, *)\n",
    "print('Addition:', 3 + 3)\n",
    "print('Subtraction:', 3 - 5)\n",
    "print('Multiplication:', 3 * 5)\n",
    "print(\"Division:\", 5 / 2)\n",
    "print(\"Power:\", 3 ** 2)\n",
    "print(\"Floor function:\", 5//2) # 5 divided by 2, but remove the decimals\n",
    "print(\"Module (to get the remainder of the division):\", 182%8) # 182 divided by 6, but get the remainder"
   ]
  },
  {
   "cell_type": "code",
   "execution_count": 4,
   "metadata": {},
   "outputs": [
    {
     "name": "stdout",
     "output_type": "stream",
     "text": [
      "Equals: False\n",
      "Inequality: True\n",
      "Greater than: False\n",
      "Greater or equal than: True\n",
      "Less than: False\n",
      "Less or equal than: False\n",
      "AND (to check if the statements are True): True\n",
      "OR (to check if one of the statements is True): False\n",
      "NOT (invert the statement's True or False): True\n"
     ]
    }
   ],
   "source": [
    "# Logical operators (and, or, not, equals, etc.)\n",
    "# Output: True or False (Boolean value)\n",
    "\n",
    "print(\"Equals:\", 5 == 3)\n",
    "print(\"Inequality:\", 5 != 3)\n",
    "print(\"Greater than:\", 3 > 3)\n",
    "print(\"Greater or equal than:\", 3 >= 3)\n",
    "print(\"Less than:\", 3 < 1)\n",
    "print(\"Less or equal than:\", 9 <= 3)\n",
    "print(\"AND (all of the statements are True):\", 2 == 2 and 5 > 2 and 1 == 1)\n",
    "print(\"OR (to check if one of the statements is True):\", 2 == 1 or 3 < 2 or 1 == 2)\n",
    "print(\"NOT (invert the statement's True or False):\", not False)"
   ]
  },
  {
   "cell_type": "code",
   "execution_count": 86,
   "metadata": {},
   "outputs": [
    {
     "name": "stdout",
     "output_type": "stream",
     "text": [
      "3.0\n",
      "3\n",
      "8\n",
      "2\n"
     ]
    }
   ],
   "source": [
    "# Type-casting (changing data types)\n",
    "\n",
    "a = 3\n",
    "print(float(a))\n",
    "\n",
    "a = 3.5\n",
    "print(int(a))\n",
    "\n",
    "a = '3'\n",
    "print(int(a) + 5)\n",
    "\n",
    "a = int(4/2)\n",
    "print(a)"
   ]
  },
  {
   "cell_type": "code",
   "execution_count": 90,
   "metadata": {},
   "outputs": [
    {
     "name": "stdout",
     "output_type": "stream",
     "text": [
      "no!\n"
     ]
    }
   ],
   "source": [
    "# if-else statement (Conditional Statement)\n",
    "a = 21\n",
    "\n",
    "if a == 20:\n",
    "    print('yes! it is 20')\n",
    "else:\n",
    "    print(\"no!\")"
   ]
  },
  {
   "cell_type": "code",
   "execution_count": 94,
   "metadata": {},
   "outputs": [
    {
     "name": "stdout",
     "output_type": "stream",
     "text": [
      "yes! it is 21!\n"
     ]
    }
   ],
   "source": [
    "# elif statement \n",
    "a = 21\n",
    "\n",
    "if a == 20:\n",
    "    print('yes! it is 20!')\n",
    "elif a == 21:\n",
    "    print(\"yes! it is 21!\")\n",
    "else:\n",
    "    print(\"no!\")"
   ]
  },
  {
   "cell_type": "code",
   "execution_count": 102,
   "metadata": {},
   "outputs": [
    {
     "name": "stdout",
     "output_type": "stream",
     "text": [
      "This is an even number!\n"
     ]
    }
   ],
   "source": [
    "# a simple code that checks if a variable is even or odd\n",
    "\n",
    "a = 20\n",
    "\n",
    "if a % 2 == 0:\n",
    "    # this is even! because the remainder after dividing by 2 == 0\n",
    "    print(\"This is an even number!\")\n",
    "else:\n",
    "    # this is odd! because the remainder after dividing by 2 != 0\n",
    "    print(\"This is an odd number!\")"
   ]
  }
 ],
 "metadata": {
  "kernelspec": {
   "display_name": "python-tutorial",
   "language": "python",
   "name": "python3"
  },
  "language_info": {
   "codemirror_mode": {
    "name": "ipython",
    "version": 3
   },
   "file_extension": ".py",
   "mimetype": "text/x-python",
   "name": "python",
   "nbconvert_exporter": "python",
   "pygments_lexer": "ipython3",
   "version": "3.9.6"
  },
  "orig_nbformat": 4
 },
 "nbformat": 4,
 "nbformat_minor": 2
}
