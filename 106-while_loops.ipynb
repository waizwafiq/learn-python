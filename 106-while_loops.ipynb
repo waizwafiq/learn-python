{
    "cells": [
        {
            "cell_type": "markdown",
            "metadata": {},
            "source": [
                "# Mastering While Loops in Python\n",
                "\n",
                "## Introduction\n",
                "\n",
                "Welcome to our deep dive into `while` loops! Today we're going to explore one of the most powerful and flexible control structures in programming. By the end of this class, you'll not only understand how while loops work, but you'll be able to apply them creatively to solve a variety of programming challenges."
            ]
        },
        {
            "cell_type": "markdown",
            "metadata": {},
            "source": [
                "## 1. What is a While Loop?\n",
                "\n",
                "A `while` loop is a control flow statement that allows code to be executed repeatedly based on a given boolean condition. Unlike a `for` loop, which iterates over a sequence, a `while` loop continues as long as its condition evaluates to `True`.\n",
                "\n",
                "### Basic Syntax:\n",
                "\n",
                "```python\n",
                "while condition:\n",
                "    # code to execute while condition is True\n",
                "```\n",
                "\n",
                "### Key Characteristics:\n",
                "- The condition is evaluated before each iteration\n",
                "- If the condition is `True`, the loop body executes\n",
                "- If the condition is `False`, the loop terminates and execution continues with the next statement after the loop\n",
                "- The condition must eventually become `False` to avoid an infinite loop (unless that's what you want!)"
            ]
        },
        {
            "cell_type": "markdown",
            "metadata": {},
            "source": [
                "## 2. For Loops vs While Loops\n",
                "\n",
                "You already know about `for` loops. Let's compare them with `while` loops:\n",
                "\n",
                "| For Loops | While Loops |\n",
                "|-----------|-------------|\n",
                "| Used when the number of iterations is known in advance | Used when the number of iterations is not known in advance |\n",
                "| Iterate over sequences (lists, tuples, strings, etc.) | Continue as long as a condition is True |\n",
                "| Generally simpler and less prone to errors | More flexible but requires careful handling |\n",
                "| Always terminates when the sequence is exhausted | Could potentially run indefinitely (infinite loop) |\n",
                "\n",
                "While both can often be used to accomplish the same task, each has situations where it shines!"
            ]
        },
        {
            "cell_type": "markdown",
            "metadata": {},
            "source": [
                "## 3. Your First While Loop\n",
                "\n",
                "Let's start with a simple example: counting from 1 to 5 using a while loop."
            ]
        },
        {
            "cell_type": "code",
            "execution_count": null,
            "metadata": {},
            "outputs": [],
            "source": [
                "# Initialize counter\n",
                "counter = 1\n",
                "\n",
                "# Set up the while loop\n",
                "while counter <= 5:\n",
                "    print(counter)\n",
                "    counter += 1  # Don't forget to increment the counter!\n",
                "\n",
                "print(\"Loop finished!\")"
            ]
        },
        {
            "cell_type": "markdown",
            "metadata": {},
            "source": [
                "### 🤔 Think About It:\n",
                "1. What would happen if we didn't include the `counter += 1` line?\n",
                "2. What's the value of `counter` after the loop finishes?\n",
                "3. How could we modify this loop to count down from 5 to 1?"
            ]
        },
        {
            "cell_type": "markdown",
            "metadata": {},
            "source": [
                "### Answers:\n",
                "1. The loop would run indefinitely (infinite loop) because `counter` would always be 1, which is always <= 5.\n",
                "2. After the loop, `counter` is 6, because it incremented to 6 and then the condition became False.\n",
                "3. To count down from 5 to 1:"
            ]
        },
        {
            "cell_type": "code",
            "execution_count": null,
            "metadata": {},
            "outputs": [],
            "source": [
                "# Counting down from 5 to 1\n",
                "counter = 5\n",
                "\n",
                "while counter >= 1:\n",
                "    print(counter)\n",
                "    counter -= 1  # Decrement the counter\n",
                "\n",
                "print(\"Blast off!\")"
            ]
        },
        {
            "cell_type": "markdown",
            "metadata": {},
            "source": [
                "## 4. Input Validation with While Loops\n",
                "\n",
                "One common use of while loops is validating user input. Let's create a program that asks the user for a positive number and keeps asking until it gets one."
            ]
        },
        {
            "cell_type": "code",
            "execution_count": null,
            "metadata": {},
            "outputs": [],
            "source": [
                "# Input validation using a while loop\n",
                "valid_input = False\n",
                "\n",
                "while not valid_input:\n",
                "    user_input = input(\"Enter a positive number: \")\n",
                "    \n",
                "    # Try to convert to a number and check if positive\n",
                "    try:\n",
                "        number = float(user_input)\n",
                "        if number > 0:\n",
                "            valid_input = True\n",
                "        else:\n",
                "            print(\"That's not positive! Try again.\")\n",
                "    except ValueError:\n",
                "        print(\"That's not a number! Try again.\")\n",
                "\n",
                "print(f\"Thank you! You entered the positive number: {number}\")"
            ]
        },
        {
            "cell_type": "markdown",
            "metadata": {},
            "source": [
                "This pattern is incredibly useful in real applications where you need to ensure the input meets certain criteria before proceeding."
            ]
        },
        {
            "cell_type": "markdown",
            "metadata": {},
            "source": [
                "## 5. Loop Control Statements\n",
                "\n",
                "Python provides special statements to alter the flow of loops:\n",
                "\n",
                "- `break`: Exits the loop completely\n",
                "- `continue`: Skips the current iteration and moves to the next one\n",
                "- `else`: Executes after the loop completes normally (not if the loop is exited with `break`)\n",
                "\n",
                "Let's explore each one."
            ]
        },
        {
            "cell_type": "markdown",
            "metadata": {},
            "source": [
                "### 5.1 Using `break`\n",
                "\n",
                "The `break` statement immediately exits the loop, regardless of the condition."
            ]
        },
        {
            "cell_type": "code",
            "execution_count": null,
            "metadata": {},
            "outputs": [],
            "source": [
                "# Using break to exit a loop early\n",
                "count = 1\n",
                "\n",
                "while True:  # This condition is always True, so this would be an infinite loop without break\n",
                "    print(f\"Count: {count}\")\n",
                "    count += 1\n",
                "    \n",
                "    if count > 5:  # When count exceeds 5, exit the loop\n",
                "        print(\"Breaking out of the loop!\")\n",
                "        break\n",
                "\n",
                "print(\"Loop has ended.\")"
            ]
        },
        {
            "cell_type": "markdown",
            "metadata": {},
            "source": [
                "### 5.2 Using `continue`\n",
                "\n",
                "The `continue` statement skips the rest of the current iteration and jumps back to the condition check."
            ]
        },
        {
            "cell_type": "code",
            "execution_count": null,
            "metadata": {},
            "outputs": [],
            "source": [
                "# Using continue to skip iterations\n",
                "count = 0\n",
                "\n",
                "while count < 10:\n",
                "    count += 1\n",
                "    \n",
                "    # Skip even numbers\n",
                "    if count % 2 == 0:\n",
                "        continue\n",
                "        \n",
                "    print(f\"Odd number: {count}\")\n",
                "\n",
                "print(\"Loop complete.\")"
            ]
        },
        {
            "cell_type": "markdown",
            "metadata": {},
            "source": [
                "### 5.3 Using `else` with a While Loop\n",
                "\n",
                "The `else` block executes after the while loop completes normally (when the condition becomes False)."
            ]
        },
        {
            "cell_type": "code",
            "execution_count": null,
            "metadata": {},
            "outputs": [],
            "source": [
                "# Using else with a while loop\n",
                "count = 1\n",
                "\n",
                "while count <= 5:\n",
                "    print(f\"Count: {count}\")\n",
                "    count += 1\n",
                "else:\n",
                "    print(\"The loop completed normally!\")\n",
                "    \n",
                "print(\"After the loop.\")"
            ]
        },
        {
            "cell_type": "code",
            "execution_count": null,
            "metadata": {},
            "outputs": [],
            "source": [
                "# Compare with a loop that uses break\n",
                "count = 1\n",
                "\n",
                "while count <= 5:\n",
                "    print(f\"Count: {count}\")\n",
                "    \n",
                "    if count == 3:\n",
                "        print(\"Breaking at 3!\")\n",
                "        break\n",
                "        \n",
                "    count += 1\n",
                "else:\n",
                "    print(\"This will NOT print because we used break\")\n",
                "    \n",
                "print(\"After the loop.\")"
            ]
        },
        {
            "cell_type": "markdown",
            "metadata": {},
            "source": [
                "## 6. Common While Loop Patterns\n",
                "\n",
                "Let's explore some common patterns you'll encounter when using while loops."
            ]
        },
        {
            "cell_type": "markdown",
            "metadata": {},
            "source": [
                "### 6.1 Sentinel-Controlled Loops\n",
                "\n",
                "A sentinel is a special value that signals the end of input or processing."
            ]
        },
        {
            "cell_type": "code",
            "execution_count": null,
            "metadata": {},
            "outputs": [],
            "source": [
                "# Sentinel-controlled loop to collect numbers until a specific value is entered\n",
                "numbers = []\n",
                "sentinel = -1\n",
                "\n",
                "print(f\"Enter numbers to add to the list. Enter {sentinel} to stop.\")\n",
                "\n",
                "while True:\n",
                "    try:\n",
                "        user_input = int(input(\"Enter a number: \"))\n",
                "        \n",
                "        if user_input == sentinel:\n",
                "            break\n",
                "            \n",
                "        numbers.append(user_input)\n",
                "    except ValueError:\n",
                "        print(\"Please enter a valid number.\")\n",
                "\n",
                "print(f\"You entered these numbers: {numbers}\")\n",
                "print(f\"Sum: {sum(numbers)}\")\n",
                "print(f\"Average: {sum(numbers) / len(numbers) if numbers else 'N/A'}\")"
            ]
        },
        {
            "cell_type": "markdown",
            "metadata": {},
            "source": [
                "### 6.2 Flag-Controlled Loops\n",
                "\n",
                "A flag is a boolean variable that controls the loop."
            ]
        },
        {
            "cell_type": "code",
            "execution_count": null,
            "metadata": {},
            "outputs": [],
            "source": [
                "# Flag-controlled loop for a simple menu system\n",
                "running = True\n",
                "\n",
                "while running:\n",
                "    print(\"\\nMenu:\")\n",
                "    print(\"1. Say hello\")\n",
                "    print(\"2. Print the current time\")\n",
                "    print(\"3. Tell a joke\")\n",
                "    print(\"4. Exit\")\n",
                "    \n",
                "    choice = input(\"Enter your choice (1-4): \")\n",
                "    \n",
                "    if choice == '1':\n",
                "        print(\"Hello there!\")\n",
                "    elif choice == '2':\n",
                "        import datetime\n",
                "        print(f\"Current time: {datetime.datetime.now().strftime('%H:%M:%S')}\")\n",
                "    elif choice == '3':\n",
                "        print(\"Why don't scientists trust atoms? Because they make up everything!\")\n",
                "    elif choice == '4':\n",
                "        print(\"Goodbye!\")\n",
                "        running = False  # Change the flag to exit the loop\n",
                "    else:\n",
                "        print(\"Invalid choice. Please try again.\")"
            ]
        },
        {
            "cell_type": "markdown",
            "metadata": {},
            "source": [
                "### 6.3 Counter-Controlled Loops\n",
                "\n",
                "A counter-controlled loop is similar to a for loop but gives you more flexibility."
            ]
        },
        {
            "cell_type": "code",
            "execution_count": null,
            "metadata": {},
            "outputs": [],
            "source": [
                "# Counter-controlled loop with dynamic step size\n",
                "counter = 0\n",
                "target = 100\n",
                "step_size = 10\n",
                "\n",
                "while counter < target:\n",
                "    print(f\"Current value: {counter}\")\n",
                "    \n",
                "    # Dynamically change the step size based on the current value\n",
                "    if counter >= 50:\n",
                "        step_size = 20  # Speed up once we're halfway there\n",
                "        \n",
                "    counter += step_size\n",
                "\n",
                "print(f\"Final value: {counter}\")"
            ]
        },
        {
            "cell_type": "markdown",
            "metadata": {},
            "source": [
                "## 7. The Dreaded Infinite Loop\n",
                "\n",
                "An infinite loop occurs when the loop condition never becomes False. While sometimes useful (like in game loops or server programs), they're often bugs!\n",
                "\n",
                "### Common Causes of Infinite Loops:\n",
                "1. Forgetting to update the variable used in the condition\n",
                "2. Condition logic errors\n",
                "3. Accidentally resetting the counter variable inside the loop\n",
                "\n",
                "### Example of an Infinite Loop (DON'T RUN THIS):\n",
                "```python\n",
                "# This will run forever!\n",
                "counter = 1\n",
                "while counter <= 5:\n",
                "    print(counter)\n",
                "    # Oops! We forgot to increment counter\n",
                "```\n",
                "\n",
                "### How to Avoid Infinite Loops:\n",
                "- Always make sure the condition will eventually become False\n",
                "- Use a safety counter or timeout\n",
                "- Double-check your logic\n",
                "\n",
                "If you do get stuck in an infinite loop in Jupyter, you can interrupt it by clicking the \"Stop\" button (■) in the toolbar."
            ]
        },
        {
            "cell_type": "markdown",
            "metadata": {},
            "source": [
                "## 8. Nested While Loops\n",
                "\n",
                "Just like with for loops, you can nest while loops inside each other."
            ]
        },
        {
            "cell_type": "code",
            "execution_count": null,
            "metadata": {},
            "outputs": [],
            "source": [
                "# Nested while loops to create a multiplication table\n",
                "row = 1\n",
                "\n",
                "while row <= 5:\n",
                "    col = 1\n",
                "    while col <= 5:\n",
                "        # Use formatted string with width to align columns\n",
                "        print(f\"{row * col:2d}\", end=\" \")\n",
                "        col += 1\n",
                "    # Start a new row\n",
                "    print()  \n",
                "    row += 1"
            ]
        },
        {
            "cell_type": "markdown",
            "metadata": {},
            "source": [
                "## 9. Simulating a Do-While Loop\n",
                "\n",
                "Python doesn't have a built-in do-while loop (which executes the body at least once before checking the condition). But we can simulate one!"
            ]
        },
        {
            "cell_type": "code",
            "execution_count": null,
            "metadata": {},
            "outputs": [],
            "source": [
                "# Simulating a do-while loop in Python\n",
                "while True:\n",
                "    # This code will execute at least once\n",
                "    answer = input(\"Do you want to continue? (yes/no): \")\n",
                "    \n",
                "    # Then we check the condition\n",
                "    if answer.lower() != 'yes':\n",
                "        break\n",
                "        \n",
                "print(\"Loop exited.\")"
            ]
        },
        {
            "cell_type": "markdown",
            "metadata": {},
            "source": [
                "## 10. Real-World Applications\n",
                "\n",
                "While loops shine in many practical scenarios. Let's explore some real-world examples."
            ]
        },
        {
            "cell_type": "markdown",
            "metadata": {},
            "source": [
                "### 10.1 Simple Game Loop\n",
                "\n",
                "Games typically run in loops until the player quits or loses."
            ]
        },
        {
            "cell_type": "code",
            "execution_count": null,
            "metadata": {},
            "outputs": [],
            "source": [
                "# A simple number guessing game\n",
                "import random\n",
                "\n",
                "def number_guessing_game():\n",
                "    secret_number = random.randint(1, 100)\n",
                "    attempts = 0\n",
                "    max_attempts = 7\n",
                "    \n",
                "    print(\"Welcome to the Number Guessing Game!\")\n",
                "    print(f\"I'm thinking of a number between 1 and 100. You have {max_attempts} attempts.\")\n",
                "    \n",
                "    while attempts < max_attempts:\n",
                "        try:\n",
                "            guess = int(input(\"Enter your guess: \"))\n",
                "            attempts += 1\n",
                "            \n",
                "            if guess < secret_number:\n",
                "                print(f\"Too low! Attempts left: {max_attempts - attempts}\")\n",
                "            elif guess > secret_number:\n",
                "                print(f\"Too high! Attempts left: {max_attempts - attempts}\")\n",
                "            else:\n",
                "                print(f\"Congratulations! You guessed the number in {attempts} attempts!\")\n",
                "                return  # Exit the function when they guess correctly\n",
                "                \n",
                "        except ValueError:\n",
                "            print(\"Please enter a valid number.\")\n",
                "            # Don't count invalid inputs as attempts\n",
                "            attempts -= 1\n",
                "    \n",
                "    print(f\"Game over! You've used all {max_attempts} attempts.\")\n",
                "    print(f\"The secret number was: {secret_number}\")\n",
                "\n",
                "# Run the game\n",
                "number_guessing_game()"
            ]
        },
        {
            "cell_type": "markdown",
            "metadata": {},
            "source": [
                "### 10.2 Processing Data Until a Condition Is Met"
            ]
        },
        {
            "cell_type": "code",
            "execution_count": null,
            "metadata": {},
            "outputs": [],
            "source": [
                "# Calculate the sum of numbers from user input until reaching a target\n",
                "def sum_to_target():\n",
                "    target = 100\n",
                "    current_sum = 0\n",
                "    entries = []\n",
                "    \n",
                "    print(f\"Enter numbers to add. The goal is to reach a sum of {target}.\")\n",
                "    \n",
                "    while current_sum < target:\n",
                "        remaining = target - current_sum\n",
                "        print(f\"Current sum: {current_sum}. Need {remaining} more to reach {target}.\")\n",
                "        \n",
                "        try:\n",
                "            num = float(input(\"Enter a number: \"))\n",
                "            entries.append(num)\n",
                "            current_sum += num\n",
                "        except ValueError:\n",
                "            print(\"Please enter a valid number.\")\n",
                "    \n",
                "    print(f\"\\nTarget reached! Final sum: {current_sum}\")\n",
                "    print(f\"You entered these numbers: {entries}\")\n",
                "    print(f\"It took {len(entries)} entries to reach the target.\")\n",
                "    \n",
                "    if current_sum > target:\n",
                "        print(f\"You exceeded the target by {current_sum - target}.\")\n",
                "    else:\n",
                "        print(\"You hit the target exactly! Perfect!\")\n",
                "\n",
                "# Run the function\n",
                "sum_to_target()"
            ]
        },
        {
            "cell_type": "markdown",
            "metadata": {},
            "source": [
                "### 10.3 Simulating Natural Processes"
            ]
        },
        {
            "cell_type": "code",
            "execution_count": null,
            "metadata": {},
            "outputs": [],
            "source": [
                "# Simulating population growth with a while loop\n",
                "def simulate_population_growth():\n",
                "    initial_population = 1000\n",
                "    growth_rate = 0.05  # 5% annual growth\n",
                "    target_population = 2000\n",
                "    \n",
                "    population = initial_population\n",
                "    years = 0\n",
                "    \n",
                "    populations = [population]  # Store for plotting\n",
                "    years_list = [years]        # Store for plotting\n",
                "    \n",
                "    while population < target_population:\n",
                "        years += 1\n",
                "        population *= (1 + growth_rate)\n",
                "        \n",
                "        populations.append(population)\n",
                "        years_list.append(years)\n",
                "        \n",
                "        print(f\"Year {years}: Population = {population:.2f}\")\n",
                "    \n",
                "    print(f\"\\nIt took {years} years for the population to double from {initial_population} to {population:.2f}.\")\n",
                "    \n",
                "    # Plot the growth curve if matplotlib is available\n",
                "    try:\n",
                "        import matplotlib.pyplot as plt\n",
                "        \n",
                "        plt.figure(figsize=(10, 6))\n",
                "        plt.plot(years_list, populations, 'b-', marker='o')\n",
                "        plt.title('Population Growth Over Time')\n",
                "        plt.xlabel('Years')\n",
                "        plt.ylabel('Population')\n",
                "        plt.grid(True)\n",
                "        plt.show()\n",
                "    except ImportError:\n",
                "        print(\"Matplotlib not available for plotting.\")\n",
                "\n",
                "# Run the simulation\n",
                "simulate_population_growth()"
            ]
        },
        {
            "cell_type": "markdown",
            "metadata": {},
            "source": [
                "## 11. Practical Exercise: Password Validator\n",
                "\n",
                "Let's build a password validator that checks if a password meets certain criteria."
            ]
        },
        {
            "cell_type": "code",
            "execution_count": null,
            "metadata": {},
            "outputs": [],
            "source": [
                "def validate_password():\n",
                "    print(\"Password Validator\")\n",
                "    print(\"==================\")\n",
                "    print(\"Your password must:\")\n",
                "    print(\"- Be at least 8 characters long\")\n",
                "    print(\"- Contain at least one uppercase letter\")\n",
                "    print(\"- Contain at least one lowercase letter\")\n",
                "    print(\"- Contain at least one digit\")\n",
                "    print(\"- Contain at least one special character (!, @, #, $, %, etc.)\")\n",
                "    \n",
                "    valid_password = False\n",
                "    \n",
                "    while not valid_password:\n",
                "        password = input(\"\\nEnter a password: \")\n",
                "        \n",
                "        # Check each criterion\n",
                "        length_ok = len(password) >= 8\n",
                "        has_upper = any(char.isupper() for char in password)\n",
                "        has_lower = any(char.islower() for char in password)\n",
                "        has_digit = any(char.isdigit() for char in password)\n",
                "        \n",
                "        # Check for special characters\n",
                "        special_chars = \"!@#$%^&*()-_=+[]{}|;:'\\\",.<>/?\"\n",
                "        has_special = any(char in special_chars for char in password)\n",
                "        \n",
                "        # Report results\n",
                "        print(\"\\nPassword check results:\")\n",
                "        print(f\"✓ Length >= 8: {'Yes' if length_ok else 'No'}\")\n",
                "        print(f\"✓ Has uppercase: {'Yes' if has_upper else 'No'}\")\n",
                "        print(f\"✓ Has lowercase: {'Yes' if has_lower else 'No'}\")\n",
                "        print(f\"✓ Has digit: {'Yes' if has_digit else 'No'}\")\n",
                "        print(f\"✓ Has special character: {'Yes' if has_special else 'No'}\")\n",
                "        \n",
                "        # Check if all criteria are met\n",
                "        if length_ok and has_upper and has_lower and has_digit and has_special:\n",
                "            valid_password = True\n",
                "            print(\"\\n✅ Password is valid! Good job!\")\n",
                "        else:\n",
                "            print(\"\\n❌ Password is not valid. Please try again.\")\n",
                "    \n",
                "# Run the validator\n",
                "validate_password()"
            ]
        },
        {
            "cell_type": "markdown",
            "metadata": {},
            "source": [
                "## 12. Conceptual Questions\n",
                "\n",
                "Take some time to think about these questions before checking the answers:\n",
                "\n",
                "1. What are three different situations where a while loop would be more appropriate than a for loop?\n",
                "\n",
                "2. What is the main risk when using while loops, and how can you mitigate it?\n",
                "\n",
                "3. Explain the difference between `break` and `continue` in a while loop.\n",
                "\n",
                "4. When a while loop has an else clause, under what circumstances will the else block NOT execute?\n",
                "\n",
                "5. How would you simulate a do-while loop in Python?"
            ]
        },
        {
            "cell_type": "markdown",
            "metadata": {},
            "source": [
                "### Answers to Conceptual Questions:\n",
                "\n",
                "1. Three situations where while loops are better than for loops:\n",
                "   - When you don't know in advance how many iterations you need\n",
                "   - When you need to keep executing until a certain condition is met\n",
                "   - When you need to validate user input until it's correct\n",
                "\n",
                "2. The main risk with while loops is creating an infinite loop. You can mitigate this by:\n",
                "   - Ensuring the loop condition will eventually become False\n",
                "   - Using a counter or other safety mechanism\n",
                "   - Making sure any variables in the condition are updated within the loop\n",
                "\n",
                "3. `break` immediately exits the loop completely, skipping any remaining iterations. `continue` skips only the remaining code in the current iteration and jumps back to the condition check for the next iteration.\n",
                "\n",
                "4. The else block in a while loop will NOT execute if you exit the loop using a `break` statement. It only executes when the loop condition becomes False naturally.\n",
                "\n",
                "5. To simulate a do-while loop (which always executes at least once), you can use a while True loop with a break statement based on the condition at the end of the loop body:\n",
                "   ```python\n",
                "   while True:\n",
                "       # Loop body (executes at least once)\n",
                "       # ...\n",
                "       if not condition:\n",
                "           break\n",
                "   ```"
            ]
        },
        {
            "cell_type": "markdown",
            "metadata": {},
            "source": [
                "## 13. Practice Problems\n",
                "\n",
                "Now let's practice with some hands-on problems! Try to solve these on your own before checking the solutions."
            ]
        },
        {
            "cell_type": "markdown",
            "metadata": {},
            "source": [
                "### Problem 1: FizzBuzz with a While Loop\n",
                "\n",
                "Write a program that prints numbers from 1 to n. For multiples of 3, print \"Fizz\" instead of the number. For multiples of 5, print \"Buzz\". For numbers that are multiples of both 3 and 5, print \"FizzBuzz\"."
            ]
        },
        {
            "cell_type": "code",
            "execution_count": null,
            "metadata": {},
            "outputs": [],
            "source": [
                "# Your code here\n",
                "def fizzbuzz(n):\n",
                "    # Write your solution\n",
                "    pass\n",
                "\n",
                "# Test with n = 20\n",
                "fizzbuzz(20)"
            ]
        },
        {
            "cell_type": "markdown",
            "metadata": {},
            "source": [
                "### Problem 1 Solution:"
            ]
        },
        {
            "cell_type": "code",
            "execution_count": null,
            "metadata": {},
            "outputs": [],
            "source": [
                "def fizzbuzz(n):\n",
                "    num = 1\n",
                "    \n",
                "    while num <= n:\n",
                "        if num % 3 == 0 and num % 5 == 0:\n",
                "            print(\"FizzBuzz\")\n",
                "        elif num % 3 == 0:\n",
                "            print(\"Fizz\")\n",
                "        elif num % 5 == 0:\n",
                "            print(\"Buzz\")\n",
                "        else:\n",
                "            print(num)\n",
                "            \n",
                "        num += 1\n",
                "\n",
                "# Test with n = 20\n",
                "fizzbuzz(20)"
            ]
        },
        {
            "cell_type": "markdown",
            "metadata": {},
            "source": [
                "### Problem 2: Collatz Conjecture\n",
                "\n",
                "The Collatz conjecture is a famous unsolved problem in mathematics. It states that for any positive integer n, the sequence defined by:\n",
                "- If n is even, divide it by 2\n",
                "- If n is odd, multiply it by 3 and add 1\n",
                "\n",
                "...will always reach 1, no matter what value of n you start with.\n",
                "\n",
                "Write a function that takes a positive integer n as input and returns the number of steps it takes to reach 1 following this sequence."
            ]
        },
        {
            "cell_type": "code",
            "execution_count": null,
            "metadata": {},
            "outputs": [],
            "source": [
                "# Your code here\n",
                "def collatz_steps(n):\n",
                "    # Write your solution\n",
                "    pass\n",
                "\n",
                "# Test with different numbers\n",
                "print(f\"Steps for 6: {collatz_steps(6)}\")\n",
                "print(f\"Steps for 27: {collatz_steps(27)}\")\n",
                "print(f\"Steps for 19: {collatz_steps(19)}\")"
            ]
        },
        {
            "cell_type": "markdown",
            "metadata": {},
            "source": [
                "### Problem 2 Solution:"
            ]
        },
        {
            "cell_type": "code",
            "execution_count": null,
            "metadata": {},
            "outputs": [],
            "source": [
                "def collatz_steps(n):\n",
                "    if n <= 0:\n",
                "        raise ValueError(\"Input must be a positive integer\")\n",
                "    \n",
                "    steps = 0\n",
                "    current = n\n",
                "    \n",
                "    # Optional: store the sequence for visualization\n",
                "    sequence = [current]\n",
                "    \n",
                "    while current != 1:\n",
                "        if current % 2 == 0:  # If even\n",
                "            current = current // 2\n",
                "        else:  # If odd\n",
                "            current = 3 * current + 1\n",
                "            \n",
                "        steps += 1\n",
                "        sequence.append(current)\n",
                "    \n",
                "    # Print the sequence for visualization\n",
                "    print(f\"Sequence for {n}: {sequence}\")\n",
                "    \n",
                "    return steps\n",
                "\n",
                "# Test with different numbers\n",
                "print(f\"Steps for 6: {collatz_steps(6)}\")\n",
                "print(f\"Steps for 27: {collatz_steps(27)}\")\n",
                "print(f\"Steps for 19: {collatz_steps(19)}\")"
            ]
        },
        {
            "cell_type": "markdown",
            "metadata": {},
            "source": [
                "### Problem 3: Dice Rolling Simulator\n",
                "\n",
                "Create a dice rolling simulator that keeps rolling a six-sided die until a target number appears. Then report how many rolls it took."
            ]
        },
        {
            "cell_type": "code",
            "execution_count": null,
            "metadata": {},
            "outputs": [],
            "source": [
                "# Your code here\n",
                "import random\n",
                "\n",
                "def roll_until_target():\n",
                "    # Write your solution\n",
                "    pass\n",
                "\n",
                "# Run the simulator\n",
                "roll_until_target()"
            ]
        },
        {
            "cell_type": "markdown",
            "metadata": {},
            "source": [
                "### Problem 3 Solution:"
            ]
        },
        {
            "cell_type": "code",
            "execution_count": null,
            "metadata": {},
            "outputs": [],
            "source": [
                "import random\n",
                "\n",
                "def roll_until_target():\n",
                "    # Get valid target number\n",
                "    while True:\n",
                "        try:\n",
                "            target = int(input(\"Enter a target number (1-6): \"))\n",
                "            if 1 <= target <= 6:\n",
                "                break\n",
                "            else:\n",
                "                print(\"Please enter a number between 1 and 6.\")\n",
                "        except ValueError:\n",
                "            print(\"Please enter a valid number.\")\n",
                "    \n",
                "    rolls = 0\n",
                "    roll_history = []\n",
                "    \n",
                "    print(f\"\\nRolling until we get a {target}...\")\n",
                "    \n",
                "    while True:\n",
                "        # Roll the die\n",
                "        roll = random.randint(1, 6)\n",
                "        rolls += 1\n",
                "        roll_history.append(roll)\n",
                "        \n",
                "        print(f\"Roll {rolls}: {roll}\")\n",
                "        \n",
                "        if roll == target:\n",
                "            break\n",
                "    \n",
                "    print(f\"\\nFound the target number {target} after {rolls} rolls!\")\n",
                "    print(f\"Roll history: {roll_history}\")\n",
                "    \n",
                "    # Calculate statistics\n",
                "    counts = {i: roll_history.count(i) for i in range(1, 7)}\n",
                "    print(\"\\nDice statistics:\")\n",
                "    for num, count in counts.items():\n",
                "        percentage = (count / rolls) * 100 if rolls > 0 else 0\n",
                "        print(f\"  {num}: {count} times ({percentage:.1f}%)\")\n",
                "\n",
                "# Run the simulator\n",
                "roll_until_target()"
            ]
        },
        {
            "cell_type": "markdown",
            "metadata": {},
            "source": [
                "### Problem 4: Binary to Decimal Converter\n",
                "\n",
                "Write a function that converts a binary number to decimal using a while loop."
            ]
        },
        {
            "cell_type": "code",
            "execution_count": null,
            "metadata": {},
            "outputs": [],
            "source": [
                "# Your code here\n",
                "def binary_to_decimal(binary):\n",
                "    # Write your solution\n",
                "    pass\n",
                "\n",
                "# Test cases\n",
                "test_cases = [\"1010\", \"101\", \"1111\", \"10000\", \"0\"]\n",
                "for binary in test_cases:\n",
                "    decimal = binary_to_decimal(binary)\n",
                "    print(f\"Binary: {binary} = Decimal: {decimal}\")"
            ]
        },
        {
            "cell_type": "markdown",
            "metadata": {},
            "source": [
                "### Problem 4 Solution:"
            ]
        },
        {
            "cell_type": "code",
            "execution_count": null,
            "metadata": {},
            "outputs": [],
            "source": [
                "def binary_to_decimal(binary):\n",
                "    # Validate input\n",
                "    for digit in binary:\n",
                "        if digit not in \"01\":\n",
                "            raise ValueError(\"Input must be a binary number (containing only 0s and 1s)\")\n",
                "    \n",
                "    decimal = 0\n",
                "    power = 0\n",
                "    index = len(binary) - 1\n",
                "    \n",
                "    # Process from right to left (least significant to most significant bit)\n",
                "    while index >= 0:\n",
                "        bit = int(binary[index])\n",
                "        decimal += bit * (2 ** power)\n",
                "        power += 1\n",
                "        index -= 1\n",
                "        \n",
                "        # Optionally, print the intermediate calculation\n",
                "        if bit == 1:\n",
                "            print(f\"Adding 2^{power-1} = {2**(power-1)}\")\n",
                "    \n",
                "    return decimal\n",
                "\n",
                "# Test cases\n",
                "test_cases = [\"1010\", \"101\", \"1111\", \"10000\", \"0\"]\n",
                "for binary in test_cases:\n",
                "    decimal = binary_to_decimal(binary)\n",
                "    print(f\"Binary: {binary} = Decimal: {decimal}\\n\")"
            ]
        },
        {
            "cell_type": "markdown",
            "metadata": {},
            "source": [
                "### Problem 5: Armstrong Number Checker\n",
                "\n",
                "An Armstrong number (also known as a narcissistic number) is a number that is equal to the sum of its own digits each raised to the power of the number of digits. For example, 153 is an Armstrong number because 1^3 + 5^3 + 3^3 = 153.\n",
                "\n",
                "Write a function that checks if a number is an Armstrong number."
            ]
        },
        {
            "cell_type": "code",
            "execution_count": null,
            "metadata": {},
            "outputs": [],
            "source": [
                "# Your code here\n",
                "def is_armstrong(number):\n",
                "    # Write your solution\n",
                "    pass\n",
                "\n",
                "# Test some numbers\n",
                "test_numbers = [153, 370, 371, 407, 1634, 8208, 9474, 54748, 92727, 93084]\n",
                "for num in test_numbers:\n",
                "    print(f\"{num} is {'' if is_armstrong(num) else 'not '}an Armstrong number.\")"
            ]
        },
        {
            "cell_type": "markdown",
            "metadata": {},
            "source": [
                "### Problem 5 Solution:"
            ]
        },
        {
            "cell_type": "code",
            "execution_count": null,
            "metadata": {},
            "outputs": [],
            "source": [
                "def is_armstrong(number):\n",
                "    # Convert to string to count digits\n",
                "    num_str = str(number)\n",
                "    num_digits = len(num_str)\n",
                "    \n",
                "    # Calculate sum of digits raised to the power of num_digits\n",
                "    original_number = number\n",
                "    sum_of_powers = 0\n",
                "    \n",
                "    while number > 0:\n",
                "        digit = number % 10  # Extract the last digit\n",
                "        sum_of_powers += digit ** num_digits\n",
                "        number //= 10  # Remove the last digit\n",
                "    \n",
                "    return sum_of_powers == original_number\n",
                "\n",
                "# Test some numbers\n",
                "test_numbers = [153, 370, 371, 407, 1634, 8208, 9474, 54748, 92727, 93084]\n",
                "for num in test_numbers:\n",
                "    result = is_armstrong(num)\n",
                "    print(f\"{num} is {'' if result else 'not '}an Armstrong number.\")\n",
                "    \n",
                "    # For Armstrong numbers, show the calculation\n",
                "    if result:\n",
                "        digits = [int(d) for d in str(num)]\n",
                "        power = len(digits)\n",
                "        terms = [f\"{d}^{power}\" for d in digits]\n",
                "        values = [d**power for d in digits]\n",
                "        print(f\"  {' + '.join(terms)} = {' + '.join(map(str, values))} = {sum(values)}\")"
            ]
        },
        {
            "cell_type": "markdown",
            "metadata": {},
            "source": [
                "## 14. Advanced Project: Simple Interactive Calculator\n",
                "\n",
                "Let's build a simple calculator that keeps running until the user decides to quit. This will combine many of the concepts we've learned."
            ]
        },
        {
            "cell_type": "code",
            "execution_count": null,
            "metadata": {},
            "outputs": [],
            "source": [
                "def calculator():\n",
                "    print(\"Welcome to the Simple Calculator!\")\n",
                "    print(\"=================================\")\n",
                "    print(\"Operations:\")\n",
                "    print(\"  + : Addition\")\n",
                "    print(\"  - : Subtraction\")\n",
                "    print(\"  * : Multiplication\")\n",
                "    print(\"  / : Division\")\n",
                "    print(\"  ^ : Exponentiation\")\n",
                "    print(\"  % : Modulus (remainder)\")\n",
                "    print(\"  q : Quit the calculator\")\n",
                "    \n",
                "    # Keep track of calculation history\n",
                "    history = []\n",
                "    \n",
                "    # Calculator main loop\n",
                "    while True:\n",
                "        print(\"\\n\" + \"-\" * 40)\n",
                "        \n",
                "        # Get first number\n",
                "        try:\n",
                "            num1 = float(input(\"Enter first number: \"))\n",
                "        except ValueError:\n",
                "            print(\"Invalid number. Please try again.\")\n",
                "            continue\n",
                "        \n",
                "        # Get operation\n",
                "        operation = input(\"Enter operation (+, -, *, /, ^, %, or q to quit): \")\n",
                "        \n",
                "        # Check for quit\n",
                "        if operation.lower() == 'q':\n",
                "            break\n",
                "        \n",
                "        # Validate operation\n",
                "        if operation not in ['+', '-', '*', '/', '^', '%']:\n",
                "            print(\"Invalid operation. Please try again.\")\n",
                "            continue\n",
                "        \n",
                "        # Get second number\n",
                "        try:\n",
                "            num2 = float(input(\"Enter second number: \"))\n",
                "        except ValueError:\n",
                "            print(\"Invalid number. Please try again.\")\n",
                "            continue\n",
                "        \n",
                "        # Perform calculation\n",
                "        result = None\n",
                "        \n",
                "        try:\n",
                "            if operation == '+':\n",
                "                result = num1 + num2\n",
                "            elif operation == '-':\n",
                "                result = num1 - num2\n",
                "            elif operation == '*':\n",
                "                result = num1 * num2\n",
                "            elif operation == '/':\n",
                "                if num2 == 0:\n",
                "                    print(\"Error: Division by zero!\")\n",
                "                    continue\n",
                "                result = num1 / num2\n",
                "            elif operation == '^':\n",
                "                result = num1 ** num2\n",
                "            elif operation == '%':\n",
                "                if num2 == 0:\n",
                "                    print(\"Error: Modulus by zero!\")\n",
                "                    continue\n",
                "                result = num1 % num2\n",
                "        except Exception as e:\n",
                "            print(f\"Calculation error: {e}\")\n",
                "            continue\n",
                "        \n",
                "        # Display result\n",
                "        print(f\"\\nResult: {num1} {operation} {num2} = {result}\")\n",
                "        \n",
                "        # Add to history\n",
                "        calculation = f\"{num1} {operation} {num2} = {result}\"\n",
                "        history.append(calculation)\n",
                "        \n",
                "        # Ask if user wants to see history\n",
                "        show_history = input(\"\\nDo you want to see calculation history? (y/n): \")\n",
                "        if show_history.lower() == 'y':\n",
                "            print(\"\\nCalculation History:\")\n",
                "            for i, calc in enumerate(history, 1):\n",
                "                print(f\"{i}. {calc}\")\n",
                "    \n",
                "    print(\"\\nThank you for using the Simple Calculator!\")\n",
                "\n",
                "# Run the calculator\n",
                "calculator()"
            ]
        },
        {
            "cell_type": "markdown",
            "metadata": {},
            "source": [
                "## 15. While Loop Challenge Problems\n",
                "\n",
                "Ready for some harder challenges? These problems will test your understanding of while loops at a deeper level."
            ]
        },
        {
            "cell_type": "markdown",
            "metadata": {},
            "source": [
                "### Challenge 1: Prime Number Generator\n",
                "\n",
                "Write a function that generates all prime numbers less than or equal to n using a while loop. Do not use a for loop or list comprehensions."
            ]
        },
        {
            "cell_type": "code",
            "execution_count": null,
            "metadata": {},
            "outputs": [],
            "source": [
                "def generate_primes(n):\n",
                "    \"\"\"\n",
                "    Generate all prime numbers less than or equal to n using a while loop.\n",
                "    \"\"\"\n",
                "    if n < 2:\n",
                "        return []  # No primes less than 2\n",
                "    \n",
                "    primes = [2]  # Start with 2, the first prime\n",
                "    num = 3        # Next number to check\n",
                "    \n",
                "    while num <= n:\n",
                "        # Check if num is prime\n",
                "        is_prime = True\n",
                "        i = 0\n",
                "        \n",
                "        # Only need to check division by existing primes up to sqrt(num)\n",
                "        while i < len(primes) and primes[i] * primes[i] <= num:\n",
                "            if num % primes[i] == 0:\n",
                "                is_prime = False\n",
                "                break\n",
                "            i += 1\n",
                "        \n",
                "        if is_prime:\n",
                "            primes.append(num)\n",
                "            \n",
                "        num += 2  # Only check odd numbers (optimization)\n",
                "    \n",
                "    return primes\n",
                "\n",
                "# Test the function\n",
                "n = 50\n",
                "primes = generate_primes(n)\n",
                "print(f\"Prime numbers up to {n}:\")\n",
                "print(primes)\n",
                "print(f\"Count: {len(primes)}\")"
            ]
        },
        {
            "cell_type": "markdown",
            "metadata": {},
            "source": [
                "### Challenge 2: Fibonacci Generator with Memory Limits\n",
                "\n",
                "Write a function that generates Fibonacci numbers up to a limit, but with a twist: you can only use a fixed number of variables (no lists or arrays). Calculate and print each Fibonacci number as you go."
            ]
        },
        {
            "cell_type": "code",
            "execution_count": null,
            "metadata": {},
            "outputs": [],
            "source": [
                "def fibonacci_with_limit(limit):\n",
                "    \"\"\"\n",
                "    Generate Fibonacci numbers up to a limit using only three variables.\n",
                "    \"\"\"\n",
                "    if limit < 0:\n",
                "        raise ValueError(\"Limit must be non-negative\")\n",
                "    \n",
                "    # Handle special cases\n",
                "    if limit >= 0:\n",
                "        print(f\"Fibonacci(0) = 0\")\n",
                "        \n",
                "    if limit >= 1:\n",
                "        print(f\"Fibonacci(1) = 1\")\n",
                "    \n",
                "    # Variables for the Fibonacci calculation\n",
                "    a, b = 0, 1  # The two most recent Fibonacci numbers\n",
                "    position = 1  # Current position in the sequence\n",
                "    \n",
                "    while b <= limit:\n",
                "        # Calculate the next Fibonacci number\n",
                "        a, b = b, a + b\n",
                "        position += 1\n",
                "        \n",
                "        if b <= limit:\n",
                "            print(f\"Fibonacci({position}) = {b}\")\n",
                "\n",
                "# Test the function\n",
                "fibonacci_with_limit(1000)"
            ]
        },
        {
            "cell_type": "markdown",
            "metadata": {},
            "source": [
                "### Challenge 3: Numerical Root Finder\n",
                "\n",
                "Write a function that finds the square root of a number using the Newton-Raphson method, which uses successive approximations to find the root. This is a classic algorithm that demonstrates the power of while loops."
            ]
        },
        {
            "cell_type": "code",
            "execution_count": null,
            "metadata": {},
            "outputs": [],
            "source": [
                "def sqrt_newton(number, epsilon=1e-10, max_iterations=100):\n",
                "    \"\"\"\n",
                "    Calculate the square root of a number using the Newton-Raphson method.\n",
                "    \n",
                "    Parameters:\n",
                "    - number: The number to find the square root of\n",
                "    - epsilon: The desired accuracy (default: 1e-10)\n",
                "    - max_iterations: Maximum number of iterations (default: 100)\n",
                "    \n",
                "    Returns:\n",
                "    - The approximate square root of the number\n",
                "    \"\"\"\n",
                "    if number < 0:\n",
                "        raise ValueError(\"Cannot calculate square root of a negative number\")\n",
                "    \n",
                "    if number == 0:\n",
                "        return 0\n",
                "    \n",
                "    # Initial guess\n",
                "    guess = number / 2 if number > 1 else number\n",
                "    iteration = 0\n",
                "    \n",
                "    # Print header for the table\n",
                "    print(f\"{'Iteration':<10} {'Guess':<20} {'Error':<20}\")\n",
                "    print(\"-\" * 50)\n",
                "    \n",
                "    while iteration < max_iterations:\n",
                "        # Newton-Raphson formula for square root: x_next = 0.5 * (x + number/x)\n",
                "        next_guess = 0.5 * (guess + number / guess)\n",
                "        \n",
                "        # Calculate error\n",
                "        error = abs(next_guess - guess)\n",
                "        \n",
                "        # Print current iteration information\n",
                "        print(f\"{iteration:<10} {guess:<20.10f} {error:<20.10e}\")\n",
                "        \n",
                "        # Check for convergence\n",
                "        if error < epsilon:\n",
                "            break\n",
                "        \n",
                "        guess = next_guess\n",
                "        iteration += 1\n",
                "    \n",
                "    return guess\n",
                "\n",
                "# Test the function\n",
                "number = 25\n",
                "sqrt = sqrt_newton(number)\n",
                "print(f\"\\nSquare root of {number} ≈ {sqrt}\")\n",
                "print(f\"Built-in math.sqrt: {__import__('math').sqrt(number)}\")\n",
                "print(f\"Difference: {abs(sqrt - __import__('math').sqrt(number))}\")"
            ]
        },
        {
            "cell_type": "markdown",
            "metadata": {},
            "source": [
                "## 16. Conclusion\n",
                "\n",
                "Congratulations! You've completed a comprehensive exploration of while loops in Python. Let's summarize what we've learned:\n",
                "\n",
                "1. **Basic Concepts:**\n",
                "   - A while loop executes code repeatedly as long as a condition is True\n",
                "   - It's particularly useful when you don't know the number of iterations in advance\n",
                "   - The condition is checked before each iteration\n",
                "\n",
                "2. **Control Flow:**\n",
                "   - `break` exits the loop completely\n",
                "   - `continue` skips to the next iteration\n",
                "   - `else` executes when the loop condition becomes False (not when `break` is used)\n",
                "\n",
                "3. **Common Patterns:**\n",
                "   - Counter-controlled loops (similar to for loops)\n",
                "   - Sentinel-controlled loops (stopping on a special value)\n",
                "   - Flag-controlled loops (using a boolean variable)\n",
                "\n",
                "4. **Best Practices:**\n",
                "   - Always ensure the loop condition will eventually become False\n",
                "   - Be careful with variable updates inside the loop\n",
                "   - Use safety mechanisms to prevent infinite loops\n",
                "\n",
                "5. **Applications:**\n",
                "   - Input validation\n",
                "   - Game loops\n",
                "   - Data processing\n",
                "   - User interfaces\n",
                "   - Numerical algorithms\n",
                "\n",
                "### Where to Go From Here:\n",
                "\n",
                "Now that you understand while loops, you can:\n",
                "\n",
                "1. **Combine with other control structures:** Mix while loops with if statements, for loops, and functions for powerful programs\n",
                "2. **Build larger projects:** Use while loops in games, data analysis tools, or simulations\n",
                "3. **Explore advanced topics:** Look into recursion as an alternative to some while loop patterns\n",
                "4. **Study algorithms:** Many classic algorithms use while loops for their implementation\n",
                "\n",
                "Keep practicing and experimenting with while loops - they're an essential tool in your Python programming toolkit!"
            ]
        }
    ],
    "metadata": {
        "kernelspec": {
            "display_name": "Python 3",
            "language": "python",
            "name": "python3"
        },
        "language_info": {
            "codemirror_mode": {
                "name": "ipython",
                "version": 3
            },
            "file_extension": ".py",
            "mimetype": "text/x-python",
            "name": "python",
            "nbconvert_exporter": "python",
            "pygments_lexer": "ipython3",
            "version": "3.8.8"
        }
    },
    "nbformat": 4,
    "nbformat_minor": 4
}