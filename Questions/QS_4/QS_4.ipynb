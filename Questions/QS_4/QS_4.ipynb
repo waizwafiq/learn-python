{
 "cells": [
  {
   "cell_type": "code",
   "execution_count": 19,
   "metadata": {},
   "outputs": [
    {
     "name": "stdout",
     "output_type": "stream",
     "text": [
      "The average of the students' marks is: 75.64\n"
     ]
    }
   ],
   "source": [
    "# Calculate and display the average of the marks in the Computer Science subject.\n",
    "\n",
    "# Opening the marks.txt file\n",
    "file = open('marks.txt', 'r')\n",
    "\n",
    "# Convert the content of the text file into a list\n",
    "data = file.readlines()\n",
    "\n",
    "sum_of_marks = 0\n",
    "# Go through each row (record) in the list\n",
    "for i in range(1, len(data)):\n",
    "    \n",
    "    # Removing \"\\n\" and splitting the string by commas ','\n",
    "    # Then, separate them into three variables which hold each of the three columns\n",
    "    studentID, name, mark = data[i].replace('\\n', '').split(',')\n",
    "\n",
    "    # To get the sum of all students' marks (then convert it from string to integer)\n",
    "    sum_of_marks = sum_of_marks + int(mark)\n",
    "    \n",
    "# To calculate the average. But -1 because exclude header\n",
    "average = sum_of_marks/(len(data) - 1)\n",
    "\n",
    "# Display the average\n",
    "print(f\"The average of the students' marks is: {average:.2f}\") \n",
    "\n",
    "file.close()"
   ]
  },
  {
   "cell_type": "code",
   "execution_count": 30,
   "metadata": {},
   "outputs": [],
   "source": [
    "# Those who scored 95 or above will be awarded. Create a new file named awarded.txt that \n",
    "# contains the awarded students’ information.\n",
    "\n",
    "# Opening the marks.txt file\n",
    "file = open('marks.txt', 'r')\n",
    "\n",
    "# Convert the content of the text file into a list\n",
    "data = file.readlines()\n",
    "\n",
    "awarded_students = ''\n",
    "\n",
    "# Go through each row (record) in the list\n",
    "for i in range(1, len(data)):\n",
    "    \n",
    "    # Removing \"\\n\" and splitting the string by commas ','\n",
    "    # Then, separate them into three variables which hold each of the three columns\n",
    "    studentID, name, mark = data[i].replace('\\n', '').split(',')\n",
    "\n",
    "    # To check whether the student scores 95 or above\n",
    "    if int(mark) >= 95:\n",
    "        # += means \"increment operator\"\n",
    "        # Store the students' information into the 'awarded_students' variable\n",
    "        awarded_students += f\"{studentID},{name},{mark}\\n\"\n",
    "        \n",
    "file.close()\n",
    "\n",
    "# Create a new file named 'awarded.txt' and save the info\n",
    "file = open('awarded.txt', 'w')\n",
    "file.write(awarded_students)\n",
    "file.close()"
   ]
  },
  {
   "cell_type": "code",
   "execution_count": 31,
   "metadata": {},
   "outputs": [],
   "source": [
    "# Create a new file named grade.txt that adds a new column named “Grade”. The “Grade” \n",
    "# column will contain a grade based on the student’s mark, as referred to in Table 1\n",
    "\n",
    "# Opening the marks.txt file\n",
    "file = open('marks.txt', 'r')\n",
    "\n",
    "# Convert the content of the text file into a list\n",
    "data = file.readlines()\n",
    "\n",
    "graded_students = ''\n",
    "\n",
    "# Go through each row (record) in the list\n",
    "for i in range(1, len(data)):\n",
    "    \n",
    "    # Removing \"\\n\" and splitting the string by commas ','\n",
    "    # Then, separate them into three variables which hold each of the three columns\n",
    "    studentID, name, mark = data[i].replace('\\n', '').split(',')\n",
    "\n",
    "    # Grade the students based on the marks\n",
    "    if int(mark) >= 90:\n",
    "        # += means \"increment operator\"\n",
    "        # Store the students' information into the 'graded_students' variable\n",
    "        # Apply grade \"A\"\n",
    "        graded_students += f\"{studentID},{name},{mark},A\\n\"\n",
    "    elif 70 <= int(mark) <= 89:\n",
    "        # Apply grade \"B\"\n",
    "        graded_students += f\"{studentID},{name},{mark},B\\n\"\n",
    "    elif 50 <= int(mark) <= 69:\n",
    "        # Apply grade \"C\"\n",
    "        graded_students += f\"{studentID},{name},{mark},C\\n\"\n",
    "    else:\n",
    "        # Apply grade \"F\"\n",
    "        graded_students += f\"{studentID},{name},{mark},F\\n\"\n",
    "        \n",
    "file.close()\n",
    "\n",
    "# Create a new file named 'grade.txt' and save the info\n",
    "file = open('grade.txt', 'w')\n",
    "file.write(graded_students)\n",
    "file.close()"
   ]
  }
 ],
 "metadata": {
  "kernelspec": {
   "display_name": "myvenv",
   "language": "python",
   "name": "python3"
  },
  "language_info": {
   "codemirror_mode": {
    "name": "ipython",
    "version": 3
   },
   "file_extension": ".py",
   "mimetype": "text/x-python",
   "name": "python",
   "nbconvert_exporter": "python",
   "pygments_lexer": "ipython3",
   "version": "3.10.10"
  }
 },
 "nbformat": 4,
 "nbformat_minor": 2
}
