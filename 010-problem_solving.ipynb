{
 "cells": [
  {
   "cell_type": "markdown",
   "metadata": {},
   "source": [
    "**Chapter 10**\n",
    "# **Problem Solving**\n",
    "\n",
    "`by Tutor Waiz (Afterkelas.com)`"
   ]
  },
  {
   "cell_type": "markdown",
   "metadata": {},
   "source": [
    "## **Problem 1**: Number Guessing Game\n",
    "Create a program where the computer randomly selects a number between a specified range (e.g., 1 to 100), and the user has to guess the number within a certain amount of attempts. The program should provide hints like \"higher\" or \"lower\" until the user guesses the correct number."
   ]
  },
  {
   "cell_type": "code",
   "execution_count": null,
   "metadata": {},
   "outputs": [],
   "source": []
  },
  {
   "cell_type": "markdown",
   "metadata": {},
   "source": [
    "## **Problem 2**: Word Jumble Game\n",
    "\n",
    "Develop a game where the program selects a random word from a predefined list and jumbles the letters. The player needs to unscramble the letters to guess the original word. You can provide a hint or a limited number of tries."
   ]
  },
  {
   "cell_type": "code",
   "execution_count": null,
   "metadata": {},
   "outputs": [],
   "source": []
  },
  {
   "cell_type": "markdown",
   "metadata": {},
   "source": [
    "## **Problem 3**: Dice Rolling Simulator\n",
    "\n",
    "Create a program that simulates a two-player dice game. In this game, each player takes turns rolling two dice to obtain a sum. The player with the highest sum of the two dice rolls wins the game."
   ]
  },
  {
   "cell_type": "code",
   "execution_count": null,
   "metadata": {},
   "outputs": [],
   "source": []
  },
  {
   "cell_type": "markdown",
   "metadata": {},
   "source": [
    "## **Problem 4**: Shop Inventory Tracking\n",
    "\n",
    "You are tasked with creating a simple command-line shop inventory tracking system using Python. Your program should allow the user to perform the following operations:\n",
    "\n",
    "1. **Add an item:** Allow the user to add an item to the shop's inventory. Each item has a name, a price, and a quantity in stock.\n",
    "\n",
    "2. **List all items:** Display a list of all items in the inventory, including their name, price, and quantity in stock.\n",
    "\n",
    "3. **Update stock:** Allow the user to update the quantity in stock for a specific item in the inventory.\n",
    "\n",
    "4. **Remove an item:** Allow the user to remove an item from the inventory.\n",
    "\n",
    "5. **Quit:** Exit the program."
   ]
  },
  {
   "cell_type": "code",
   "execution_count": null,
   "metadata": {},
   "outputs": [],
   "source": []
  },
  {
   "cell_type": "markdown",
   "metadata": {},
   "source": [
    "## **Problem 5**: ATM Transaction Tracking\n",
    "\n",
    "You are tasked with creating a Python program to track ATM transactions for a single account. The program should allow users to deposit and withdraw money from their account while keeping track of their balance.\n",
    "\n",
    "Requirements:\n",
    "\n",
    "1. Initialize the account balance to $1000.\n",
    "2. Display a menu with the following options:\n",
    "    - **Deposit**\n",
    "    - **Withdraw**\n",
    "    - **Check Balance**\n",
    "    - **Exit**\n",
    "3. Implement the following functionality for each option:\n",
    "    - **Deposit**: Prompt the user to enter the amount to deposit and update the account balance accordingly.\n",
    "    - **Withdraw**: Prompt the user to enter the amount to withdraw. Ensure that the withdrawal amount does not exceed the account balance. If it does, display an error message.\n",
    "    - **Check Balance**: Display the current account balance.\n",
    "    - **Exit**: Terminate the program.\n",
    "4. Continuously display the menu until the user chooses to exit."
   ]
  },
  {
   "cell_type": "code",
   "execution_count": null,
   "metadata": {},
   "outputs": [],
   "source": []
  }
 ],
 "metadata": {
  "kernelspec": {
   "display_name": "python-tutorial",
   "language": "python",
   "name": "python3"
  },
  "language_info": {
   "codemirror_mode": {
    "name": "ipython",
    "version": 3
   },
   "file_extension": ".py",
   "mimetype": "text/x-python",
   "name": "python",
   "nbconvert_exporter": "python",
   "pygments_lexer": "ipython3",
   "version": "3.9.6"
  },
  "orig_nbformat": 4
 },
 "nbformat": 4,
 "nbformat_minor": 2
}
