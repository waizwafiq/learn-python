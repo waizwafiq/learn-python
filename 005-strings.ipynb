{
 "cells": [
  {
   "cell_type": "markdown",
   "metadata": {},
   "source": [
    "**Chapter 5**\n",
    "# **Python Strings**\n",
    "\n",
    "`by Tutor Waiz (Afterkelas.com)`"
   ]
  },
  {
   "cell_type": "markdown",
   "metadata": {},
   "source": [
    "## **1. Assigning Strings**\n",
    "\n",
    "Strings are assigned by surrounding it with the single quotation mark `'` or the double quotation mark `\"`."
   ]
  },
  {
   "cell_type": "code",
   "execution_count": 1,
   "metadata": {},
   "outputs": [
    {
     "name": "stdout",
     "output_type": "stream",
     "text": [
      "This is a single line string being assigned to the variable.\n",
      "This is a single line string being assigned to the variable.\n"
     ]
    }
   ],
   "source": [
    "text1 = \"This is a single line string being assigned to the variable.\"\n",
    "text2 = 'This is a single line string being assigned to the variable.'\n",
    "\n",
    "print(text1)\n",
    "print(text2)"
   ]
  },
  {
   "cell_type": "code",
   "execution_count": 2,
   "metadata": {},
   "outputs": [
    {
     "name": "stdout",
     "output_type": "stream",
     "text": [
      "\n",
      "This is a multi-line string being \n",
      "assigned to the variable.\n",
      "\n",
      "\n",
      "This is a multi-line string being \n",
      "assigned to the variable.\n",
      "\n"
     ]
    }
   ],
   "source": [
    "text3 = \"\"\"\n",
    "This is a multi-line string being \n",
    "assigned to the variable.\n",
    "\"\"\"\n",
    "text4 = '''\n",
    "This is a multi-line string being \n",
    "assigned to the variable.\n",
    "'''\n",
    "\n",
    "print(text3)\n",
    "print(text4)"
   ]
  },
  {
   "cell_type": "markdown",
   "metadata": {},
   "source": [
    "## **2. String as Arrays**\n",
    "\n",
    "Strings are stored as an \"array\" (which we'll cover in the future chapters, especially regarding Data Structures), where the elements are the characters of the string.\n",
    "\n",
    "![Sample](https://1.bp.blogspot.com/-eZVTGWlwir4/X6K2MokmmhI/AAAAAAAAAi8/mxoK3WvuWasbE6E9DDvLD1o3lbQpxokgQCLcBGAsYHQ/s846/string.png)"
   ]
  },
  {
   "cell_type": "code",
   "execution_count": 4,
   "metadata": {},
   "outputs": [
    {
     "name": "stdout",
     "output_type": "stream",
     "text": [
      "y\n"
     ]
    }
   ],
   "source": [
    "# To get the 2nd character, you need to get the character at index 1. (Since Python starts counting from 0)\n",
    "a = \"PyTHON\"\n",
    "print(a[1])"
   ]
  },
  {
   "cell_type": "code",
   "execution_count": 16,
   "metadata": {},
   "outputs": [
    {
     "name": "stdout",
     "output_type": "stream",
     "text": [
      "N\n"
     ]
    }
   ],
   "source": [
    "# We can use negative index to start from the last character in the string.\n",
    "a = \"PyTHON\"\n",
    "print(a[-1])"
   ]
  },
  {
   "cell_type": "code",
   "execution_count": 7,
   "metadata": {},
   "outputs": [
    {
     "name": "stdout",
     "output_type": "stream",
     "text": [
      "6\n"
     ]
    }
   ],
   "source": [
    "# To get the number of characters in a string, use the len() function. len means \"length\"\n",
    "a = \"PyTHON\"\n",
    "print(len(a))"
   ]
  },
  {
   "cell_type": "code",
   "execution_count": 8,
   "metadata": {},
   "outputs": [
    {
     "name": "stdout",
     "output_type": "stream",
     "text": [
      "True\n"
     ]
    }
   ],
   "source": [
    "# You can use the membership operators too.\n",
    "txt = \"I love eating cornflakes with oat milk!\"\n",
    "print(\"corn\" in txt)"
   ]
  },
  {
   "cell_type": "markdown",
   "metadata": {},
   "source": [
    "## **3. Slicing Strings**\n",
    "\n",
    "Since strings are stored as arrays, you can directly fetch a range of characters by using the slice syntax."
   ]
  },
  {
   "cell_type": "code",
   "execution_count": 11,
   "metadata": {},
   "outputs": [
    {
     "name": "stdout",
     "output_type": "stream",
     "text": [
      "THO\n"
     ]
    }
   ],
   "source": [
    "# To get the characters from index 2 to index 4 (we use 5 because 5 is not included):\n",
    "\n",
    "b = \"PyTHON\"\n",
    "print(b[2:5])"
   ]
  },
  {
   "cell_type": "code",
   "execution_count": 12,
   "metadata": {},
   "outputs": [
    {
     "name": "stdout",
     "output_type": "stream",
     "text": [
      "PyTHO\n"
     ]
    }
   ],
   "source": [
    "# To slice from the start, you can disregard the \"start\" index in the slicing syntax.\n",
    "\n",
    "b = \"PyTHON\"\n",
    "print(b[:5])  # Slice up until index 4"
   ]
  },
  {
   "cell_type": "code",
   "execution_count": 13,
   "metadata": {},
   "outputs": [
    {
     "name": "stdout",
     "output_type": "stream",
     "text": [
      "THON\n"
     ]
    }
   ],
   "source": [
    "# To slice to the end, you can disregard the \"end\" index in the slicing syntax.\n",
    "\n",
    "b = \"PyTHON\"\n",
    "print(b[2:])  # Slice from index 2 until the end"
   ]
  },
  {
   "cell_type": "code",
   "execution_count": 17,
   "metadata": {},
   "outputs": [
    {
     "name": "stdout",
     "output_type": "stream",
     "text": [
      "orl\n"
     ]
    }
   ],
   "source": [
    "# We can do negative slicing to start the slice from the last character of the string.\n",
    "b = \"Hello, World!\"\n",
    "print(b[-5:-2])"
   ]
  },
  {
   "cell_type": "markdown",
   "metadata": {},
   "source": [
    "## **4. String Methods**\n",
    "\n",
    "This section covers a few useful built-in methods that you can use on strings.\n",
    "\n",
    "You can check out all of the functions available in Python in this [list](https://www.programiz.com/python-programming/methods/string)."
   ]
  },
  {
   "cell_type": "code",
   "execution_count": 7,
   "metadata": {},
   "outputs": [
    {
     "name": "stdout",
     "output_type": "stream",
     "text": [
      "I LOVE PYTHON!\n"
     ]
    }
   ],
   "source": [
    "# To make the string in uppercase, use the .upper() function\n",
    "\n",
    "var1 = \"I love Python!\"\n",
    "var1 = var1.upper()\n",
    "print(var1)"
   ]
  },
  {
   "cell_type": "code",
   "execution_count": 8,
   "metadata": {},
   "outputs": [
    {
     "name": "stdout",
     "output_type": "stream",
     "text": [
      "i love python!\n"
     ]
    }
   ],
   "source": [
    "# To make the string in lowercase, use the .lower() function\n",
    "\n",
    "var1 = \"I love Python!\"\n",
    "var1 = var1.lower()\n",
    "print(var1)"
   ]
  },
  {
   "cell_type": "code",
   "execution_count": 9,
   "metadata": {},
   "outputs": [
    {
     "name": "stdout",
     "output_type": "stream",
     "text": [
      "I love Python!\n"
     ]
    }
   ],
   "source": [
    "# To remove whitespace (the spaces at the beginning and the end of the string), use the .strip() function.\n",
    "\n",
    "var1 = \"   I love Python!   \"\n",
    "var1 = var1.strip()\n",
    "print(var1)"
   ]
  },
  {
   "cell_type": "code",
   "execution_count": 12,
   "metadata": {},
   "outputs": [
    {
     "name": "stdout",
     "output_type": "stream",
     "text": [
      "I love Javascript!\n"
     ]
    }
   ],
   "source": [
    "# To replace a specified string with another string, use the .replace() function\n",
    "\n",
    "var1 = \"I love Python!\"\n",
    "var1 = var1.replace(\"Python\", \"Javascript\")\n",
    "print(var1)"
   ]
  },
  {
   "cell_type": "code",
   "execution_count": 1,
   "metadata": {},
   "outputs": [
    {
     "name": "stdout",
     "output_type": "stream",
     "text": [
      "['I', 'love', 'Python!']\n"
     ]
    }
   ],
   "source": [
    "# To split the string into substrings with a certain separator, use the .split() function\n",
    "\n",
    "var1 = \"I love Python!\"\n",
    "var1 = var1.split(\" \")\n",
    "print(var1)"
   ]
  },
  {
   "cell_type": "markdown",
   "metadata": {},
   "source": [
    "## **5. Escape Characters**\n",
    "\n",
    "This section covers the ways to insert characters that are illegal in a string. An **escape letter** is a backslash `\\` followed by the illegal character you want to insert.\n",
    "\n",
    "An example of an illegal of an illegal character is a double quote `\"` inside a string surrounded by double quotes."
   ]
  },
  {
   "cell_type": "code",
   "execution_count": 3,
   "metadata": {},
   "outputs": [
    {
     "ename": "SyntaxError",
     "evalue": "invalid syntax (2721022410.py, line 7)",
     "output_type": "error",
     "traceback": [
      "\u001b[0;36m  Cell \u001b[0;32mIn[3], line 7\u001b[0;36m\u001b[0m\n\u001b[0;31m    txt = \"We are the so-called \"Vikings\" from the north.\"\u001b[0m\n\u001b[0m                                 ^\u001b[0m\n\u001b[0;31mSyntaxError\u001b[0m\u001b[0;31m:\u001b[0m invalid syntax\n"
     ]
    }
   ],
   "source": [
    "'''\n",
    "You'll encounter an error if you place double quotes within a string that is itself enclosed by double quotes, \n",
    "as shown in the example below. \n",
    "This happens because Python interprets this as two separate strings: \"We are the so-called \" and \" from the north.\", \n",
    "with the word Vikings outside of the string.\n",
    "'''\n",
    "txt = \"We are the so-called \"Vikings\" from the north.\"\n",
    "print(txt)"
   ]
  },
  {
   "cell_type": "code",
   "execution_count": 4,
   "metadata": {},
   "outputs": [
    {
     "name": "stdout",
     "output_type": "stream",
     "text": [
      "We are the so-called \"Vikings\" from the north.\n"
     ]
    }
   ],
   "source": [
    "'''\n",
    "To fix this problem, use the escape character \\\"\n",
    "The escape character allows you to use double quotes when you normally would not be allowed:\n",
    "'''\n",
    "txt = \"We are the so-called \\\"Vikings\\\" from the north.\"\n",
    "print(txt)"
   ]
  },
  {
   "cell_type": "markdown",
   "metadata": {},
   "source": [
    "Check out all of the other escape characters in this [list](https://www.w3schools.com/python/python_strings_escape.asp)."
   ]
  },
  {
   "cell_type": "markdown",
   "metadata": {},
   "source": [
    "# **PRACTICE TIME!**"
   ]
  },
  {
   "cell_type": "markdown",
   "metadata": {},
   "source": [
    "(a) **Recap:**\n",
    "\n",
    "You are creating a program to greet the user with their name. Write a Python code snippet that takes the user's name as input and then prints a message like this: \n",
    "\n",
    "`\"Hello, [Name]! Welcome to our program.\"`"
   ]
  },
  {
   "cell_type": "code",
   "execution_count": null,
   "metadata": {},
   "outputs": [],
   "source": []
  },
  {
   "cell_type": "markdown",
   "metadata": {},
   "source": [
    "(b) Given a string `sentence = \"Python is fun!\"`, write a Python code snippet to print the character at the 9th position in the string."
   ]
  },
  {
   "cell_type": "code",
   "execution_count": null,
   "metadata": {},
   "outputs": [],
   "source": [
    "sentence = \"Python is fun!\"\n",
    "\n",
    "# Write your code below this line"
   ]
  },
  {
   "cell_type": "markdown",
   "metadata": {},
   "source": [
    "(c) You have a string `quote = \"Life is what happens when you're busy making other plans.\"`. Write a Python code snippet to extract and print the substring \"happens\" from the quote."
   ]
  },
  {
   "cell_type": "code",
   "execution_count": null,
   "metadata": {},
   "outputs": [],
   "source": [
    "quote = \"Life is what happens when you're busy making other plans.\""
   ]
  },
  {
   "cell_type": "markdown",
   "metadata": {},
   "source": [
    "(d) Imagine you're building a text editor. \n",
    "\n",
    "Given a paragraph of text content (no need to prompt the user, you can directly assign the paragraph to a variable in the code), write a Python code snippet to replace all occurrences of the word \"old\" with \"new\" and print the modified paragraph.\n",
    "\n",
    "**Example:**\n",
    "\n",
    "``` py\n",
    "paragraph = \"\"\"Once upon a time, there was an old castle. The old walls were covered in ivy.\n",
    "The old gate creaked with every movement. It was an old place with a rich history.\"\"\"\n",
    "```\n",
    "\n",
    "**Expected Output:**\n",
    "```txt\n",
    "Once upon a time, there was an new castle. The new walls were covered in ivy.\n",
    "The new gate creaked with every movement. It was an new place with a rich history.\n",
    "```\n"
   ]
  },
  {
   "cell_type": "code",
   "execution_count": 7,
   "metadata": {},
   "outputs": [],
   "source": [
    "paragraph = \"\"\"Once upon a time, there was an old castle. The old walls were covered in ivy.\n",
    "The old gate creaked with every movement. It was an old place with a rich history.\"\"\""
   ]
  },
  {
   "cell_type": "markdown",
   "metadata": {},
   "source": [
    "(e) You are creating a program that prompts the user for their first name ONLY. Write a Python code that automatically capitalizes the first letter of the name while making the other letters lowercase.\n",
    "\n",
    "Example:\n",
    "``` txt\n",
    "Enter your first name: wAiZ\n",
    "\n",
    "Your first name is: Waiz\n",
    "```"
   ]
  },
  {
   "cell_type": "code",
   "execution_count": null,
   "metadata": {},
   "outputs": [],
   "source": []
  }
 ],
 "metadata": {
  "kernelspec": {
   "display_name": "python-tutorial",
   "language": "python",
   "name": "python3"
  },
  "language_info": {
   "codemirror_mode": {
    "name": "ipython",
    "version": 3
   },
   "file_extension": ".py",
   "mimetype": "text/x-python",
   "name": "python",
   "nbconvert_exporter": "python",
   "pygments_lexer": "ipython3",
   "version": "3.9.6"
  },
  "orig_nbformat": 4
 },
 "nbformat": 4,
 "nbformat_minor": 2
}
