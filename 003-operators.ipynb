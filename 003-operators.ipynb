{
 "cells": [
  {
   "attachments": {},
   "cell_type": "markdown",
   "metadata": {},
   "source": [
    "**Chapter 3**\n",
    "# **Python Operators**\n",
    "\n",
    "`by Codekelas.com`"
   ]
  },
  {
   "attachments": {},
   "cell_type": "markdown",
   "metadata": {},
   "source": [
    "## **1. Arithmetic Operators**\n",
    "\n",
    "Arithmetic operators are used to perform **mathematical operations** like **addition**, **subtraction**, **multiplication**, etc.\n",
    "\n",
    "| Symbol | Task Performed | Meaning | Example | \n",
    "|:------:|:---------------| :------: |:--------:|\n",
    "| **`+`**      | Addition | Add two operands or unary plus | **x + y** or **+2** | \n",
    "| **`-`**      | Subtraction | Substract right operand from the left or unary minus | **x - y** or **-2** | \n",
    "| **`*`**      | Multiplication | Multiply two operands | **x \\* y** |\n",
    "| **`/`**      | Division | Divide left operand by the right one (always results into float) | **x / y** | \n",
    "| **`%`**      | Modulus (remainder) | Remainder of the division of left operand by the right | **x % y** (remainder of **x/y**) | \n",
    "| **`//`**     | Integer/Floor division | Division that results into whole number adjusted to the left in the number line | **x // y** | \n",
    "| <b>`**`</b>     | Exponentiation (power) | Left operand raised to the power of right | **x \\*\\* y** (**x** to the power **y**) |\n",
    "\n",
    "As expected these operations generally promote to the most general type of any of the numbers involved i.e. int -> float -> complex."
   ]
  },
  {
   "cell_type": "code",
   "execution_count": null,
   "metadata": {},
   "outputs": [],
   "source": [
    "# Arithmetic Operators (+, -, /, *)\n",
    "print('Addition:', 3 + 3)\n",
    "print('Subtraction:', 3 - 5)\n",
    "print('Multiplication:', 3 * 5)\n",
    "print(\"Division:\", 5 / 2)\n",
    "print(\"Module (to get the remainder of the division):\", 182%8) # 182 divided by 6, but get the remainder\n",
    "print(\"Floor function:\", 5//2) # 5 divided by 2, but remove the decimals\n",
    "print(\"Power:\", 3 ** 2)"
   ]
  },
  {
   "attachments": {},
   "cell_type": "markdown",
   "metadata": {},
   "source": [
    "## **2. Comparison/Relational Operators**\n",
    "\n",
    "Comparison operators are used to **compare values**. It either returns **True** or **False** according to the **condition**.\n",
    "\n",
    "| Symbol | Task Performed | Meaning | Example | \n",
    "|:----:| :--- |:--- |:---: |\n",
    "| **`>`** | greater than | `True` if left operand is greater than the right | **x > y** | \n",
    "| **`<`** | less than | `True` if left operand is less than the right | **x < y** | \n",
    "| **`==`** | equal to | `True` if both operands are equal | **x == y** | \n",
    "| **`!=`**  | not equal to | `True` if both operands are not equal | **x != y** | \n",
    "| **`>=`**  | greater than or equal to | `True` if left operand is greater than or equal to the right | **x >= y** | \n",
    "| **`<=`**  | less than or equal to | `True` if left operand is less than or equal to the right | **x <= y** | \n",
    "\n",
    "<br>\n",
    "\n",
    "> **FYI:** Note the difference between **`==`** (equality test) and **`=`** (assignment)"
   ]
  },
  {
   "cell_type": "code",
   "execution_count": null,
   "metadata": {},
   "outputs": [],
   "source": [
    "print(\"Greater than:\", 3 > 3)\n",
    "print(\"Less than:\", 3 < 1)\n",
    "print(\"Equals:\", 5 == 3)\n",
    "print(\"Inequality:\", 5 != 3)\n",
    "print(\"Greater or equal than:\", 3 >= 3)\n",
    "print(\"Less or equal than:\", 9 <= 3)"
   ]
  },
  {
   "attachments": {},
   "cell_type": "markdown",
   "metadata": {},
   "source": [
    "## **3. Logical/Boolean Operators**\n",
    "\n",
    "Logical operators are the **`and`**, **`or`**, **`not`** operators.\n",
    "\n",
    "| Symbol | Meaning | Example | \n",
    "|:----:| :---: |:---:|\n",
    "| **`and`** |  `True` if both the operands are **true** | **x and y** | \n",
    "| **`or`** |  `True` if either of the operand is **true** | **x or y** | \n",
    "| **`not`** |  `True` if operand are **false** *(complements the operand)* | **not x** | "
   ]
  },
  {
   "cell_type": "code",
   "execution_count": null,
   "metadata": {},
   "outputs": [],
   "source": [
    "print(\"AND (all of the statements are True):\", 2 == 2 and 5 > 2 and 1 == 1)\n",
    "print(\"OR (to check if one of the statements is True):\", 2 == 1 or 3 < 2 or 1 == 2)\n",
    "print(\"NOT (invert the statement's True or False):\", not False)"
   ]
  },
  {
   "attachments": {},
   "cell_type": "markdown",
   "metadata": {},
   "source": [
    "## **4. Bitwise Operators**\n",
    "\n",
    "Bitwise operators act on operands as if they were string of binary digits. It operates **bit by bit**, hence the name.\n",
    "\n",
    "**For example:** 2 is **`10`** in binary and 7 is **`111`**.\n",
    "\n",
    "**In the table below:** Let **`x`** = 10 (**`0000 1010`** in binary) and **`y`** = 4 (**`0000 0100`** in binary)\n",
    "\n",
    "| Operator | Meaning  | Symbol | Task Performed | Example |\n",
    "|:---:|:---:| :---:|:---:|:---:|\n",
    "|**`and`** | Logical and |  **`&`**    | Bitwise And | **x & y** = 0 (**`0000 0000`**) | \n",
    "|**`or`**  | Logical or  |  **$\\mid$** | Bitwise OR  | **x \\| y** = 14 (**`0000 1110`**) |\n",
    "|**`not`** | Not         |  **`~`**    | Bitwise NOT | **~x** = -11 (**`1111 0101`**) |\n",
    "| &nbsp;   |&nbsp;       |    **`^`**  | Bitwise XOR | **x ^ y** = 14 (**`0000 1110`**) |\n",
    "| &nbsp;   |&nbsp;       |   **`>>`**  | Bitwise right shift | **x >> 2** = 2 (**`0000 0010`**) |\n",
    "| &nbsp;   |&nbsp;       |   **`<<`**  | Bitwise left shift | **x << 2** = 40 (**`0010 1000`**) |"
   ]
  },
  {
   "cell_type": "code",
   "execution_count": null,
   "metadata": {},
   "outputs": [],
   "source": []
  },
  {
   "cell_type": "markdown",
   "metadata": {},
   "source": [
    "## **5. Assignment Operators**\n",
    "\n",
    "Assignment operators are used in Python to **assign values** to **variables**.\n",
    "\n",
    "**`a = 5`** is a simple assignment operator that assigns the value 5 on the right to the variable **`a`** on the left.\n",
    "\n",
    "There are various compound operators in Python like a **`+= 5`** that adds to the variable and later assigns the same. It is equivalent to **`a = a + 5`**.\n",
    "\n",
    "| Symbol | Example | Equivalent to | Description |\n",
    "|:---:|:---:|:---:|:---:|\n",
    "| **`=`** | **x = 5** | **x = 5** | |\n",
    "| **`+=`** | **x += 5** | **x = x + 5** | aka \"*increments*\" |\n",
    "| **`-=`** | **x -= 5** | **x = x - 5** | aka \"*decrements*\" |\n",
    "| **`*=`** | **x \\*= 5** | **x = x \\* 5** | | \n",
    "| **`/=`** | **x /= 5** | **x = x / 5** | |\n",
    "| **`%=`** | **x %= 5** | **x = x % 5** | |\n",
    "| **`//=`** | **x //= 5** | **x = x // 5** | |\n",
    "| <b>`**=`</b> | **x \\*\\*= 5** | **x = x \\*\\* 5** | |\n",
    "| **`&=`** | **x &= 5** | **x = x & 5** | |\n",
    "| **`\\|=`** | **x \\|= 5** | **x = x \\| 5** | | \n",
    "| **`^=`** | **x ^= 5** | **x = x ^ 5** | |\n",
    "| **`>>=`** | **x >>= 5** | **x = x >> 5** | |\n",
    "| **`<<=`** | **x <<= 5** | **x = x << 5** | |"
   ]
  },
  {
   "cell_type": "code",
   "execution_count": null,
   "metadata": {},
   "outputs": [],
   "source": []
  },
  {
   "cell_type": "markdown",
   "metadata": {},
   "source": [
    "## **6. Identity Operators**\n",
    "\n",
    "**`is`** and **`is not`** are the identity operators in Python. They are used to check if two values (or variables) are located on the same part of the **memory**. Two variables that are equal does not imply that they are **identical**.\n",
    "\n",
    "| Symbol | Meaning | Example | \n",
    "|:---:| :---: |:---:|\n",
    "| **`is`** |  True if the operands are identical (refer to the same object) | **x is True**  | \n",
    "| **`is not`** |  True if the operands are not identical (do not refer to the same object)  | **x is not True** |"
   ]
  },
  {
   "cell_type": "code",
   "execution_count": null,
   "metadata": {},
   "outputs": [],
   "source": []
  },
  {
   "cell_type": "markdown",
   "metadata": {},
   "source": [
    "## **7. Membership Operators**\n",
    "\n",
    "**`in`** and **`not in`** are the membership operators in Python. They are used to test whether a value or variable is found in a **sequence** (**[string](https://github.com/milaan9/02_Python_Datatypes/blob/main/002_Python_String.ipynb)**, **[list](https://github.com/milaan9/02_Python_Datatypes/blob/main/003_Python_List.ipynb)**, **[tuple](https://github.com/milaan9/02_Python_Datatypes/blob/main/004_Python_Tuple.ipynb)**, **[set](https://github.com/milaan9/02_Python_Datatypes/blob/main/006_Python_Sets.ipynb)** and **[dictionary](https://github.com/milaan9/02_Python_Datatypes/blob/main/005_Python_Dictionary.ipynb)**), which will be covered in detail in the future chapter.\n",
    "\n",
    "In a dictionary we can only test for presence of **key, not the value** (to be covered in the future chapter).\n",
    "\n",
    "| Symbol | Meaning | Example | \n",
    "|:---:| :---: |:---:|\n",
    "| **`in`** |  True if value/variable is found in sequence | **5 in x**  | \n",
    "| **`not in`** |  True if value/variable is not found in sequence | **5 not in x**  |"
   ]
  },
  {
   "cell_type": "code",
   "execution_count": 1,
   "metadata": {},
   "outputs": [
    {
     "name": "stdout",
     "output_type": "stream",
     "text": [
      "True\n",
      "True\n",
      "True\n",
      "False\n"
     ]
    }
   ],
   "source": [
    "x = 'Hello world'\n",
    "y = [1, 2, 'yippie', 24.5]\n",
    "\n",
    "# Output: True\n",
    "print('H' in x)  # Do we have 'H' in the string 'Hello World'?\n",
    "\n",
    "# Output: True\n",
    "print('hello' not in x)  # Do we have 'hello' in the string 'Hello World'?\n",
    "\n",
    "# Output: True\n",
    "print(1 in y)  # Do we have number 1 in the list y?\n",
    "\n",
    "# Output: False because the string 'a' is not in the list y.\n",
    "print('a' in y)"
   ]
  },
  {
   "cell_type": "markdown",
   "metadata": {},
   "source": [
    "# **PRACTICE TIME!**"
   ]
  },
  {
   "cell_type": "markdown",
   "metadata": {},
   "source": [
    "**(a)** Write a code that prompts the user to enter side a, side b, and side c of the triangle. Calculate the perimeter of the triangle (`perimeter, P = a + b + c`)."
   ]
  },
  {
   "cell_type": "code",
   "execution_count": null,
   "metadata": {},
   "outputs": [],
   "source": []
  },
  {
   "cell_type": "markdown",
   "metadata": {},
   "source": [
    "**(b)** Write a code that prompts the user to enter base, $b$ and height, $h$ of the triangle and calculate an area of a triangle.\n",
    "\n",
    "$ Area = \\frac{1}{2} \\times b \\times h$"
   ]
  },
  {
   "cell_type": "code",
   "execution_count": null,
   "metadata": {},
   "outputs": [],
   "source": []
  },
  {
   "cell_type": "markdown",
   "metadata": {},
   "source": [
    "**(c)** Write a Python program to calculate the total cost of purchasing multiple items. \n",
    "\n",
    "Ask the user to enter the price of three items and store them in variables `item1_price`, `item2_price`, and `item3_price`. Prompt the user to enter the quantity of each item and store the values in variables `item1_quantity`, `item2_quantity`, and `item3_quantity`. \n",
    "\n",
    "Calculate the total cost by multiplying the price and quantity for each item, and store it in a variable called total_cost. Finally, print the total cost as `\"The total cost is SGD[total_cost].\"`"
   ]
  },
  {
   "cell_type": "code",
   "execution_count": null,
   "metadata": {},
   "outputs": [],
   "source": []
  },
  {
   "cell_type": "markdown",
   "metadata": {},
   "source": [
    "**(d)** Calculate the slope and Euclidean distance between point (2, 2) and point (6,10).\n",
    "\n",
    "Slope equation: $m = \\frac{y_2 - y_1}{x_2 - x_1}$\n",
    "\n",
    "Euclidean distance: $d_{euclidean} = \\sqrt{(x_1 - x_2)^2 + (y_1 - y_2)^2}$"
   ]
  },
  {
   "cell_type": "code",
   "execution_count": null,
   "metadata": {},
   "outputs": [],
   "source": []
  },
  {
   "cell_type": "markdown",
   "metadata": {},
   "source": [
    "**(e)** Check if there is no `on` in both `python` and `cannon`."
   ]
  },
  {
   "cell_type": "code",
   "execution_count": null,
   "metadata": {},
   "outputs": [],
   "source": []
  },
  {
   "cell_type": "markdown",
   "metadata": {},
   "source": [
    "**(f)** Write a code that prompts the user to enter hours and rate per hour. Calculate the pay of the person.\n",
    "\n",
    "Expected output:\n",
    "```\n",
    "Enter hours: 40\n",
    "Enter rate per hour: 30\n",
    "Your weekly earning is 1200\n",
    "```"
   ]
  },
  {
   "cell_type": "code",
   "execution_count": null,
   "metadata": {},
   "outputs": [],
   "source": []
  },
  {
   "cell_type": "markdown",
   "metadata": {},
   "source": [
    "**(g)** Write a code that gets an integer using prompt. Then, check if the number is an odd number and divisible by 5."
   ]
  },
  {
   "cell_type": "code",
   "execution_count": null,
   "metadata": {},
   "outputs": [],
   "source": []
  },
  {
   "cell_type": "markdown",
   "metadata": {},
   "source": [
    "**(h)** Write a code that gets two 2D coordinates using prompt. Then, calculate the midpoint between those two coordinates.\n",
    "\n",
    "Midpoint: $c = \\frac{a+b}{2}$"
   ]
  },
  {
   "cell_type": "code",
   "execution_count": null,
   "metadata": {},
   "outputs": [],
   "source": []
  },
  {
   "cell_type": "markdown",
   "metadata": {},
   "source": [
    "**(i)** Write a code that calculates the average of five numbers obtained using prompt."
   ]
  },
  {
   "cell_type": "code",
   "execution_count": null,
   "metadata": {},
   "outputs": [],
   "source": []
  },
  {
   "cell_type": "markdown",
   "metadata": {},
   "source": [
    "**(j)** Write a code that converts the temperature in Celsius (obtained using prompt) to Fahrenheit using the formula below:\n",
    "\n",
    "$F = \\frac{9}{5}C + 32$"
   ]
  },
  {
   "cell_type": "code",
   "execution_count": null,
   "metadata": {},
   "outputs": [],
   "source": []
  },
  {
   "cell_type": "markdown",
   "metadata": {},
   "source": [
    "**(k)** Create a program that asks the user for their name and age. \n",
    "\n",
    "Then, print a message that says, `\"Hello, [name]! You will turn [age + 1] next year.\"`"
   ]
  },
  {
   "cell_type": "code",
   "execution_count": null,
   "metadata": {},
   "outputs": [],
   "source": []
  },
  {
   "cell_type": "markdown",
   "metadata": {},
   "source": [
    "**(l)** Given a quadratic equation in the form $ax^2 + bx + c = 0$ can be calculated using the formula:\n",
    "\n",
    "Discriminant: $D = b^2 - 4ac$\n",
    "\n",
    "The determinant is used to determine the nature of the roots of the quadratic equation. If $D > 0$ the equation has two distinct real roots. If $D = 0$ the equation has two equal real roots. And if $D < 0$ the equation has two complex roots.\n",
    "\n",
    "Write a Python program that takes the coefficients $a$, $b$, and $c$ of a quadratic equation as inputs and calculates the determinant. Display the determinant and also print a message indicating the nature of the roots based on the value of the determinant.\n",
    "\n",
    "Example:\n",
    "\n",
    "Input:\n",
    "```\n",
    "a = 1\n",
    "b = 3\n",
    "c = -2\n",
    "```\n",
    "\n",
    "Output:\n",
    "```\n",
    "Determinant: 17\n",
    "Nature of Roots:\n",
    "1. Two distinct real roots?: True\n",
    "2. Two equal real roots?: False\n",
    "3. Two complex roots?: False\n",
    "```"
   ]
  },
  {
   "cell_type": "code",
   "execution_count": null,
   "metadata": {},
   "outputs": [],
   "source": []
  },
  {
   "cell_type": "markdown",
   "metadata": {},
   "source": [
    "**(m)** \n",
    "\n",
    "In a chess tournament, the Elo rating system is commonly used to estimate the skill level of players. The expected score of a player can be calculated using the formula:\n",
    "\n",
    "$E = (1 + 10^\\frac{(Rb - Ra)}{400})^{-1}$\n",
    "\n",
    "where:\n",
    "\n",
    "- $E$ is the expected score of the player with rating $R_{a}$.\n",
    "- $R_{b}$ is the rating of the opponent.\n",
    "\n",
    "Write a Python program that takes the ratings of two players as inputs and calculates the expected score for the player with the first rating. Display the expected score rounded to two decimal places.\n",
    "\n",
    "Then, determine if the player has the upper hand by using the condition below:\n",
    "\n",
    "$\n",
    "\\text{Upper hand} =\n",
    "\\begin{cases}\n",
    "    \\text{True} & \\text{if } E_{a} \\geq 0.5 \\\\\n",
    "    \\text{False} & \\text{if } E_{a} < 0.5\n",
    "\\end{cases}\n",
    "$\n",
    "\n",
    "\n",
    "Example:\n",
    "Input:\n",
    "```\n",
    "Player 1 rating: 1500\n",
    "Player 2 rating: 1700\n",
    "```\n",
    "\n",
    "Output:\n",
    "```\n",
    "Expected score for Player 1: 0.36\n",
    "Does Player 1 have the upper hand?: False\n",
    "```\n",
    "\n",
    "Can you implement the program to solve this problem?"
   ]
  },
  {
   "cell_type": "code",
   "execution_count": null,
   "metadata": {},
   "outputs": [],
   "source": []
  }
 ],
 "metadata": {
  "kernelspec": {
   "display_name": "python-tutorial",
   "language": "python",
   "name": "python3"
  },
  "language_info": {
   "codemirror_mode": {
    "name": "ipython",
    "version": 3
   },
   "file_extension": ".py",
   "mimetype": "text/x-python",
   "name": "python",
   "nbconvert_exporter": "python",
   "pygments_lexer": "ipython3",
   "version": "3.9.6"
  },
  "orig_nbformat": 4
 },
 "nbformat": 4,
 "nbformat_minor": 2
}
