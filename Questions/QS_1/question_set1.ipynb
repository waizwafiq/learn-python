{
 "cells": [
  {
   "cell_type": "markdown",
   "metadata": {},
   "source": [
    "# Question 1\n",
    "\n",
    "Create a program that prompts the user to enter values for different data types (integer, float, string). Perform type conversion and display the data type of each entered value."
   ]
  },
  {
   "cell_type": "code",
   "execution_count": null,
   "metadata": {},
   "outputs": [],
   "source": []
  },
  {
   "cell_type": "markdown",
   "metadata": {},
   "source": [
    "# Question 2\n",
    "\n",
    "Write a Python script that takes two decimal numbers as input and performs arithmetic operations (addition, subtraction, multiplication, division, modulus, and floor division). Display the results of each operation."
   ]
  },
  {
   "cell_type": "code",
   "execution_count": null,
   "metadata": {},
   "outputs": [],
   "source": []
  },
  {
   "cell_type": "markdown",
   "metadata": {},
   "source": [
    "# Question 3\n",
    "\n",
    "Create a Python script to check if a given string is a palindrome.\n",
    "\n",
    "The word 'racecar' is a palindrome, as the reverse of the string is the same as its original."
   ]
  },
  {
   "cell_type": "code",
   "execution_count": null,
   "metadata": {},
   "outputs": [],
   "source": []
  },
  {
   "cell_type": "markdown",
   "metadata": {},
   "source": [
    "# Question 4\n",
    "\n",
    "Develop a program that counts the occurrences of a specific character in a given string.\n",
    "\n",
    "**Sample output:**\n",
    "\n",
    "```md\n",
    "Enter a string: programming is fun\n",
    "Enter a character to count: g\n",
    "The character 'g' appears 3 times in the string.\n",
    "```"
   ]
  },
  {
   "cell_type": "code",
   "execution_count": null,
   "metadata": {},
   "outputs": [],
   "source": []
  },
  {
   "cell_type": "markdown",
   "metadata": {},
   "source": [
    "# Question 5\n",
    "\n",
    "Write a Python script that checks whether a given number is divisible by 17 or not."
   ]
  },
  {
   "cell_type": "code",
   "execution_count": null,
   "metadata": {},
   "outputs": [],
   "source": []
  },
  {
   "cell_type": "markdown",
   "metadata": {},
   "source": [
    "# Question 6\n",
    "\n",
    "Create a program that determines if a given year is a leap year or not. The condition to determine if a given year is a leap year or not is as follows:\n",
    "\n",
    "> If the year is evenly divisible by 4, but it is not divisible by 100 unless it is also divisible by 400, then it is a leap year.\n",
    "\n",
    "**Sample Output:**\n",
    "```md\n",
    "Enter a year: 2024\n",
    "The year 2024 is a leap year.\n",
    "```"
   ]
  },
  {
   "cell_type": "code",
   "execution_count": null,
   "metadata": {},
   "outputs": [],
   "source": []
  },
  {
   "cell_type": "markdown",
   "metadata": {},
   "source": [
    "# Question 7\n",
    "\n",
    "Implement a program that checks whether a number is positive, negative, or zero."
   ]
  },
  {
   "cell_type": "code",
   "execution_count": null,
   "metadata": {},
   "outputs": [],
   "source": []
  },
  {
   "cell_type": "markdown",
   "metadata": {},
   "source": [
    "# Question 8\n",
    "\n",
    "Write a Python script to find the factorial of a given number using a loop. The factorial of a non-negative integer n is the product of all positive integers less than or equal to n. It is denoted by n! and calculated as follows:\n",
    "\n",
    "$n! = n \\times (n-1) \\times (n-2) \\times \\ldots \\times 2 \\times 1$"
   ]
  },
  {
   "cell_type": "code",
   "execution_count": null,
   "metadata": {},
   "outputs": [],
   "source": []
  },
  {
   "cell_type": "markdown",
   "metadata": {},
   "source": [
    "# Question 9\n",
    "\n",
    "Implement a program that removes duplicates from a given list.\n",
    "\n",
    "**Sample Output**:\n",
    "```md\n",
    "Enter a list of numbers separated by spaces: 3 1 4 1 5 9 2 6 5 3 5\n",
    "The list after removing duplicates: [3, 1, 4, 5, 9, 2, 6]\n",
    "```"
   ]
  },
  {
   "cell_type": "code",
   "execution_count": null,
   "metadata": {},
   "outputs": [],
   "source": []
  },
  {
   "cell_type": "markdown",
   "metadata": {},
   "source": [
    "# Question 10\n",
    "\n",
    "Create a Python script to find the second largest element in a list.\n",
    "\n",
    "**Sample Output:**\n",
    "```md\n",
    "Enter a list of numbers separated by spaces: 10 5 8 12 7 15\n",
    "The second largest element in the list is: 12\n",
    "```"
   ]
  },
  {
   "cell_type": "code",
   "execution_count": null,
   "metadata": {},
   "outputs": [],
   "source": []
  },
  {
   "cell_type": "markdown",
   "metadata": {},
   "source": [
    "# Question 11\n",
    "\n",
    "Write a program that reads the text file 'text_sample1.txt', counts the number of words, and writes the result into a new text file called 'output_Q11.txt' ."
   ]
  },
  {
   "cell_type": "code",
   "execution_count": null,
   "metadata": {},
   "outputs": [],
   "source": []
  },
  {
   "cell_type": "markdown",
   "metadata": {},
   "source": [
    "# Question 12\n",
    "\n",
    "Calculate the sum of all even numbers from 1 to 10 using a loop."
   ]
  },
  {
   "cell_type": "code",
   "execution_count": null,
   "metadata": {},
   "outputs": [],
   "source": []
  },
  {
   "cell_type": "markdown",
   "metadata": {},
   "source": [
    "# Question 13\n",
    "\n",
    "Develop a script that counts the frequency of each character in a given string.\n",
    "\n",
    "**Sample Output:**\n",
    "```md\n",
    "Enter a string: programming is fun\n",
    "Character 'p' appears 1 times in the string.\n",
    "Character 'r' appears 2 times in the string.\n",
    "Character 'o' appears 1 times in the string.\n",
    "Character 'g' appears 2 times in the string.\n",
    "Character 'a' appears 1 times in the string.\n",
    "Character 'm' appears 2 times in the string.\n",
    "Character 'i' appears 2 times in the string.\n",
    "Character 'n' appears 3 times in the string.\n",
    "Character ' ' appears 2 times in the string.\n",
    "Character 's' appears 1 times in the string.\n",
    "Character 'f' appears 1 times in the string.\n",
    "Character 'u' appears 1 times in the string.\n",
    "```"
   ]
  },
  {
   "cell_type": "code",
   "execution_count": null,
   "metadata": {},
   "outputs": [],
   "source": []
  },
  {
   "cell_type": "markdown",
   "metadata": {},
   "source": [
    "# Question 14\n",
    "\n",
    "Create a program that calculates the Body Mass Index (BMI) based on the user's weight in kilograms and height in meters.\n",
    "\n",
    "$\\text{BMI} = \\frac{\\text{Weight (kg)}}{\\text{Height (m)}^2}$\n",
    "\n",
    "Then, classify the BMI into different categories according to the following ranges:\n",
    "\n",
    "- BMI less than 18.5: **Underweight**\n",
    "- BMI between 18.5 and 24.9: **Normal weight**\n",
    "- BMI between 25 and 29.9: **Overweight**\n",
    "- BMI 30 or greater: **Obesity**"
   ]
  },
  {
   "cell_type": "code",
   "execution_count": null,
   "metadata": {},
   "outputs": [],
   "source": []
  },
  {
   "cell_type": "markdown",
   "metadata": {},
   "source": [
    "# Question 15\n",
    "\n",
    "Write a Python script that determines the largest among three numbers using conditional statements."
   ]
  },
  {
   "cell_type": "code",
   "execution_count": null,
   "metadata": {},
   "outputs": [],
   "source": []
  }
 ],
 "metadata": {
  "kernelspec": {
   "display_name": "learn-python-env",
   "language": "python",
   "name": "python3"
  },
  "language_info": {
   "codemirror_mode": {
    "name": "ipython",
    "version": 3
   },
   "file_extension": ".py",
   "mimetype": "text/x-python",
   "name": "python",
   "nbconvert_exporter": "python",
   "pygments_lexer": "ipython3",
   "version": "3.12.0"
  }
 },
 "nbformat": 4,
 "nbformat_minor": 2
}
